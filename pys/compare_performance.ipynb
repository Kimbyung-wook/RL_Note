{
 "cells": [
  {
   "cell_type": "code",
   "execution_count": null,
   "source": [
    "import numpy as np\n",
    "import matplotlib.pyplot as plt\n",
    "pendulum_ddpg_epi           = np.load('./result/data/Pendulum-v0_DDPG_ER_TF_epi.npy')\n",
    "pendulum_ddpg_score_avg     = np.load('./result/data/Pendulum-v0_DDPG_ER_TF_scores_avg.npy')\n",
    "pendulum_ddpg_score_raw     = np.load('./result/data/Pendulum-v0_DDPG_ER_TF_scores_raw.npy')\n",
    "pendulum_ddpg_per_epi       = np.load('./result/data/Pendulum-v0_DDPG_PER_TF_epi.npy')\n",
    "pendulum_ddpg_per_score_avg = np.load('./result/data/Pendulum-v0_DDPG_PER_TF_scores_avg.npy')\n",
    "pendulum_ddpg_per_score_raw = np.load('./result/data/Pendulum-v0_DDPG_PER_TF_scores_raw.npy')\n",
    "pendulum_td3_epi            = np.load('./result/data/Pendulum-v0_TD3_ER_TF_epi.npy')\n",
    "pendulum_td3_score_avg      = np.load('./result/data/Pendulum-v0_TD3_ER_TF_scores_avg.npy')\n",
    "pendulum_td3_score_raw      = np.load('./result/data/Pendulum-v0_TD3_ER_TF_scores_raw.npy')\n",
    "pendulum_td3_per_epi        = np.load('./result/data/Pendulum-v0_TD3_PER_TF_epi.npy')\n",
    "pendulum_td3_per_score_avg  = np.load('./result/data/Pendulum-v0_TD3_PER_TF_scores_avg.npy')\n",
    "pendulum_td3_per_score_raw  = np.load('./result/data/Pendulum-v0_TD3_PER_TF_scores_raw.npy')\n",
    "pendulum_sac_epi            = np.load('./result/data/Pendulum-v0_SAC_ER_TF_epi.npy')\n",
    "pendulum_sac_score_avg      = np.load('./result/data/Pendulum-v0_SAC_ER_TF_scores_avg.npy')\n",
    "pendulum_sac_score_raw      = np.load('./result/data/Pendulum-v0_SAC_ER_TF_scores_raw.npy')\n",
    "pendulum_sac_per_epi        = np.load('./result/data/Pendulum-v0_SAC_PER_TF_epi.npy')\n",
    "pendulum_sac_per_score_avg  = np.load('./result/data/Pendulum-v0_SAC_PER_TF_scores_avg.npy')\n",
    "pendulum_sac_per_score_raw  = np.load('./result/data/Pendulum-v0_SAC_PER_TF_scores_raw.npy')"
   ],
   "outputs": [],
   "metadata": {}
  },
  {
   "cell_type": "code",
   "execution_count": null,
   "source": [
    "%matplotlib tk\r\n",
    "fig = plt.figure(1)\r\n",
    "fig.set_size_inches(8,6)\r\n",
    "plt.plot(pendulum_ddpg_epi,pendulum_ddpg_score_avg,             label='DDPG',c='b')\r\n",
    "plt.plot(pendulum_ddpg_per_epi,pendulum_ddpg_per_score_avg,     label='DDPG_PER',c='b',linestyle='dashed')\r\n",
    "plt.plot(pendulum_td3_epi,pendulum_td3_score_avg,               label='TD3',c='g')\r\n",
    "plt.plot(pendulum_td3_per_epi,pendulum_td3_per_score_avg,       label='TD3_PER',c='g',linestyle='dashed')\r\n",
    "plt.plot(pendulum_sac_epi,pendulum_sac_score_avg,               label='SAC',c='r')\r\n",
    "plt.plot(pendulum_sac_per_epi,pendulum_sac_per_score_avg,       label='SAC_PER',c='r',linestyle='dashed')\r\n",
    "plt.plot(pendulum_ddpg_epi,pendulum_ddpg_score_raw,             label='DDPG',c='b',alpha=0.2,linewidth=0.5)\r\n",
    "plt.plot(pendulum_ddpg_per_epi,pendulum_ddpg_per_score_raw,     label='DDPG_PER',c='b',alpha=0.2,linewidth=0.5,linestyle='dashed')\r\n",
    "plt.plot(pendulum_td3_epi,pendulum_td3_score_raw,               label='TD3',c='g',alpha=0.2,linewidth=0.5)\r\n",
    "plt.plot(pendulum_td3_per_epi,pendulum_td3_per_score_raw,       label='TD3_PER',c='g',alpha=0.2,linewidth=0.5,linestyle='dashed')\r\n",
    "plt.plot(pendulum_sac_epi,pendulum_sac_score_raw,               label='SAC',c='r',alpha=0.2,linewidth=0.5)\r\n",
    "plt.plot(pendulum_sac_per_epi,pendulum_sac_per_score_raw,       label='SAC_PER',c='r',alpha=0.2,linewidth=0.5,linestyle='dashed')\r\n",
    "plt.xlabel('episode')\r\n",
    "plt.ylabel('score')\r\n",
    "plt.grid()\r\n",
    "plt.legend()\r\n",
    "plt.legend(['DDPG','DDPG PER','TD3','TD3 PER','SAC','SAC PER'],loc='lower right')\r\n",
    "plt.title('Performance Comparison : Pendulum')\r\n",
    "plt.savefig(\"compare_agents.png\",dpi=100)"
   ],
   "outputs": [],
   "metadata": {}
  },
  {
   "cell_type": "code",
   "execution_count": 5,
   "source": [
    "%matplotlib tk\n",
    "import numpy as np\n",
    "import matplotlib.pyplot as plt\n",
    "fig = plt.figure(1)\n",
    "fig.set_size_inches(6,12)\n",
    "cfg = { \"ENV\":\"Pendulum-v0\",\\\n",
    "        \"RL\":\"DDPG\"\n",
    "        }\n",
    "FILENAME = cfg[\"ENV\"] + '_' + cfg[\"RL\"]\n",
    "epi             = np.load(\"./result/data/\" + cfg[\"ENV\"] + '_' + cfg[\"RL\"] + \"_ER_TF_epi.npy\")\n",
    "score_avg       = np.load(\"./result/data/\" + cfg[\"ENV\"] + '_' + cfg[\"RL\"] + \"_ER_TF_scores_avg.npy\")\n",
    "score_raw       = np.load(\"./result/data/\" + cfg[\"ENV\"] + '_' + cfg[\"RL\"] + \"_ER_TF_scores_raw.npy\")\n",
    "critic_mean     = np.load(\"./result/data/\" + cfg[\"ENV\"] + '_' + cfg[\"RL\"] + \"_ER_TF_critic_mean.npy\")\n",
    "actor_mean      = np.load(\"./result/data/\" + cfg[\"ENV\"] + '_' + cfg[\"RL\"] + \"_ER_TF_actor_mean.npy\")\n",
    "per_epi         = np.load(\"./result/data/\" + cfg[\"ENV\"] + '_' + cfg[\"RL\"] + \"_PER_TF_epi.npy\")\n",
    "per_score_avg   = np.load(\"./result/data/\" + cfg[\"ENV\"] + '_' + cfg[\"RL\"] + \"_PER_TF_scores_avg.npy\")\n",
    "per_score_raw   = np.load(\"./result/data/\" + cfg[\"ENV\"] + '_' + cfg[\"RL\"] + \"_PER_TF_scores_raw.npy\")\n",
    "per_critic_mean = np.load(\"./result/data/\" + cfg[\"ENV\"] + '_' + cfg[\"RL\"] + \"_PER_TF_critic_mean.npy\")\n",
    "per_actor_mean  = np.load(\"./result/data/\" + cfg[\"ENV\"] + '_' + cfg[\"RL\"] + \"_PER_TF_actor_mean.npy\")\n",
    "her_epi         = np.load(\"./result/data/\" + cfg[\"ENV\"] + '_' + cfg[\"RL\"] + \"_HER_TF_epi.npy\")\n",
    "her_score_avg   = np.load(\"./result/data/\" + cfg[\"ENV\"] + '_' + cfg[\"RL\"] + \"_HER_TF_scores_avg.npy\")\n",
    "her_score_raw   = np.load(\"./result/data/\" + cfg[\"ENV\"] + '_' + cfg[\"RL\"] + \"_HER_TF_scores_raw.npy\")\n",
    "her_critic_mean = np.load(\"./result/data/\" + cfg[\"ENV\"] + '_' + cfg[\"RL\"] + \"_HER_TF_critic_mean.npy\")\n",
    "her_actor_mean  = np.load(\"./result/data/\" + cfg[\"ENV\"] + '_' + cfg[\"RL\"] + \"_HER_TF_actor_mean.npy\")\n",
    "plt.subplot(311)\n",
    "plt.plot(epi,      score_avg,     label=[cfg[\"RL\"]+'-ER' ],c='b')\n",
    "plt.plot(per_epi,  per_score_avg, label=[cfg[\"RL\"]+'-PER'],c='g')\n",
    "plt.plot(her_epi,  her_score_avg, label=[cfg[\"RL\"]+'-HER'],c='m')\n",
    "plt.plot(epi,      score_raw,     label=[cfg[\"RL\"]+'-ER' ],c='b',alpha=0.2,linewidth=0.5)\n",
    "plt.plot(per_epi,  per_score_raw, label=[cfg[\"RL\"]+'-PER'],c='g',alpha=0.2,linewidth=0.5)\n",
    "plt.plot(her_epi,  her_score_raw, label=[cfg[\"RL\"]+'-HER'],c='m',alpha=0.2,linewidth=0.5)\n",
    "plt.title('Performance Comparison : ' + cfg[\"ENV\"] + '_' + cfg[\"RL\"])\n",
    "plt.ylabel('score')\n",
    "plt.grid()\n",
    "plt.subplot(312)\n",
    "plt.plot(epi,      critic_mean,     label=[cfg[\"RL\"]+'-ER' ],c='b')\n",
    "plt.plot(per_epi,  per_critic_mean, label=[cfg[\"RL\"]+'-PER'],c='g',linestyle='dashed')\n",
    "plt.plot(her_epi,  her_critic_mean, label=[cfg[\"RL\"]+'-HER'],c='m',linestyle='dotted')\n",
    "plt.ylabel('critic_mean')\n",
    "plt.grid()\n",
    "plt.subplot(313)\n",
    "plt.plot(epi,      actor_mean,     label=[cfg[\"RL\"]+'-ER' ],c='b')\n",
    "plt.plot(per_epi,  per_actor_mean, label=[cfg[\"RL\"]+'-PER'],c='g',linestyle='dashed')\n",
    "plt.plot(her_epi,  her_actor_mean, label=[cfg[\"RL\"]+'-HER'],c='m',linestyle='dotted')\n",
    "plt.ylabel('actor_mean')\n",
    "plt.xlabel('episode')\n",
    "plt.grid()\n",
    "plt.legend()\n",
    "plt.legend([cfg[\"RL\"]+'-ER', cfg[\"RL\"]+'-PER', cfg[\"RL\"]+'-HER'],loc='lower right')\n",
    "plt.savefig(\"compare_er_algorithms_\"+FILENAME+\".png\",dpi=100)"
   ],
   "outputs": [],
   "metadata": {}
  },
  {
   "cell_type": "code",
   "execution_count": null,
   "metadata": {},
   "outputs": [],
   "source": []
  }
 ],
 "metadata": {
  "kernelspec": {
   "name": "python3",
   "display_name": "Python 3.7.9 64-bit ('TF240': conda)",
   "metadata": {
    "interpreter": {
     "hash": "8f237aa33f5a133d3a67a1e00bf3cb9d47b6c38bcc6ab493273f5d4df41b8866"
    }
   }
  },
  "language_info": {
   "codemirror_mode": {
    "name": "ipython",
    "version": 3
   },
   "file_extension": ".py",
   "mimetype": "text/x-python",
   "name": "python",
   "nbconvert_exporter": "python",
   "pygments_lexer": "ipython3",
   "version": "3.7.9"
  },
  "interpreter": {
   "hash": "f7f3f20f7907c4d59130059bf0ac4ad20e77f96568ae424e1dedda78aa67e631"
  }
 },
 "nbformat": 4,
 "nbformat_minor": 5
}