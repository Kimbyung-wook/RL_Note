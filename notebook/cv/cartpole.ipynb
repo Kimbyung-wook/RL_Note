{
 "metadata": {
  "language_info": {
   "codemirror_mode": {
    "name": "ipython",
    "version": 3
   },
   "file_extension": ".py",
   "mimetype": "text/x-python",
   "name": "python",
   "nbconvert_exporter": "python",
   "pygments_lexer": "ipython3",
   "version": "3.7.10"
  },
  "orig_nbformat": 2,
  "kernelspec": {
   "name": "python3",
   "display_name": "Python 3.7.10 64-bit ('tf240': conda)"
  },
  "interpreter": {
   "hash": "fbba320975a9114d2433fba427f26c389728c846a7c4900c481dce2a1a9f6231"
  }
 },
 "nbformat": 4,
 "nbformat_minor": 2,
 "cells": [
  {
   "cell_type": "code",
   "execution_count": null,
   "source": [
    "# Find RL_Note path and append sys path\r\n",
    "import os, sys\r\n",
    "cwd = os.getcwd()\r\n",
    "dir_name = 'RL_Note'\r\n",
    "pos = cwd.find(dir_name)\r\n",
    "root_path = cwd[0:pos] + dir_name\r\n",
    "sys.path.append(root_path)\r\n",
    "print(root_path)\r\n",
    "workspace_path = root_path + \"\\\\pys\""
   ],
   "outputs": [],
   "metadata": {}
  },
  {
   "cell_type": "code",
   "execution_count": null,
   "source": [
    "import gym\r\n",
    "import random\r\n",
    "import numpy as np\r\n",
    "import matplotlib.pyplot as plt\r\n",
    "import tensorflow as tf\r\n",
    "import cv2\r\n",
    "from tensorflow.keras.layers import Dense\r\n",
    "from tensorflow.keras.layers import Conv2D, MaxPool2D, Flatten\r\n",
    "from pys.utils.er import ReplayMemory\r\n",
    "from pys.utils.per import ProportionalPrioritizedMemory"
   ],
   "outputs": [],
   "metadata": {}
  },
  {
   "cell_type": "code",
   "execution_count": null,
   "source": [
    "env = gym.make(\"CartPole-v1\")\r\n",
    "state = env.reset()"
   ],
   "outputs": [],
   "metadata": {}
  },
  {
   "cell_type": "code",
   "execution_count": null,
   "source": [
    "# Get original Image\r\n",
    "img =  env.render(mode='rgb_array')\r\n",
    "plt.imshow(img)\r\n",
    "print(np.shape(img))"
   ],
   "outputs": [],
   "metadata": {}
  },
  {
   "cell_type": "code",
   "execution_count": null,
   "source": [
    "# Resize Image\r\n",
    "img_rgb =  env.render(mode='rgb_array')\r\n",
    "img_rgb_resize = cv2.resize(img_rgb, (240, 160), interpolation=cv2.INTER_CUBIC)\r\n",
    "plt.imshow(img_rgb_resize)\r\n",
    "print(np.shape(img_rgb_resize))"
   ],
   "outputs": [],
   "metadata": {}
  },
  {
   "cell_type": "code",
   "execution_count": null,
   "source": [
    "# Resize and Cut\r\n",
    "img_rgb =  env.render(mode='rgb_array')\r\n",
    "img_rgb_resize = cv2.resize(img_rgb, (240, 160), interpolation=cv2.INTER_CUBIC)\r\n",
    "img_rgb_resize[img_rgb_resize < 255] = 0\r\n",
    "plt.imshow(img_rgb_resize[2])\r\n",
    "print(np.shape(img_rgb_resize))"
   ],
   "outputs": [],
   "metadata": {}
  },
  {
   "cell_type": "code",
   "execution_count": null,
   "source": [
    "#\r\n",
    "# Resize and Cut\r\n",
    "img_rgb =  env.render(mode='rgb_array')\r\n",
    "img_rgb_resize = cv2.resize(img_rgb, (240, 160), interpolation=cv2.INTER_CUBIC)\r\n",
    "img_k_resize = cv2.cvtColor(img_rgb_resize,cv2.COLOR_RGB2GRAY)\r\n",
    "# img_rgb_resize[img_rgb_resize > 255] = 0\r\n",
    "# img_rgb_resize = img_rgb_resize.transpose()\r\n",
    "# img_rgb_extract= img_rgb_resize.sum(axis=0)\r\n",
    "# img_rgb_extract= img_rgb_extract.transpose()\r\n",
    "# img_rgb_extract= img_rgb_resize.sum(axis=2)\r\n",
    "print('shape of img_k_resize : ',np.shape(img_k_resize))\r\n",
    "print('minmax : ',img_k_resize.min(), img_k_resize.max())\r\n",
    "print(img_rgb_extract[0][0])\r\n",
    "print('shape of img_rgb_extract : ',np.shape(img_rgb_extract))\r\n",
    "plt.imshow(img_k_resize)\r\n",
    "print('sape of img_rgb_resize : ',np.shape(img_rgb_resize))\r\n",
    "print(img_rgb_resize[0].max())\r\n",
    "print(img_rgb_resize[1].sum())\r\n",
    "print(img_rgb_resize[2].sum())"
   ],
   "outputs": [],
   "metadata": {}
  },
  {
   "cell_type": "code",
   "execution_count": null,
   "source": [
    "img_size = (128,96)\r\n",
    "env = gym.make(\"CartPole-v1\")\r\n",
    "state = env.reset()\r\n",
    "def get_image(img_rgb):\r\n",
    "    # print(np.shape(img_rgb))\r\n",
    "    # img_rgb = img_rgb[200:300,:]\r\n",
    "    # print(np.shape(img_rgb))\r\n",
    "    img_rgb_resize = cv2.resize(img_rgb, (img_size[0],img_size[1]), interpolation=cv2.INTER_CUBIC)\r\n",
    "    img_k_resize = cv2.cvtColor(img_rgb_resize,cv2.COLOR_RGB2GRAY)\r\n",
    "    # img_k_resize = img_k_resize / 255.0 # scaling 0 ~ 1\r\n",
    "    img_k_resize = img_k_resize / 127.5 - 1. # scaling -1 ~ 1\r\n",
    "    state = img_k_resize\r\n",
    "    return state\r\n",
    "state = get_image(env.render(mode='rgb_array'))\r\n",
    "print(np.shape(state))\r\n",
    "plt.imshow(state)"
   ],
   "outputs": [],
   "metadata": {}
  },
  {
   "cell_type": "code",
   "execution_count": null,
   "source": [
    "import random\r\n",
    "img_size = (128,96)\r\n",
    "def get_image(img_rgb):\r\n",
    "    img_rgb_resize = cv2.resize(img_rgb, (img_size[0],img_size[1]), interpolation=cv2.INTER_CUBIC)\r\n",
    "    img_k_resize = cv2.cvtColor(img_rgb_resize,cv2.COLOR_RGB2GRAY)\r\n",
    "    # img_k_resize = img_k_resize / 255.0\r\n",
    "    state = img_k_resize\r\n",
    "    return state\r\n",
    "env.reset()\r\n",
    "for i in range(10):\r\n",
    "    state = get_image(env.render(mode='rgb_array'))\r\n",
    "    state = np.expand_dims(state,axis=2)\r\n",
    "    cv2.imwrite(\"cartpole_img\\\\cartpole_img{:05d}.jpg\".format(i),state)\r\n",
    "    next_state, reward, done, info = env.step(random.randrange(env.action_space.n))\r\n",
    "    if done == True:\r\n",
    "        env.reset()"
   ],
   "outputs": [],
   "metadata": {}
  },
  {
   "cell_type": "code",
   "execution_count": null,
   "source": [
    "# Resize and Cut\r\n",
    "img_size = (128,98)\r\n",
    "def get_image(img_rgb):\r\n",
    "    img_rgb_resize = cv2.resize(img_rgb, (img_size[0],img_size[1]), interpolation=cv2.INTER_CUBIC)\r\n",
    "    img_k_resize = cv2.cvtColor(img_rgb_resize,cv2.COLOR_RGB2GRAY)\r\n",
    "    img_k_resize = img_k_resize / 255.0\r\n",
    "    state = img_k_resize\r\n",
    "    return state\r\n",
    "img =  get_image(env.render(mode='rgb_array'))\r\n",
    "plt.imshow(img)\r\n",
    "print(np.shape(img))\r\n",
    "print('min : ', img.min())\r\n",
    "print('max : ', img.max())"
   ],
   "outputs": [],
   "metadata": {}
  },
  {
   "cell_type": "code",
   "execution_count": null,
   "source": [
    "import numpy as np\r\n",
    "import random\r\n",
    "\r\n",
    "class ReplayMemory():\r\n",
    "    def __init__(self, capacity):\r\n",
    "        # Basic member\r\n",
    "        self.buffer = []\r\n",
    "        self.buffer_idx = 0\r\n",
    "        self.capacity = capacity\r\n",
    "\r\n",
    "    def append(self, transition:list):\r\n",
    "        '''\r\n",
    "        >>> HOW TO USE\r\n",
    "        transition = (state, action, reward, next_state, done)\r\n",
    "        ReplayMemory.append(transition)\r\n",
    "        '''\r\n",
    "        self.buffer_idx = self.buffer_idx % self.capacity\r\n",
    "        if(len(self.buffer) < self.capacity):\r\n",
    "            self.buffer += [transition]\r\n",
    "        else:\r\n",
    "            self.buffer[self.buffer_idx] = transition\r\n",
    "        self.buffer_idx += 1\r\n",
    "\r\n",
    "    def sample(self, n:int):\r\n",
    "        '''\r\n",
    "        >>> HOW TO USE\r\n",
    "        mini_batch = ReplayMemory.sample(number_of_samples)\r\n",
    "\r\n",
    "        # Sampling from the memory\r\n",
    "        states      = np.array([sample[0] for sample in mini_batch])\r\n",
    "        actions     = np.array([sample[1] for sample in mini_batch])\r\n",
    "        rewards     = np.array([sample[2] for sample in mini_batch])\r\n",
    "        next_states = np.array([sample[3] for sample in mini_batch])\r\n",
    "        dones       = np.array([sample[4] for sample in mini_batch])\r\n",
    "        '''\r\n",
    "        return random.sample(self.buffer,n)\r\n",
    "\r\n",
    "    def __len__(self):\r\n",
    "        return len(self.buffer)\r\n",
    "\r\n",
    "    def show(self):\r\n",
    "        print(self.buffer)\r\n",
    "\r\n",
    "memory = ReplayMemory(capacity=1000)\r\n",
    "for i in range(10):\r\n",
    "    data = ((i,i+1), (np.power(i,2), np.power(i,3)))\r\n",
    "    memory.append(data)\r\n",
    "# print(memory.buffer)\r\n",
    "idxs = [sample[0] for sample in memory.buffer]\r\n",
    "print(idxs)"
   ],
   "outputs": [],
   "metadata": {}
  },
  {
   "cell_type": "code",
   "execution_count": null,
   "source": [
    "from tensorflow_addons.layers import MaxUnpooling2D\r\n",
    "from tensorflow.keras.layers import UpSampling2D"
   ],
   "outputs": [],
   "metadata": {}
  },
  {
   "cell_type": "code",
   "execution_count": null,
   "source": [
    "import matplotlib.pyplot as plt\r\n",
    "import numpy as np\r\n",
    "line = range(0,10)\r\n",
    "power2 = np.power(line,2)\r\n",
    "power3 = np.power(line,3)\r\n",
    "fig = plt.figure(1)\r\n",
    "ax1 = plt.subplot()\r\n",
    "ax2 = plt.twinx()"
   ],
   "outputs": [],
   "metadata": {}
  },
  {
   "cell_type": "code",
   "execution_count": 8,
   "source": [
    "import gym\r\n",
    "import numpy as np\r\n",
    "import matplotlib.pyplot as plt\r\n",
    "import cv2\r\n",
    "img_data_type = np.uint8\r\n",
    "img_size = (120,40)\r\n",
    "img_crop = ((150,350),(0,-1))\r\n",
    "print('img_crop : ',img_crop[1])\r\n",
    "def _preprocessing_img(raw_img):\r\n",
    "    img_rgb_crop = raw_img[img_crop[0][0]:img_crop[0][1],:]\r\n",
    "    # img_rgb_crop = raw_img[150:350,:,:]\r\n",
    "    # print(np.shape(img_rgb_crop))\r\n",
    "    img_rgb_resize = cv2.resize(img_rgb_crop, img_size[0:2], interpolation=cv2.INTER_CUBIC)\r\n",
    "    img_k_resize = cv2.cvtColor(img_rgb_resize,cv2.COLOR_RGB2GRAY)\r\n",
    "    img_k_resize = img_k_resize / 255.0 # scaling 0 ~ 1\r\n",
    "    # img_k_resize = img_k_resize / 127.5 - 1. # scaling -1 ~ 1\r\n",
    "    preprocessed_state = np.array(img_k_resize,dtype=img_data_type)\r\n",
    "    preprocessed_state = np.expand_dims(preprocessed_state,axis=2)\r\n",
    "    return preprocessed_state\r\n",
    "env = gym.make(\"CartPole-v1\")\r\n",
    "state = env.reset()\r\n",
    "# Get original Image\r\n",
    "img =  env.render(mode='rgb_array')\r\n",
    "plt.imshow(img)\r\n",
    "img_gray = _preprocessing_img(img)\r\n",
    "print(np.shape(img))\r\n",
    "print(np.shape(img_gray))\r\n",
    "test = img_gray\r\n",
    "test = np.append(test,img_gray,axis=2)\r\n",
    "print(np.shape(test))\r\n",
    "plt.imshow(img_gray,cmap='gray')"
   ],
   "outputs": [
    {
     "output_type": "stream",
     "name": "stdout",
     "text": [
      "img_crop :  (0, -1)\n",
      "(200, 600, 3)\n",
      "(400, 600, 3)\n",
      "(40, 120, 1)\n",
      "(40, 120, 2)\n"
     ]
    },
    {
     "output_type": "execute_result",
     "data": {
      "text/plain": [
       "<matplotlib.image.AxesImage at 0x17751fb8588>"
      ]
     },
     "metadata": {},
     "execution_count": 8
    },
    {
     "output_type": "display_data",
     "data": {
      "text/plain": [
       "<Figure size 432x288 with 1 Axes>"
      ],
      "image/svg+xml": "<?xml version=\"1.0\" encoding=\"utf-8\" standalone=\"no\"?>\r\n<!DOCTYPE svg PUBLIC \"-//W3C//DTD SVG 1.1//EN\"\r\n  \"http://www.w3.org/Graphics/SVG/1.1/DTD/svg11.dtd\">\r\n<svg height=\"145.082344pt\" version=\"1.1\" viewBox=\"0 0 368.925 145.082344\" width=\"368.925pt\" xmlns=\"http://www.w3.org/2000/svg\" xmlns:xlink=\"http://www.w3.org/1999/xlink\">\r\n <metadata>\r\n  <rdf:RDF xmlns:cc=\"http://creativecommons.org/ns#\" xmlns:dc=\"http://purl.org/dc/elements/1.1/\" xmlns:rdf=\"http://www.w3.org/1999/02/22-rdf-syntax-ns#\">\r\n   <cc:Work>\r\n    <dc:type rdf:resource=\"http://purl.org/dc/dcmitype/StillImage\"/>\r\n    <dc:date>2021-08-30T14:22:41.842814</dc:date>\r\n    <dc:format>image/svg+xml</dc:format>\r\n    <dc:creator>\r\n     <cc:Agent>\r\n      <dc:title>Matplotlib v3.4.2, https://matplotlib.org/</dc:title>\r\n     </cc:Agent>\r\n    </dc:creator>\r\n   </cc:Work>\r\n  </rdf:RDF>\r\n </metadata>\r\n <defs>\r\n  <style type=\"text/css\">*{stroke-linecap:butt;stroke-linejoin:round;}</style>\r\n </defs>\r\n <g id=\"figure_1\">\r\n  <g id=\"patch_1\">\r\n   <path d=\"M -0 145.082344 \r\nL 368.925 145.082344 \r\nL 368.925 0 \r\nL -0 0 \r\nz\r\n\" style=\"fill:none;\"/>\r\n  </g>\r\n  <g id=\"axes_1\">\r\n   <g id=\"patch_2\">\r\n    <path d=\"M 26.925 121.204219 \r\nL 361.725 121.204219 \r\nL 361.725 9.604219 \r\nL 26.925 9.604219 \r\nz\r\n\" style=\"fill:#ffffff;\"/>\r\n   </g>\r\n   <g clip-path=\"url(#p0086e7357c)\">\r\n    <image height=\"112\" id=\"image3beb7ad351\" transform=\"scale(1 -1)translate(0 -112)\" width=\"335\" x=\"27\" xlink:href=\"data:image/png;base64,\r\niVBORw0KGgoAAAANSUhEUgAAAU8AAABwCAYAAACelvI+AAADcElEQVR4nO3dz04TCxjG4W/asS3KgnIHJoQYU3EnO7gA7sEtCxZeDHvuQhbcAHHtisSdxo0SIhIDJO2clSYnGuS8UnrOyfMsm06/bzH5Zfonnabruq4A+Ed6i14A4L9IPAEC4gkQEE+AgHgCBMQTICCeAAHxBAiIJ0BAPAEC4gkQEE+AgHgCBMQTICCeAAHxBAiIJ0CgXfQC/D/NZrOaTqd1Xzcq6Pf71e/372UWVIknc3JyclLHx8d1fn4+91m9Xq+ePXtWm5ub9fDhw7nPgyrxZA66rqu3b9/W/v5+ffjwYe7z2ratly9f1mQyEU/ujXhy57quq6urqzo7O6vPnz/PfV7btvX169eazWZznwXf+cIIICCeAAHxBAiIJ0BAPAEC4gkQEE+AgHgCBMQTICCeAAHxBAiIJ0BAPAEC/lWJO9c0TQ2Hw1pZWamLi4vfPv/6+rq+fftW0+n0b68xGo1qaWmpmqa58fi2bWt5ebl6PdcC3B/x5M41TVOTyaT29vZu9WfIJycn9fr16/r48eOPxwaDQW1tbdX29nYNBoMbj+/1erWxsVGPHj36493htsSTuXjy5Emtra3d6jYcR0dH9ebNm5/i+eLFi9rd3b1VFPv9frWt05n742xjLnq93m+vGL8bDAa/fMvdtm0NBoMaDod3vR78MR8SAQTEEyAgngAB8QQIiCdAQDwBAuIJEBBPgIB4AgTEEyAgngAB8QQIiCdAQDwBAuIJEBBPgIB4AgTEEyAgngAB8QQIiCdAQDwBAuIJEBBPgIB4AgTEEyAgngAB8QQIiCdAQDwBAuIJEBBPgIB4AgTEEyAgngAB8QQIiCdAQDwBAuIJEBBPgIB4AgTEEyAgngAB8QQIiCdAQDwBAuIJEBBPgIB4AgTEEyAgngAB8QQIiCdAQDwBAuIJEBBPgIB4AgTEEyDQLnoBWFlZqefPn9doNKpPnz7V+/fvF70S/JZ4snDr6+v16tWrOj8/r8PDwzo4OKirq6tFrwU3Ek8Wbjwe13g8rul0Wu/evavhcFjX19eLXgtuJJ78azRNU48fP66dnZ26vLysp0+f1oMHDxa9FvxS03Vdt+gl4LsvX77U6elpzWazGo/Htbq6Wk3TLHot+Il4AgT8VAkgIJ4AAfEECIgnQEA8AQLiCRAQT4CAeAIExBMg8Bf2boyUq6nm2QAAAABJRU5ErkJggg==\" y=\"-9.082344\"/>\r\n   </g>\r\n   <g id=\"matplotlib.axis_1\">\r\n    <g id=\"xtick_1\">\r\n     <g id=\"line2d_1\">\r\n      <defs>\r\n       <path d=\"M 0 0 \r\nL 0 3.5 \r\n\" id=\"m8117629830\" style=\"stroke:#000000;stroke-width:0.8;\"/>\r\n      </defs>\r\n      <g>\r\n       <use style=\"stroke:#000000;stroke-width:0.8;\" x=\"28.32\" xlink:href=\"#m8117629830\" y=\"121.204219\"/>\r\n      </g>\r\n     </g>\r\n     <g id=\"text_1\">\r\n      <!-- 0 -->\r\n      <g transform=\"translate(25.13875 135.802656)scale(0.1 -0.1)\">\r\n       <defs>\r\n        <path d=\"M 2034 4250 \r\nQ 1547 4250 1301 3770 \r\nQ 1056 3291 1056 2328 \r\nQ 1056 1369 1301 889 \r\nQ 1547 409 2034 409 \r\nQ 2525 409 2770 889 \r\nQ 3016 1369 3016 2328 \r\nQ 3016 3291 2770 3770 \r\nQ 2525 4250 2034 4250 \r\nz\r\nM 2034 4750 \r\nQ 2819 4750 3233 4129 \r\nQ 3647 3509 3647 2328 \r\nQ 3647 1150 3233 529 \r\nQ 2819 -91 2034 -91 \r\nQ 1250 -91 836 529 \r\nQ 422 1150 422 2328 \r\nQ 422 3509 836 4129 \r\nQ 1250 4750 2034 4750 \r\nz\r\n\" id=\"DejaVuSans-30\" transform=\"scale(0.015625)\"/>\r\n       </defs>\r\n       <use xlink:href=\"#DejaVuSans-30\"/>\r\n      </g>\r\n     </g>\r\n    </g>\r\n    <g id=\"xtick_2\">\r\n     <g id=\"line2d_2\">\r\n      <g>\r\n       <use style=\"stroke:#000000;stroke-width:0.8;\" x=\"84.12\" xlink:href=\"#m8117629830\" y=\"121.204219\"/>\r\n      </g>\r\n     </g>\r\n     <g id=\"text_2\">\r\n      <!-- 20 -->\r\n      <g transform=\"translate(77.7575 135.802656)scale(0.1 -0.1)\">\r\n       <defs>\r\n        <path d=\"M 1228 531 \r\nL 3431 531 \r\nL 3431 0 \r\nL 469 0 \r\nL 469 531 \r\nQ 828 903 1448 1529 \r\nQ 2069 2156 2228 2338 \r\nQ 2531 2678 2651 2914 \r\nQ 2772 3150 2772 3378 \r\nQ 2772 3750 2511 3984 \r\nQ 2250 4219 1831 4219 \r\nQ 1534 4219 1204 4116 \r\nQ 875 4013 500 3803 \r\nL 500 4441 \r\nQ 881 4594 1212 4672 \r\nQ 1544 4750 1819 4750 \r\nQ 2544 4750 2975 4387 \r\nQ 3406 4025 3406 3419 \r\nQ 3406 3131 3298 2873 \r\nQ 3191 2616 2906 2266 \r\nQ 2828 2175 2409 1742 \r\nQ 1991 1309 1228 531 \r\nz\r\n\" id=\"DejaVuSans-32\" transform=\"scale(0.015625)\"/>\r\n       </defs>\r\n       <use xlink:href=\"#DejaVuSans-32\"/>\r\n       <use x=\"63.623047\" xlink:href=\"#DejaVuSans-30\"/>\r\n      </g>\r\n     </g>\r\n    </g>\r\n    <g id=\"xtick_3\">\r\n     <g id=\"line2d_3\">\r\n      <g>\r\n       <use style=\"stroke:#000000;stroke-width:0.8;\" x=\"139.92\" xlink:href=\"#m8117629830\" y=\"121.204219\"/>\r\n      </g>\r\n     </g>\r\n     <g id=\"text_3\">\r\n      <!-- 40 -->\r\n      <g transform=\"translate(133.5575 135.802656)scale(0.1 -0.1)\">\r\n       <defs>\r\n        <path d=\"M 2419 4116 \r\nL 825 1625 \r\nL 2419 1625 \r\nL 2419 4116 \r\nz\r\nM 2253 4666 \r\nL 3047 4666 \r\nL 3047 1625 \r\nL 3713 1625 \r\nL 3713 1100 \r\nL 3047 1100 \r\nL 3047 0 \r\nL 2419 0 \r\nL 2419 1100 \r\nL 313 1100 \r\nL 313 1709 \r\nL 2253 4666 \r\nz\r\n\" id=\"DejaVuSans-34\" transform=\"scale(0.015625)\"/>\r\n       </defs>\r\n       <use xlink:href=\"#DejaVuSans-34\"/>\r\n       <use x=\"63.623047\" xlink:href=\"#DejaVuSans-30\"/>\r\n      </g>\r\n     </g>\r\n    </g>\r\n    <g id=\"xtick_4\">\r\n     <g id=\"line2d_4\">\r\n      <g>\r\n       <use style=\"stroke:#000000;stroke-width:0.8;\" x=\"195.72\" xlink:href=\"#m8117629830\" y=\"121.204219\"/>\r\n      </g>\r\n     </g>\r\n     <g id=\"text_4\">\r\n      <!-- 60 -->\r\n      <g transform=\"translate(189.3575 135.802656)scale(0.1 -0.1)\">\r\n       <defs>\r\n        <path d=\"M 2113 2584 \r\nQ 1688 2584 1439 2293 \r\nQ 1191 2003 1191 1497 \r\nQ 1191 994 1439 701 \r\nQ 1688 409 2113 409 \r\nQ 2538 409 2786 701 \r\nQ 3034 994 3034 1497 \r\nQ 3034 2003 2786 2293 \r\nQ 2538 2584 2113 2584 \r\nz\r\nM 3366 4563 \r\nL 3366 3988 \r\nQ 3128 4100 2886 4159 \r\nQ 2644 4219 2406 4219 \r\nQ 1781 4219 1451 3797 \r\nQ 1122 3375 1075 2522 \r\nQ 1259 2794 1537 2939 \r\nQ 1816 3084 2150 3084 \r\nQ 2853 3084 3261 2657 \r\nQ 3669 2231 3669 1497 \r\nQ 3669 778 3244 343 \r\nQ 2819 -91 2113 -91 \r\nQ 1303 -91 875 529 \r\nQ 447 1150 447 2328 \r\nQ 447 3434 972 4092 \r\nQ 1497 4750 2381 4750 \r\nQ 2619 4750 2861 4703 \r\nQ 3103 4656 3366 4563 \r\nz\r\n\" id=\"DejaVuSans-36\" transform=\"scale(0.015625)\"/>\r\n       </defs>\r\n       <use xlink:href=\"#DejaVuSans-36\"/>\r\n       <use x=\"63.623047\" xlink:href=\"#DejaVuSans-30\"/>\r\n      </g>\r\n     </g>\r\n    </g>\r\n    <g id=\"xtick_5\">\r\n     <g id=\"line2d_5\">\r\n      <g>\r\n       <use style=\"stroke:#000000;stroke-width:0.8;\" x=\"251.52\" xlink:href=\"#m8117629830\" y=\"121.204219\"/>\r\n      </g>\r\n     </g>\r\n     <g id=\"text_5\">\r\n      <!-- 80 -->\r\n      <g transform=\"translate(245.1575 135.802656)scale(0.1 -0.1)\">\r\n       <defs>\r\n        <path d=\"M 2034 2216 \r\nQ 1584 2216 1326 1975 \r\nQ 1069 1734 1069 1313 \r\nQ 1069 891 1326 650 \r\nQ 1584 409 2034 409 \r\nQ 2484 409 2743 651 \r\nQ 3003 894 3003 1313 \r\nQ 3003 1734 2745 1975 \r\nQ 2488 2216 2034 2216 \r\nz\r\nM 1403 2484 \r\nQ 997 2584 770 2862 \r\nQ 544 3141 544 3541 \r\nQ 544 4100 942 4425 \r\nQ 1341 4750 2034 4750 \r\nQ 2731 4750 3128 4425 \r\nQ 3525 4100 3525 3541 \r\nQ 3525 3141 3298 2862 \r\nQ 3072 2584 2669 2484 \r\nQ 3125 2378 3379 2068 \r\nQ 3634 1759 3634 1313 \r\nQ 3634 634 3220 271 \r\nQ 2806 -91 2034 -91 \r\nQ 1263 -91 848 271 \r\nQ 434 634 434 1313 \r\nQ 434 1759 690 2068 \r\nQ 947 2378 1403 2484 \r\nz\r\nM 1172 3481 \r\nQ 1172 3119 1398 2916 \r\nQ 1625 2713 2034 2713 \r\nQ 2441 2713 2670 2916 \r\nQ 2900 3119 2900 3481 \r\nQ 2900 3844 2670 4047 \r\nQ 2441 4250 2034 4250 \r\nQ 1625 4250 1398 4047 \r\nQ 1172 3844 1172 3481 \r\nz\r\n\" id=\"DejaVuSans-38\" transform=\"scale(0.015625)\"/>\r\n       </defs>\r\n       <use xlink:href=\"#DejaVuSans-38\"/>\r\n       <use x=\"63.623047\" xlink:href=\"#DejaVuSans-30\"/>\r\n      </g>\r\n     </g>\r\n    </g>\r\n    <g id=\"xtick_6\">\r\n     <g id=\"line2d_6\">\r\n      <g>\r\n       <use style=\"stroke:#000000;stroke-width:0.8;\" x=\"307.32\" xlink:href=\"#m8117629830\" y=\"121.204219\"/>\r\n      </g>\r\n     </g>\r\n     <g id=\"text_6\">\r\n      <!-- 100 -->\r\n      <g transform=\"translate(297.77625 135.802656)scale(0.1 -0.1)\">\r\n       <defs>\r\n        <path d=\"M 794 531 \r\nL 1825 531 \r\nL 1825 4091 \r\nL 703 3866 \r\nL 703 4441 \r\nL 1819 4666 \r\nL 2450 4666 \r\nL 2450 531 \r\nL 3481 531 \r\nL 3481 0 \r\nL 794 0 \r\nL 794 531 \r\nz\r\n\" id=\"DejaVuSans-31\" transform=\"scale(0.015625)\"/>\r\n       </defs>\r\n       <use xlink:href=\"#DejaVuSans-31\"/>\r\n       <use x=\"63.623047\" xlink:href=\"#DejaVuSans-30\"/>\r\n       <use x=\"127.246094\" xlink:href=\"#DejaVuSans-30\"/>\r\n      </g>\r\n     </g>\r\n    </g>\r\n   </g>\r\n   <g id=\"matplotlib.axis_2\">\r\n    <g id=\"ytick_1\">\r\n     <g id=\"line2d_7\">\r\n      <defs>\r\n       <path d=\"M 0 0 \r\nL -3.5 0 \r\n\" id=\"m79ef6c1fda\" style=\"stroke:#000000;stroke-width:0.8;\"/>\r\n      </defs>\r\n      <g>\r\n       <use style=\"stroke:#000000;stroke-width:0.8;\" x=\"26.925\" xlink:href=\"#m79ef6c1fda\" y=\"10.999219\"/>\r\n      </g>\r\n     </g>\r\n     <g id=\"text_7\">\r\n      <!-- 0 -->\r\n      <g transform=\"translate(13.5625 14.798437)scale(0.1 -0.1)\">\r\n       <use xlink:href=\"#DejaVuSans-30\"/>\r\n      </g>\r\n     </g>\r\n    </g>\r\n    <g id=\"ytick_2\">\r\n     <g id=\"line2d_8\">\r\n      <g>\r\n       <use style=\"stroke:#000000;stroke-width:0.8;\" x=\"26.925\" xlink:href=\"#m79ef6c1fda\" y=\"38.899219\"/>\r\n      </g>\r\n     </g>\r\n     <g id=\"text_8\">\r\n      <!-- 10 -->\r\n      <g transform=\"translate(7.2 42.698437)scale(0.1 -0.1)\">\r\n       <use xlink:href=\"#DejaVuSans-31\"/>\r\n       <use x=\"63.623047\" xlink:href=\"#DejaVuSans-30\"/>\r\n      </g>\r\n     </g>\r\n    </g>\r\n    <g id=\"ytick_3\">\r\n     <g id=\"line2d_9\">\r\n      <g>\r\n       <use style=\"stroke:#000000;stroke-width:0.8;\" x=\"26.925\" xlink:href=\"#m79ef6c1fda\" y=\"66.799219\"/>\r\n      </g>\r\n     </g>\r\n     <g id=\"text_9\">\r\n      <!-- 20 -->\r\n      <g transform=\"translate(7.2 70.598437)scale(0.1 -0.1)\">\r\n       <use xlink:href=\"#DejaVuSans-32\"/>\r\n       <use x=\"63.623047\" xlink:href=\"#DejaVuSans-30\"/>\r\n      </g>\r\n     </g>\r\n    </g>\r\n    <g id=\"ytick_4\">\r\n     <g id=\"line2d_10\">\r\n      <g>\r\n       <use style=\"stroke:#000000;stroke-width:0.8;\" x=\"26.925\" xlink:href=\"#m79ef6c1fda\" y=\"94.699219\"/>\r\n      </g>\r\n     </g>\r\n     <g id=\"text_10\">\r\n      <!-- 30 -->\r\n      <g transform=\"translate(7.2 98.498437)scale(0.1 -0.1)\">\r\n       <defs>\r\n        <path d=\"M 2597 2516 \r\nQ 3050 2419 3304 2112 \r\nQ 3559 1806 3559 1356 \r\nQ 3559 666 3084 287 \r\nQ 2609 -91 1734 -91 \r\nQ 1441 -91 1130 -33 \r\nQ 819 25 488 141 \r\nL 488 750 \r\nQ 750 597 1062 519 \r\nQ 1375 441 1716 441 \r\nQ 2309 441 2620 675 \r\nQ 2931 909 2931 1356 \r\nQ 2931 1769 2642 2001 \r\nQ 2353 2234 1838 2234 \r\nL 1294 2234 \r\nL 1294 2753 \r\nL 1863 2753 \r\nQ 2328 2753 2575 2939 \r\nQ 2822 3125 2822 3475 \r\nQ 2822 3834 2567 4026 \r\nQ 2313 4219 1838 4219 \r\nQ 1578 4219 1281 4162 \r\nQ 984 4106 628 3988 \r\nL 628 4550 \r\nQ 988 4650 1302 4700 \r\nQ 1616 4750 1894 4750 \r\nQ 2613 4750 3031 4423 \r\nQ 3450 4097 3450 3541 \r\nQ 3450 3153 3228 2886 \r\nQ 3006 2619 2597 2516 \r\nz\r\n\" id=\"DejaVuSans-33\" transform=\"scale(0.015625)\"/>\r\n       </defs>\r\n       <use xlink:href=\"#DejaVuSans-33\"/>\r\n       <use x=\"63.623047\" xlink:href=\"#DejaVuSans-30\"/>\r\n      </g>\r\n     </g>\r\n    </g>\r\n   </g>\r\n   <g id=\"patch_3\">\r\n    <path d=\"M 26.925 121.204219 \r\nL 26.925 9.604219 \r\n\" style=\"fill:none;stroke:#000000;stroke-linecap:square;stroke-linejoin:miter;stroke-width:0.8;\"/>\r\n   </g>\r\n   <g id=\"patch_4\">\r\n    <path d=\"M 361.725 121.204219 \r\nL 361.725 9.604219 \r\n\" style=\"fill:none;stroke:#000000;stroke-linecap:square;stroke-linejoin:miter;stroke-width:0.8;\"/>\r\n   </g>\r\n   <g id=\"patch_5\">\r\n    <path d=\"M 26.925 121.204219 \r\nL 361.725 121.204219 \r\n\" style=\"fill:none;stroke:#000000;stroke-linecap:square;stroke-linejoin:miter;stroke-width:0.8;\"/>\r\n   </g>\r\n   <g id=\"patch_6\">\r\n    <path d=\"M 26.925 9.604219 \r\nL 361.725 9.604219 \r\n\" style=\"fill:none;stroke:#000000;stroke-linecap:square;stroke-linejoin:miter;stroke-width:0.8;\"/>\r\n   </g>\r\n  </g>\r\n </g>\r\n <defs>\r\n  <clipPath id=\"p0086e7357c\">\r\n   <rect height=\"111.6\" width=\"334.8\" x=\"26.925\" y=\"9.604219\"/>\r\n  </clipPath>\r\n </defs>\r\n</svg>\r\n",
      "image/png": "[encoded data removed]"
     },
     "metadata": {
      "needs_background": "light"
     }
    }
   ],
   "metadata": {}
  },
  {
   "cell_type": "code",
   "execution_count": 1,
   "source": [
    "import numpy as np\r\n",
    "img = np.array([[1,2],[4,5]],dtype=np.uint8)\r\n",
    "img = np.expand_dims(img,axis=2)\r\n",
    "test = img; print('test : ',np.shape(test))\r\n",
    "test = np.append(test,img,axis=2); print('test : ',np.shape(test)); img += 1\r\n",
    "test = np.append(test,img,axis=2); print('test : ',np.shape(test)); img += 1\r\n",
    "test = np.append(test,img,axis=2); print('test : ',np.shape(test)); img += 1\r\n",
    "print('test ',test)\r\n",
    "test = np.delete(test,obj=0,axis=2); print('test : ',np.shape(test))\r\n",
    "print('test ',test)\r\n"
   ],
   "outputs": [
    {
     "output_type": "stream",
     "name": "stdout",
     "text": [
      "test :  (2, 2, 1)\n",
      "test :  (2, 2, 2)\n",
      "test :  (2, 2, 3)\n",
      "test :  (2, 2, 4)\n",
      "test  [[[1 1 2 3]\n",
      "  [2 2 3 4]]\n",
      "\n",
      " [[4 4 5 6]\n",
      "  [5 5 6 7]]]\n",
      "test :  (2, 2, 3)\n",
      "test  [[[1 2 3]\n",
      "  [2 3 4]]\n",
      "\n",
      " [[4 5 6]\n",
      "  [5 6 7]]]\n"
     ]
    }
   ],
   "metadata": {}
  },
  {
   "cell_type": "code",
   "execution_count": null,
   "source": [],
   "outputs": [],
   "metadata": {}
  }
 ]
}