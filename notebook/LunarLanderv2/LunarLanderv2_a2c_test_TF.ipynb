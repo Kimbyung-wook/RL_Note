{
 "cells": [
  {
   "cell_type": "code",
   "execution_count": 1,
   "source": [
    "import gym\n",
    "import sys\n",
    "import random\n",
    "import numpy as np\n",
    "import tensorflow as tf\n",
    "from tensorflow.keras.layers import Dense\n",
    "from collections import deque\n",
    "import matplotlib.pyplot as plt"
   ],
   "outputs": [
    {
     "output_type": "stream",
     "name": "stderr",
     "text": [
      "2021-07-23 21:28:53.441770: I tensorflow/stream_executor/platform/default/dso_loader.cc:49] Successfully opened dynamic library libcudart.so.11.0\n"
     ]
    }
   ],
   "metadata": {}
  },
  {
   "cell_type": "code",
   "execution_count": 2,
   "source": [
    "class A2C(tf.keras.Model):\n",
    "    def __init__(self, state_size, action_size):\n",
    "        super(A2C, self).__init__()\n",
    "        self.fc1 = Dense(64, activation='relu')\n",
    "        # self.fc2 = Dense(64, activation='relu')\n",
    "        self.actor  = Dense(action_size, activation='softmax',\n",
    "                                        kernel_initializer=tf.keras.initializers.RandomUniform(-1e-3,1e-3))\n",
    "        self.critic = Dense(1,\n",
    "                                        kernel_initializer=tf.keras.initializers.RandomUniform(-1e-3,1e-3))\n",
    "        \n",
    "    def call(self, x):\n",
    "        x      = self.fc1(x)\n",
    "        # x      = self.fc2(x)\n",
    "        policy = self.actor(x)\n",
    "        value  = self.critic(x)\n",
    "        return policy, value"
   ],
   "outputs": [],
   "metadata": {}
  },
  {
   "cell_type": "code",
   "execution_count": 3,
   "source": [
    "class A2CAgent:\n",
    "    def __init__(self, state_size, action_size):\n",
    "        self.state_size = state_size\n",
    "        self.action_size= action_size\n",
    "        \n",
    "        # Hyper params for learning\n",
    "        self.discount_factor = 0.99\n",
    "        \n",
    "        self.model = A2C(self.state_size,self.action_size)\n",
    "        self.model.load_weights(\"./save_model/LunarLanderv2_a2c_TF\")\n",
    "        \n",
    "    def get_action(self, state):\n",
    "        policy, _ = self.model(state)\n",
    "        policy = np.array(policy[0])\n",
    "        return np.random.choice(self.action_size, 1, p=policy)[0]\n",
    "        \n",
    "    def get_loss(self, state, action, reward, next_state, done):\n",
    "        model_params = self.model.trainable_variables\n",
    "        policy, value      = self.model(state)\n",
    "        _,      next_value = self.model(next_state)\n",
    "        target = reward + (1 - done) * self.discount_factor * next_value[0]\n",
    "\n",
    "        # For policy network\n",
    "        one_hot_action = tf.one_hot([action], self.action_size)\n",
    "        action_prob = tf.reduce_sum(one_hot_action * policy, axis=1)\n",
    "        cross_entropy = - tf.math.log(action_prob + 1e-5)\n",
    "        advantage = tf.stop_gradient(target - value[0])\n",
    "        actor_loss = tf.reduce_mean(cross_entropy * advantage)\n",
    "\n",
    "        # For value network\n",
    "        critic_loss = 0.5 * tf.square(tf.stop_gradient(target) - value[0])\n",
    "        critic_loss = tf.reduce_mean(critic_loss)\n",
    "\n",
    "        # integrate losses\n",
    "        loss = 0.2 * actor_loss + critic_loss\n",
    "            \n",
    "        return np.array(loss)"
   ],
   "outputs": [],
   "metadata": {}
  },
  {
   "cell_type": "code",
   "execution_count": 4,
   "source": [
    "%matplotlib tk\n",
    "\n",
    "ENV_NAME = 'LunarLander-v2'\n",
    "EPISODES = 10\n",
    "# END_SCORE = 200\n",
    "\n",
    "if __name__ == \"__main__\":\n",
    "    env = gym.make(ENV_NAME)\n",
    "    state_size = env.observation_space.shape[0]\n",
    "    action_size = env.action_space.n\n",
    "\n",
    "    agent = A2CAgent(state_size, action_size)\n",
    "    print('Env Name : ',ENV_NAME)\n",
    "    print('States {}, Actions {}'\n",
    "            .format(state_size, action_size))\n",
    "\n",
    "    scores, episodes, losses = [], [], []\n",
    "    score_avg = 0\n",
    "    \n",
    "    end = False\n",
    "    \n",
    "    for e in range(EPISODES):\n",
    "        # Episode initialization\n",
    "        done = False\n",
    "        score = 0\n",
    "        loss_list = []\n",
    "        \n",
    "        state = env.reset()\n",
    "        state = np.reshape(state, [1, state_size])\n",
    "        \n",
    "        while not done:\n",
    "            env.render()\n",
    "\n",
    "            # Interact with env.\n",
    "            action = agent.get_action(state)\n",
    "            next_state, reward, done, info = env.step(action)\n",
    "            next_state = np.reshape(next_state, [1, state_size])\n",
    "            loss = agent.get_loss(state, action, reward, next_state, done)\n",
    "            state = next_state\n",
    "\n",
    "            # \n",
    "            score += reward\n",
    "            loss_list.append(loss)\n",
    "            if done:\n",
    "                print('epi: {:3d} | score {:3.2f} | loss {:.4f}'\n",
    "                      .format(e+1, score, tf.reduce_mean(loss_list)))\n",
    "                scores = np.append(scores,score)\n",
    "                losses.append(tf.reduce_mean(loss_list))\n",
    "    print('Avg. score {:4.2f}, Avg. loss {:.4f}'.\n",
    "          format(tf.reduce_mean(scores), tf.reduce_mean(losses)))\n",
    "    env.close()     "
   ],
   "outputs": [
    {
     "output_type": "stream",
     "name": "stderr",
     "text": [
      "2021-07-23 21:28:54.674963: I tensorflow/compiler/jit/xla_cpu_device.cc:41] Not creating XLA devices, tf_xla_enable_xla_devices not set\n",
      "2021-07-23 21:28:54.675560: I tensorflow/stream_executor/platform/default/dso_loader.cc:49] Successfully opened dynamic library libcuda.so.1\n",
      "2021-07-23 21:28:54.719790: I tensorflow/core/common_runtime/gpu/gpu_device.cc:1720] Found device 0 with properties: \n",
      "pciBusID: 0000:65:00.0 name: GeForce RTX 2080 Ti computeCapability: 7.5\n",
      "coreClock: 1.545GHz coreCount: 68 deviceMemorySize: 10.76GiB deviceMemoryBandwidth: 573.69GiB/s\n",
      "2021-07-23 21:28:54.719823: I tensorflow/stream_executor/platform/default/dso_loader.cc:49] Successfully opened dynamic library libcudart.so.11.0\n",
      "2021-07-23 21:28:54.721927: I tensorflow/stream_executor/platform/default/dso_loader.cc:49] Successfully opened dynamic library libcublas.so.11\n",
      "2021-07-23 21:28:54.721988: I tensorflow/stream_executor/platform/default/dso_loader.cc:49] Successfully opened dynamic library libcublasLt.so.11\n",
      "2021-07-23 21:28:54.722855: I tensorflow/stream_executor/platform/default/dso_loader.cc:49] Successfully opened dynamic library libcufft.so.10\n",
      "2021-07-23 21:28:54.723081: I tensorflow/stream_executor/platform/default/dso_loader.cc:49] Successfully opened dynamic library libcurand.so.10\n",
      "2021-07-23 21:28:54.725179: I tensorflow/stream_executor/platform/default/dso_loader.cc:49] Successfully opened dynamic library libcusolver.so.10\n",
      "2021-07-23 21:28:54.725672: I tensorflow/stream_executor/platform/default/dso_loader.cc:49] Successfully opened dynamic library libcusparse.so.11\n",
      "2021-07-23 21:28:54.725763: I tensorflow/stream_executor/platform/default/dso_loader.cc:49] Successfully opened dynamic library libcudnn.so.8\n",
      "2021-07-23 21:28:54.726395: I tensorflow/core/common_runtime/gpu/gpu_device.cc:1862] Adding visible gpu devices: 0\n",
      "2021-07-23 21:28:54.726767: I tensorflow/core/platform/cpu_feature_guard.cc:142] This TensorFlow binary is optimized with oneAPI Deep Neural Network Library (oneDNN) to use the following CPU instructions in performance-critical operations:  AVX512F\n",
      "To enable them in other operations, rebuild TensorFlow with the appropriate compiler flags.\n",
      "2021-07-23 21:28:54.727699: I tensorflow/compiler/jit/xla_gpu_device.cc:99] Not creating XLA devices, tf_xla_enable_xla_devices not set\n",
      "2021-07-23 21:28:54.728078: I tensorflow/core/common_runtime/gpu/gpu_device.cc:1720] Found device 0 with properties: \n",
      "pciBusID: 0000:65:00.0 name: GeForce RTX 2080 Ti computeCapability: 7.5\n",
      "coreClock: 1.545GHz coreCount: 68 deviceMemorySize: 10.76GiB deviceMemoryBandwidth: 573.69GiB/s\n",
      "2021-07-23 21:28:54.728097: I tensorflow/stream_executor/platform/default/dso_loader.cc:49] Successfully opened dynamic library libcudart.so.11.0\n",
      "2021-07-23 21:28:54.728110: I tensorflow/stream_executor/platform/default/dso_loader.cc:49] Successfully opened dynamic library libcublas.so.11\n",
      "2021-07-23 21:28:54.728117: I tensorflow/stream_executor/platform/default/dso_loader.cc:49] Successfully opened dynamic library libcublasLt.so.11\n",
      "2021-07-23 21:28:54.728123: I tensorflow/stream_executor/platform/default/dso_loader.cc:49] Successfully opened dynamic library libcufft.so.10\n",
      "2021-07-23 21:28:54.728128: I tensorflow/stream_executor/platform/default/dso_loader.cc:49] Successfully opened dynamic library libcurand.so.10\n",
      "2021-07-23 21:28:54.728134: I tensorflow/stream_executor/platform/default/dso_loader.cc:49] Successfully opened dynamic library libcusolver.so.10\n",
      "2021-07-23 21:28:54.728140: I tensorflow/stream_executor/platform/default/dso_loader.cc:49] Successfully opened dynamic library libcusparse.so.11\n",
      "2021-07-23 21:28:54.728145: I tensorflow/stream_executor/platform/default/dso_loader.cc:49] Successfully opened dynamic library libcudnn.so.8\n",
      "2021-07-23 21:28:54.728720: I tensorflow/core/common_runtime/gpu/gpu_device.cc:1862] Adding visible gpu devices: 0\n",
      "2021-07-23 21:28:54.728742: I tensorflow/stream_executor/platform/default/dso_loader.cc:49] Successfully opened dynamic library libcudart.so.11.0\n",
      "2021-07-23 21:28:55.125907: I tensorflow/core/common_runtime/gpu/gpu_device.cc:1261] Device interconnect StreamExecutor with strength 1 edge matrix:\n",
      "2021-07-23 21:28:55.125937: I tensorflow/core/common_runtime/gpu/gpu_device.cc:1267]      0 \n",
      "2021-07-23 21:28:55.125943: I tensorflow/core/common_runtime/gpu/gpu_device.cc:1280] 0:   N \n",
      "2021-07-23 21:28:55.126970: I tensorflow/core/common_runtime/gpu/gpu_device.cc:1406] Created TensorFlow device (/job:localhost/replica:0/task:0/device:GPU:0 with 8907 MB memory) -> physical GPU (device: 0, name: GeForce RTX 2080 Ti, pci bus id: 0000:65:00.0, compute capability: 7.5)\n"
     ]
    },
    {
     "output_type": "stream",
     "name": "stdout",
     "text": [
      "Env Name :  LunarLander-v2\n",
      "States 8, Actions 4\n"
     ]
    },
    {
     "output_type": "stream",
     "name": "stderr",
     "text": [
      "2021-07-23 21:28:56.051322: I tensorflow/stream_executor/platform/default/dso_loader.cc:49] Successfully opened dynamic library libcublas.so.11\n",
      "2021-07-23 21:28:56.405202: I tensorflow/stream_executor/platform/default/dso_loader.cc:49] Successfully opened dynamic library libcublasLt.so.11\n"
     ]
    },
    {
     "output_type": "stream",
     "name": "stdout",
     "text": [
      "epi:   1 | score 220.96 | loss 4.4395\n",
      "epi:   2 | score 228.09 | loss 6.5300\n",
      "epi:   3 | score 149.43 | loss 9.5975\n",
      "epi:   4 | score 179.09 | loss 3.8855\n",
      "epi:   5 | score 200.56 | loss 3.5614\n",
      "epi:   6 | score 248.95 | loss 4.6770\n",
      "epi:   7 | score 206.98 | loss 7.4999\n",
      "epi:   8 | score 183.40 | loss 4.4573\n",
      "epi:   9 | score 232.92 | loss 6.2462\n",
      "epi:  10 | score 243.34 | loss 4.7110\n",
      "epi:  11 | score 200.45 | loss 4.9288\n",
      "epi:  12 | score 241.11 | loss 4.6664\n",
      "epi:  13 | score 194.93 | loss 5.8562\n",
      "epi:  14 | score 194.48 | loss 6.0831\n",
      "epi:  15 | score 240.97 | loss 4.8028\n",
      "epi:  16 | score 193.26 | loss 9.7190\n",
      "epi:  17 | score 200.64 | loss 5.0567\n",
      "epi:  18 | score 5.63 | loss 8.3881\n",
      "epi:  19 | score 183.01 | loss 4.6562\n",
      "epi:  20 | score 182.28 | loss 6.5038\n"
     ]
    }
   ],
   "metadata": {}
  },
  {
   "cell_type": "code",
   "execution_count": null,
   "source": [],
   "outputs": [],
   "metadata": {}
  }
 ],
 "metadata": {
  "interpreter": {
   "hash": "66ea66503304eb529da0cf7a98fb69d4bfb3e2a0fa541beb64a099d460fe9bfc"
  },
  "kernelspec": {
   "name": "python3",
   "display_name": "Python 3.7.10 64-bit ('tf240': conda)"
  },
  "language_info": {
   "name": "python",
   "version": "3.7.10",
   "mimetype": "text/x-python",
   "codemirror_mode": {
    "name": "ipython",
    "version": 3
   },
   "pygments_lexer": "ipython3",
   "nbconvert_exporter": "python",
   "file_extension": ".py"
  }
 },
 "nbformat": 4,
 "nbformat_minor": 5
}