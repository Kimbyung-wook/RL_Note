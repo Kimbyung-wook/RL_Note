{
 "cells": [
  {
   "cell_type": "code",
   "execution_count": 1,
   "source": [
    "import gym\n",
    "import sys\n",
    "import random\n",
    "import numpy as np\n",
    "import tensorflow as tf\n",
    "from tensorflow.keras.layers import Dense\n",
    "from collections import deque\n",
    "import matplotlib.pyplot as plt"
   ],
   "outputs": [],
   "metadata": {}
  },
  {
   "cell_type": "code",
   "execution_count": 2,
   "source": [
    "class A2C(tf.keras.Model):\n",
    "    def __init__(self, state_size, action_size):\n",
    "        super(A2C, self).__init__()\n",
    "        self.fc1 = Dense(64, activation='relu')\n",
    "        # self.fc2 = Dense(64, activation='relu')\n",
    "        self.actor  = Dense(action_size, activation='softmax',\n",
    "                                        kernel_initializer=tf.keras.initializers.RandomUniform(-1e-3,1e-3))\n",
    "        self.critic = Dense(1,\n",
    "                                        kernel_initializer=tf.keras.initializers.RandomUniform(-1e-3,1e-3))\n",
    "        \n",
    "    def call(self, x):\n",
    "        x      = self.fc1(x)\n",
    "        # x      = self.fc2(x)\n",
    "        policy = self.actor(x)\n",
    "        value  = self.critic(x)\n",
    "        return policy, value"
   ],
   "outputs": [],
   "metadata": {}
  },
  {
   "cell_type": "code",
   "execution_count": 3,
   "source": [
    "class A2CAgent:\n",
    "    def __init__(self, state_size, action_size):\n",
    "        self.state_size = state_size\n",
    "        self.action_size= action_size\n",
    "        \n",
    "        # Hyper params for learning\n",
    "        self.discount_factor = 0.99\n",
    "        \n",
    "        self.model = A2C(self.state_size,self.action_size)\n",
    "        self.model.load_weights(\"./save_model/LunarLanderv2_a2c_TF\")\n",
    "        \n",
    "    def get_action(self, state):\n",
    "        state = np.reshape(state, [1, self.state_size])\n",
    "        policy, _ = self.model(state)\n",
    "        policy = np.array(policy[0])\n",
    "        return np.random.choice(self.action_size, 1, p=policy)[0]\n",
    "        \n",
    "    def train_model(self, state, action, reward, next_state, done):\n",
    "        state = np.reshape(state, [1, self.state_size])\n",
    "        next_state = np.reshape(next_state, [1, self.state_size])\n",
    "        model_params = self.model.trainable_variables\n",
    "        policy, value      = self.model(state)\n",
    "        _,      next_value = self.model(next_state)\n",
    "        target = reward + (1 - done) * self.discount_factor * next_value[0]\n",
    "\n",
    "        # For policy network\n",
    "        one_hot_action = tf.one_hot([action], self.action_size)\n",
    "        action_prob = tf.reduce_sum(one_hot_action * policy, axis=1)\n",
    "        cross_entropy = - tf.math.log(action_prob + 1e-5)\n",
    "        advantage = tf.stop_gradient(target - value[0])\n",
    "        actor_loss = tf.reduce_mean(cross_entropy * advantage)\n",
    "\n",
    "        # For value network\n",
    "        critic_loss = 0.5 * tf.square(tf.stop_gradient(target) - value[0])\n",
    "        critic_loss = tf.reduce_mean(critic_loss)\n",
    "\n",
    "        # integrate losses\n",
    "        loss = 0.2 * actor_loss + critic_loss\n",
    "            \n",
    "        return np.array(loss)"
   ],
   "outputs": [],
   "metadata": {}
  },
  {
   "cell_type": "code",
   "execution_count": 4,
   "source": [
    "%matplotlib tk\n",
    "\n",
    "ENV_NAME = 'LunarLander-v2'\n",
    "EPISODES = 10\n",
    "# END_SCORE = 200\n",
    "\n",
    "if __name__ == \"__main__\":\n",
    "    env = gym.make(ENV_NAME)\n",
    "    state_size = env.observation_space.shape[0]\n",
    "    action_size = env.action_space.n\n",
    "\n",
    "    agent = A2CAgent(state_size, action_size)\n",
    "    print('Env Name : ',ENV_NAME)\n",
    "    print('States {}, Actions {}'\n",
    "            .format(state_size, action_size))\n",
    "\n",
    "    scores, episodes, losses = [], [], []\n",
    "    score_avg = 0\n",
    "    \n",
    "    end = False\n",
    "    \n",
    "    for e in range(EPISODES):\n",
    "        # Episode initialization\n",
    "        done = False\n",
    "        score = 0\n",
    "        loss_list = []\n",
    "        \n",
    "        state = env.reset()\n",
    "        while not done:\n",
    "            env.render()\n",
    "\n",
    "            # Interact with env.\n",
    "            action = agent.get_action(state)\n",
    "            next_state, reward, done, info = env.step(action)\n",
    "            loss = agent.train_model(state, action, reward, next_state, done)\n",
    "            state = next_state\n",
    "\n",
    "            # \n",
    "            score += reward\n",
    "            loss_list.append(loss)\n",
    "            if done:\n",
    "                print('epi: {:3d} | score {:6.2f} | loss {:7.4f}'\n",
    "                      .format(e+1, score, tf.reduce_mean(loss_list)))\n",
    "                scores = np.append(scores,score)\n",
    "                losses.append(tf.reduce_mean(loss_list))\n",
    "    print('Avg. score {:6.2f}, Avg. loss {:7.4f}'.\n",
    "          format(tf.reduce_mean(scores), tf.reduce_mean(losses)))\n",
    "    env.close()     "
   ],
   "outputs": [
    {
     "output_type": "stream",
     "name": "stdout",
     "text": [
      "Env Name :  LunarLander-v2\n",
      "States 8, Actions 4\n",
      "epi:   1 | score 21.17 | loss 14.9523\n",
      "epi:   2 | score 258.54 | loss 5.8380\n",
      "epi:   3 | score 236.02 | loss 6.6211\n",
      "epi:   4 | score 221.04 | loss 4.9660\n",
      "epi:   5 | score 190.85 | loss 4.5637\n",
      "epi:   6 | score 198.03 | loss 5.4835\n",
      "epi:   7 | score 218.07 | loss 7.2222\n",
      "epi:   8 | score 225.81 | loss 6.3970\n",
      "epi:   9 | score 223.19 | loss 6.1927\n",
      "epi:  10 | score 183.98 | loss 10.0756\n",
      "Avg. score 197.67, Avg. loss 7.2312\n"
     ]
    }
   ],
   "metadata": {}
  },
  {
   "cell_type": "code",
   "execution_count": null,
   "source": [],
   "outputs": [],
   "metadata": {}
  }
 ],
 "metadata": {
  "interpreter": {
   "hash": "66ea66503304eb529da0cf7a98fb69d4bfb3e2a0fa541beb64a099d460fe9bfc"
  },
  "kernelspec": {
   "name": "python3",
   "display_name": "Python 3.7.9 64-bit ('TF240': conda)",
   "metadata": {
    "interpreter": {
     "hash": "8f237aa33f5a133d3a67a1e00bf3cb9d47b6c38bcc6ab493273f5d4df41b8866"
    }
   }
  },
  "language_info": {
   "name": "python",
   "version": "3.7.9",
   "mimetype": "text/x-python",
   "codemirror_mode": {
    "name": "ipython",
    "version": 3
   },
   "pygments_lexer": "ipython3",
   "nbconvert_exporter": "python",
   "file_extension": ".py"
  }
 },
 "nbformat": 4,
 "nbformat_minor": 5
}