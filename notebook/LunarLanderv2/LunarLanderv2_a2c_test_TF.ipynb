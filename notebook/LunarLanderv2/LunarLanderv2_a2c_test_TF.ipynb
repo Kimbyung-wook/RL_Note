{
 "cells": [
  {
   "cell_type": "code",
   "execution_count": 1,
   "source": [
    "import gym\r\n",
    "import sys\r\n",
    "import random\r\n",
    "import numpy as np\r\n",
    "import tensorflow as tf\r\n",
    "from tensorflow.keras.layers import Dense\r\n",
    "from collections import deque\r\n",
    "import matplotlib.pyplot as plt"
   ],
   "outputs": [],
   "metadata": {}
  },
  {
   "cell_type": "code",
   "execution_count": 2,
   "source": [
    "class A2C(tf.keras.Model):\r\n",
    "    def __init__(self, state_size, action_size):\r\n",
    "        super(A2C, self).__init__()\r\n",
    "        self.fc1 = Dense(64, activation='relu')\r\n",
    "        # self.fc2 = Dense(64, activation='relu')\r\n",
    "        self.actor  = Dense(action_size, activation='softmax',\r\n",
    "                                        kernel_initializer=tf.keras.initializers.RandomUniform(-1e-3,1e-3))\r\n",
    "        self.critic = Dense(1,\r\n",
    "                                        kernel_initializer=tf.keras.initializers.RandomUniform(-1e-3,1e-3))\r\n",
    "        \r\n",
    "    def call(self, x):\r\n",
    "        x      = self.fc1(x)\r\n",
    "        # x      = self.fc2(x)\r\n",
    "        policy = self.actor(x)\r\n",
    "        value  = self.critic(x)\r\n",
    "        return policy, value"
   ],
   "outputs": [],
   "metadata": {}
  },
  {
   "cell_type": "code",
   "execution_count": 3,
   "source": [
    "class A2CAgent:\r\n",
    "    def __init__(self, state_size, action_size):\r\n",
    "        self.state_size = state_size\r\n",
    "        self.action_size= action_size\r\n",
    "        \r\n",
    "        # Hyper params for learning\r\n",
    "        self.discount_factor = 0.99\r\n",
    "        \r\n",
    "        self.model = A2C(self.state_size,self.action_size)\r\n",
    "        self.model.load_weights(\"./save_model/LunarLanderv2_a2c_TF\")\r\n",
    "        \r\n",
    "    def get_action(self, state):\r\n",
    "        state = tf.convert_to_tensor([state], dtype=tf.float32)\r\n",
    "        policy, _ = self.model(state)\r\n",
    "        policy = np.array(policy[0])\r\n",
    "        return np.random.choice(self.action_size, 1, p=policy)[0]\r\n",
    "        \r\n",
    "    def train_model(self, state, action, reward, next_state, done):\r\n",
    "        state = tf.convert_to_tensor([state], dtype=tf.float32)\r\n",
    "        next_state = tf.convert_to_tensor([next_state], dtype=tf.float32)\r\n",
    "        model_params = self.model.trainable_variables\r\n",
    "        policy, value      = self.model(state)\r\n",
    "        _,      next_value = self.model(next_state)\r\n",
    "        target = reward + (1 - done) * self.discount_factor * next_value[0]\r\n",
    "\r\n",
    "        # For policy network\r\n",
    "        one_hot_action = tf.one_hot([action], self.action_size)\r\n",
    "        action_prob = tf.reduce_sum(one_hot_action * policy, axis=1)\r\n",
    "        cross_entropy = - tf.math.log(action_prob + 1e-5)\r\n",
    "        advantage = tf.stop_gradient(target - value[0])\r\n",
    "        actor_loss = tf.reduce_mean(cross_entropy * advantage)\r\n",
    "\r\n",
    "        # For value network\r\n",
    "        critic_loss = 0.5 * tf.square(tf.stop_gradient(target) - value[0])\r\n",
    "        critic_loss = tf.reduce_mean(critic_loss)\r\n",
    "\r\n",
    "        # integrate losses\r\n",
    "        loss = 0.2 * actor_loss + critic_loss\r\n",
    "            \r\n",
    "        return np.array(loss)"
   ],
   "outputs": [],
   "metadata": {}
  },
  {
   "cell_type": "code",
   "execution_count": 4,
   "source": [
    "%matplotlib tk\r\n",
    "\r\n",
    "ENV_NAME = 'LunarLander-v2'\r\n",
    "EPISODES = 10\r\n",
    "# END_SCORE = 200\r\n",
    "\r\n",
    "if __name__ == \"__main__\":\r\n",
    "    env = gym.make(ENV_NAME)\r\n",
    "    state_size = env.observation_space.shape[0]\r\n",
    "    action_size = env.action_space.n\r\n",
    "\r\n",
    "    agent = A2CAgent(state_size, action_size)\r\n",
    "    print('Env Name : ',ENV_NAME)\r\n",
    "    print('States {}, Actions {}'\r\n",
    "            .format(state_size, action_size))\r\n",
    "\r\n",
    "    scores, episodes, losses = [], [], []\r\n",
    "    score_avg = 0\r\n",
    "    \r\n",
    "    end = False\r\n",
    "    \r\n",
    "    for e in range(EPISODES):\r\n",
    "        # Episode initialization\r\n",
    "        done = False\r\n",
    "        score = 0\r\n",
    "        loss_list = []\r\n",
    "        \r\n",
    "        state = env.reset()\r\n",
    "        while not done:\r\n",
    "            env.render()\r\n",
    "\r\n",
    "            # Interact with env.\r\n",
    "            action = agent.get_action(state)\r\n",
    "            next_state, reward, done, info = env.step(action)\r\n",
    "            loss = agent.train_model(state, action, reward, next_state, done)\r\n",
    "            state = next_state\r\n",
    "\r\n",
    "            # \r\n",
    "            score += reward\r\n",
    "            loss_list.append(loss)\r\n",
    "            if done:\r\n",
    "                print('epi: {:3d} | score {:6.2f} | loss {:7.4f}'\r\n",
    "                      .format(e+1, score, tf.reduce_mean(loss_list)))\r\n",
    "                scores = np.append(scores,score)\r\n",
    "                losses.append(tf.reduce_mean(loss_list))\r\n",
    "    print('Avg. score {:6.2f}, Avg. loss {:7.4f}'.\r\n",
    "          format(tf.reduce_mean(scores), tf.reduce_mean(losses)))\r\n",
    "    env.close()     "
   ],
   "outputs": [
    {
     "output_type": "stream",
     "name": "stdout",
     "text": [
      "Env Name :  LunarLander-v2\n",
      "States 8, Actions 4\n",
      "epi:   1 | score 21.17 | loss 14.9523\n",
      "epi:   2 | score 258.54 | loss 5.8380\n",
      "epi:   3 | score 236.02 | loss 6.6211\n",
      "epi:   4 | score 221.04 | loss 4.9660\n",
      "epi:   5 | score 190.85 | loss 4.5637\n",
      "epi:   6 | score 198.03 | loss 5.4835\n",
      "epi:   7 | score 218.07 | loss 7.2222\n",
      "epi:   8 | score 225.81 | loss 6.3970\n",
      "epi:   9 | score 223.19 | loss 6.1927\n",
      "epi:  10 | score 183.98 | loss 10.0756\n",
      "Avg. score 197.67, Avg. loss 7.2312\n"
     ]
    }
   ],
   "metadata": {}
  },
  {
   "cell_type": "code",
   "execution_count": null,
   "source": [],
   "outputs": [],
   "metadata": {}
  }
 ],
 "metadata": {
  "interpreter": {
   "hash": "66ea66503304eb529da0cf7a98fb69d4bfb3e2a0fa541beb64a099d460fe9bfc"
  },
  "kernelspec": {
   "name": "python3",
   "display_name": "Python 3.7.9 64-bit ('TF240': conda)",
   "metadata": {
    "interpreter": {
     "hash": "8f237aa33f5a133d3a67a1e00bf3cb9d47b6c38bcc6ab493273f5d4df41b8866"
    }
   }
  },
  "language_info": {
   "name": "python",
   "version": "3.7.9",
   "mimetype": "text/x-python",
   "codemirror_mode": {
    "name": "ipython",
    "version": 3
   },
   "pygments_lexer": "ipython3",
   "nbconvert_exporter": "python",
   "file_extension": ".py"
  }
 },
 "nbformat": 4,
 "nbformat_minor": 5
}