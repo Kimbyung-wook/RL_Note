{
 "cells": [
  {
   "cell_type": "code",
   "execution_count": 1,
   "source": [
    "import numpy as np\n",
    "import matplotlib.pyplot as plt"
   ],
   "outputs": [],
   "metadata": {}
  },
  {
   "cell_type": "code",
   "execution_count": 2,
   "source": [
    "pendulum_ddpg_epi   = np.load('./save_model/data/pendulum_ddpg_TF_epi.npy')\n",
    "pendulum_ddpg_score_avg = np.load('./save_model/data/pendulum_ddpg_TF_scores_avg.npy')\n",
    "pendulum_ddpg_score_raw = np.load('./save_model/data/pendulum_ddpg_TF_scores_raw.npy')\n",
    "\n",
    "pendulum_sac_epi   = np.load('./save_model/data/pendulum_sac_TF_epi.npy')\n",
    "pendulum_sac_score_avg = np.load('./save_model/data/pendulum_sac_TF_scores_avg.npy')\n",
    "pendulum_sac_score_raw = np.load('./save_model/data/pendulum_sac_TF_scores_raw.npy')\n",
    "\n",
    "pendulum_td3_epi   = np.load('./save_model/data/pendulum_td3_TF_epi.npy')\n",
    "pendulum_td3_score_avg = np.load('./save_model/data/pendulum_td3_TF_scores_avg.npy')\n",
    "pendulum_td3_score_raw = np.load('./save_model/data/pendulum_td3_TF_scores_raw.npy')"
   ],
   "outputs": [],
   "metadata": {}
  },
  {
   "cell_type": "code",
   "execution_count": 3,
   "source": [
    "%matplotlib tk\n",
    "fig = plt.figure(1)\n",
    "plt.plot(pendulum_ddpg_epi,pendulum_ddpg_score_avg,label='DDPG',c='b')\n",
    "plt.plot(pendulum_td3_epi,pendulum_td3_score_avg,label='TD3 - tau=0.9',c='g')\n",
    "plt.plot(pendulum_sac_epi,pendulum_sac_score_avg,label='SAC - tau=0.9',c='r')\n",
    "plt.plot(pendulum_td3_epi,pendulum_td3_score_raw,label='TD3 - raw',c='g',alpha=0.2,linewidth=0.5)\n",
    "plt.plot(pendulum_sac_epi,pendulum_sac_score_raw,label='SAC - raw',c='r',alpha=0.2,linewidth=0.5)\n",
    "plt.xlabel('episode')\n",
    "plt.ylabel('score')\n",
    "plt.grid()\n",
    "plt.legend()\n",
    "plt.legend(['DDPG','TD3','SAC'],loc='lower right')\n",
    "plt.title('Performance Comparison : Pendulum')\n"
   ],
   "outputs": [
    {
     "output_type": "execute_result",
     "data": {
      "text/plain": [
       "Text(0.5, 1.0, 'Performance Comparison : Pendulum')"
      ]
     },
     "metadata": {},
     "execution_count": 3
    }
   ],
   "metadata": {}
  },
  {
   "cell_type": "code",
   "execution_count": null,
   "source": [],
   "outputs": [],
   "metadata": {}
  }
 ],
 "metadata": {
  "kernelspec": {
   "name": "python3",
   "display_name": "Python 3.7.10 64-bit ('tf240': conda)"
  },
  "language_info": {
   "codemirror_mode": {
    "name": "ipython",
    "version": 3
   },
   "file_extension": ".py",
   "mimetype": "text/x-python",
   "name": "python",
   "nbconvert_exporter": "python",
   "pygments_lexer": "ipython3",
   "version": "3.7.10"
  },
  "interpreter": {
   "hash": "61683dc6b2a2d3d4f2fca4fc9c31d7600238da1c31c9bb494e8f77b62993b62b"
  }
 },
 "nbformat": 4,
 "nbformat_minor": 5
}