{
 "cells": [
  {
   "cell_type": "code",
   "execution_count": 1,
   "source": [
    "import numpy as np\r\n",
    "import matplotlib.pyplot as plt"
   ],
   "outputs": [],
   "metadata": {}
  },
  {
   "cell_type": "code",
   "execution_count": 2,
   "source": [
    "pendulum_ddpg_epi           = np.load('./save_model/data/pendulum_ddpg_TF_epi.npy')\r\n",
    "pendulum_ddpg_score_avg     = np.load('./save_model/data/pendulum_ddpg_TF_scores_avg.npy')\r\n",
    "pendulum_ddpg_score_raw     = np.load('./save_model/data/pendulum_ddpg_TF_scores_raw.npy')\r\n",
    "pendulum_ddpg_per_epi       = np.load('./save_model/data/pendulum_ddpg_per_TF_epi.npy')\r\n",
    "pendulum_ddpg_per_score_avg = np.load('./save_model/data/pendulum_ddpg_per_TF_scores_avg.npy')\r\n",
    "pendulum_ddpg_per_score_raw = np.load('./save_model/data/pendulum_ddpg_per_TF_scores_raw.npy')\r\n",
    "pendulum_sac_epi            = np.load('./save_model/data/pendulum_sac_TF_epi.npy')\r\n",
    "pendulum_sac_score_avg      = np.load('./save_model/data/pendulum_sac_TF_scores_avg.npy')\r\n",
    "pendulum_sac_score_raw      = np.load('./save_model/data/pendulum_sac_TF_scores_raw.npy')\r\n",
    "pendulum_td3_epi            = np.load('./save_model/data/pendulum_td3_TF_epi.npy')\r\n",
    "pendulum_td3_score_avg      = np.load('./save_model/data/pendulum_td3_TF_scores_avg.npy')\r\n",
    "pendulum_td3_score_raw      = np.load('./save_model/data/pendulum_td3_TF_scores_raw.npy')"
   ],
   "outputs": [],
   "metadata": {}
  },
  {
   "cell_type": "code",
   "execution_count": 3,
   "source": [
    "%matplotlib tk\r\n",
    "fig = plt.figure(1)\r\n",
    "plt.plot(pendulum_ddpg_epi,pendulum_ddpg_score_avg,             label='DDPG',c='b')\r\n",
    "plt.plot(pendulum_ddpg_per_epi,pendulum_ddpg_per_score_avg,     label='DDPG_PER',c='k')\r\n",
    "plt.plot(pendulum_td3_epi,pendulum_td3_score_avg,               label='TD3',c='g')\r\n",
    "plt.plot(pendulum_sac_epi,pendulum_sac_score_avg,               label='SAC',c='r')\r\n",
    "plt.plot(pendulum_ddpg_epi,pendulum_ddpg_score_raw,             label='DDPG',c='b',alpha=0.2,linewidth=0.5)\r\n",
    "plt.plot(pendulum_ddpg_per_epi,pendulum_ddpg_per_score_raw,     label='DDPG_PER',c='k',alpha=0.2,linewidth=0.5)\r\n",
    "plt.plot(pendulum_td3_epi,pendulum_td3_score_raw,               label='TD3',c='g',alpha=0.2,linewidth=0.5)\r\n",
    "plt.plot(pendulum_sac_epi,pendulum_sac_score_raw,               label='SAC',c='r',alpha=0.2,linewidth=0.5)\r\n",
    "plt.xlabel('episode')\r\n",
    "plt.ylabel('score')\r\n",
    "plt.grid()\r\n",
    "plt.legend()\r\n",
    "plt.legend(['DDPG','DDPG-PER','TD3','SAC'],loc='lower right')\r\n",
    "plt.title('Performance Comparison : Pendulum')\r\n",
    "plt.savefig(\"compare_agents.png\")\r\n"
   ],
   "outputs": [],
   "metadata": {}
  },
  {
   "cell_type": "code",
   "execution_count": null,
   "source": [],
   "outputs": [],
   "metadata": {}
  }
 ],
 "metadata": {
  "kernelspec": {
   "name": "python3",
   "display_name": "Python 3.7.9 64-bit ('TF240': conda)",
   "metadata": {
    "interpreter": {
     "hash": "8f237aa33f5a133d3a67a1e00bf3cb9d47b6c38bcc6ab493273f5d4df41b8866"
    }
   }
  },
  "language_info": {
   "codemirror_mode": {
    "name": "ipython",
    "version": 3
   },
   "file_extension": ".py",
   "mimetype": "text/x-python",
   "name": "python",
   "nbconvert_exporter": "python",
   "pygments_lexer": "ipython3",
   "version": "3.7.9"
  },
  "interpreter": {
   "hash": "61683dc6b2a2d3d4f2fca4fc9c31d7600238da1c31c9bb494e8f77b62993b62b"
  }
 },
 "nbformat": 4,
 "nbformat_minor": 5
}