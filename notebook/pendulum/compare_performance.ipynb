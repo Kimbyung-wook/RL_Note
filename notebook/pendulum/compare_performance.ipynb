{
 "cells": [
  {
   "cell_type": "code",
   "execution_count": 1,
   "source": [
    "import numpy as np\n",
    "import matplotlib.pyplot as plt"
   ],
   "outputs": [],
   "metadata": {}
  },
  {
   "cell_type": "code",
   "execution_count": 2,
   "source": [
    "pendulum_ddpg_epi           = np.load('./save_model/data/Pendulum-v0_DDPG_ER_TF_epi.npy')\n",
    "pendulum_ddpg_score_avg     = np.load('./save_model/data/Pendulum-v0_DDPG_ER_TF_scores_avg.npy')\n",
    "pendulum_ddpg_score_raw     = np.load('./save_model/data/Pendulum-v0_DDPG_ER_TF_scores_raw.npy')\n",
    "pendulum_ddpg_per_epi       = np.load('./save_model/data/Pendulum-v0_DDPG_PER_TF_epi.npy')\n",
    "pendulum_ddpg_per_score_avg = np.load('./save_model/data/Pendulum-v0_DDPG_PER_TF_scores_avg.npy')\n",
    "pendulum_ddpg_per_score_raw = np.load('./save_model/data/Pendulum-v0_DDPG_PER_TF_scores_raw.npy')\n",
    "pendulum_td3_epi            = np.load('./save_model/data/Pendulum-v0_TD3_ER_TF_epi.npy')\n",
    "pendulum_td3_score_avg      = np.load('./save_model/data/Pendulum-v0_TD3_ER_TF_scores_avg.npy')\n",
    "pendulum_td3_score_raw      = np.load('./save_model/data/Pendulum-v0_TD3_ER_TF_scores_raw.npy')\n",
    "pendulum_td3_per_epi        = np.load('./save_model/data/Pendulum-v0_TD3_PER_TF_epi.npy')\n",
    "pendulum_td3_per_score_avg  = np.load('./save_model/data/Pendulum-v0_TD3_PER_TF_scores_avg.npy')\n",
    "pendulum_td3_per_score_raw  = np.load('./save_model/data/Pendulum-v0_TD3_PER_TF_scores_raw.npy')\n",
    "pendulum_sac_epi            = np.load('./save_model/data/Pendulum-v0_SAC_ER_TF_epi.npy')\n",
    "pendulum_sac_score_avg      = np.load('./save_model/data/Pendulum-v0_SAC_ER_TF_scores_avg.npy')\n",
    "pendulum_sac_score_raw      = np.load('./save_model/data/Pendulum-v0_SAC_ER_TF_scores_raw.npy')\n",
    "pendulum_sac_per_epi        = np.load('./save_model/data/Pendulum-v0_SAC_PER_TF_epi.npy')\n",
    "pendulum_sac_per_score_avg  = np.load('./save_model/data/Pendulum-v0_SAC_PER_TF_scores_avg.npy')\n",
    "pendulum_sac_per_score_raw  = np.load('./save_model/data/Pendulum-v0_SAC_PER_TF_scores_raw.npy')"
   ],
   "outputs": [],
   "metadata": {}
  },
  {
   "cell_type": "code",
   "execution_count": 3,
   "source": [
    "%matplotlib tk\n",
    "fig = plt.figure(1)\n",
    "plt.plot(pendulum_ddpg_epi,pendulum_ddpg_score_avg,             label='DDPG',c='b')\n",
    "plt.plot(pendulum_ddpg_per_epi,pendulum_ddpg_per_score_avg,     label='DDPG_PER',c='b',linestyle='dashed')\n",
    "plt.plot(pendulum_td3_epi,pendulum_td3_score_avg,               label='TD3',c='g')\n",
    "plt.plot(pendulum_td3_per_epi,pendulum_td3_per_score_avg,       label='TD3_PER',c='g',linestyle='dashed')\n",
    "plt.plot(pendulum_sac_epi,pendulum_sac_score_avg,               label='SAC',c='r')\n",
    "plt.plot(pendulum_sac_per_epi,pendulum_sac_per_score_avg,       label='SAC_PER',c='r',linestyle='dashed')\n",
    "plt.plot(pendulum_ddpg_epi,pendulum_ddpg_score_raw,             label='DDPG',c='b',alpha=0.2,linewidth=0.5)\n",
    "plt.plot(pendulum_ddpg_per_epi,pendulum_ddpg_per_score_raw,     label='DDPG_PER',c='b',alpha=0.2,linewidth=0.5,linestyle='dashed')\n",
    "plt.plot(pendulum_td3_epi,pendulum_td3_score_raw,               label='TD3',c='g',alpha=0.2,linewidth=0.5)\n",
    "plt.plot(pendulum_td3_per_epi,pendulum_td3_per_score_raw,       label='TD3_PER',c='g',alpha=0.2,linewidth=0.5,linestyle='dashed')\n",
    "plt.plot(pendulum_sac_epi,pendulum_sac_score_raw,               label='SAC',c='r',alpha=0.2,linewidth=0.5)\n",
    "plt.plot(pendulum_sac_per_epi,pendulum_sac_per_score_raw,       label='SAC_PER',c='r',alpha=0.2,linewidth=0.5,linestyle='dashed')\n",
    "plt.xlabel('episode')\n",
    "plt.ylabel('score')\n",
    "plt.grid()\n",
    "plt.legend()\n",
    "plt.legend(['DDPG','DDPG PER','TD3','TD3 PER','SAC','SAC PER'],loc='lower right')\n",
    "plt.title('Performance Comparison : Pendulum')\n",
    "plt.savefig(\"compare_agents.png\")\n"
   ],
   "outputs": [
    {
     "output_type": "error",
     "ename": "NameError",
     "evalue": "name 'pendulum_sac_epi_per' is not defined",
     "traceback": [
      "\u001b[1;31m---------------------------------------------------------------------------\u001b[0m",
      "\u001b[1;31mNameError\u001b[0m                                 Traceback (most recent call last)",
      "\u001b[1;32m<ipython-input-3-9c3ccb830aa8>\u001b[0m in \u001b[0;36m<module>\u001b[1;34m\u001b[0m\n\u001b[0;32m      6\u001b[0m \u001b[0mplt\u001b[0m\u001b[1;33m.\u001b[0m\u001b[0mplot\u001b[0m\u001b[1;33m(\u001b[0m\u001b[0mpendulum_td3_per_epi\u001b[0m\u001b[1;33m,\u001b[0m\u001b[0mpendulum_td3_per_score_avg\u001b[0m\u001b[1;33m,\u001b[0m       \u001b[0mlabel\u001b[0m\u001b[1;33m=\u001b[0m\u001b[1;34m'TD3_PER'\u001b[0m\u001b[1;33m,\u001b[0m\u001b[0mc\u001b[0m\u001b[1;33m=\u001b[0m\u001b[1;34m'g'\u001b[0m\u001b[1;33m,\u001b[0m\u001b[0mlinestyle\u001b[0m\u001b[1;33m=\u001b[0m\u001b[1;34m'dashed'\u001b[0m\u001b[1;33m)\u001b[0m\u001b[1;33m\u001b[0m\u001b[1;33m\u001b[0m\u001b[0m\n\u001b[0;32m      7\u001b[0m \u001b[0mplt\u001b[0m\u001b[1;33m.\u001b[0m\u001b[0mplot\u001b[0m\u001b[1;33m(\u001b[0m\u001b[0mpendulum_sac_epi\u001b[0m\u001b[1;33m,\u001b[0m\u001b[0mpendulum_sac_score_avg\u001b[0m\u001b[1;33m,\u001b[0m               \u001b[0mlabel\u001b[0m\u001b[1;33m=\u001b[0m\u001b[1;34m'SAC'\u001b[0m\u001b[1;33m,\u001b[0m\u001b[0mc\u001b[0m\u001b[1;33m=\u001b[0m\u001b[1;34m'r'\u001b[0m\u001b[1;33m)\u001b[0m\u001b[1;33m\u001b[0m\u001b[1;33m\u001b[0m\u001b[0m\n\u001b[1;32m----> 8\u001b[1;33m \u001b[0mplt\u001b[0m\u001b[1;33m.\u001b[0m\u001b[0mplot\u001b[0m\u001b[1;33m(\u001b[0m\u001b[0mpendulum_sac_epi_per\u001b[0m\u001b[1;33m,\u001b[0m\u001b[0mpendulum_sac_per_score_avg\u001b[0m\u001b[1;33m,\u001b[0m       \u001b[0mlabel\u001b[0m\u001b[1;33m=\u001b[0m\u001b[1;34m'SAC_PER'\u001b[0m\u001b[1;33m,\u001b[0m\u001b[0mc\u001b[0m\u001b[1;33m=\u001b[0m\u001b[1;34m'r'\u001b[0m\u001b[1;33m,\u001b[0m\u001b[0mlinestyle\u001b[0m\u001b[1;33m=\u001b[0m\u001b[1;34m'dashed'\u001b[0m\u001b[1;33m)\u001b[0m\u001b[1;33m\u001b[0m\u001b[1;33m\u001b[0m\u001b[0m\n\u001b[0m\u001b[0;32m      9\u001b[0m \u001b[0mplt\u001b[0m\u001b[1;33m.\u001b[0m\u001b[0mplot\u001b[0m\u001b[1;33m(\u001b[0m\u001b[0mpendulum_ddpg_epi\u001b[0m\u001b[1;33m,\u001b[0m\u001b[0mpendulum_ddpg_score_raw\u001b[0m\u001b[1;33m,\u001b[0m             \u001b[0mlabel\u001b[0m\u001b[1;33m=\u001b[0m\u001b[1;34m'DDPG'\u001b[0m\u001b[1;33m,\u001b[0m\u001b[0mc\u001b[0m\u001b[1;33m=\u001b[0m\u001b[1;34m'b'\u001b[0m\u001b[1;33m,\u001b[0m\u001b[0malpha\u001b[0m\u001b[1;33m=\u001b[0m\u001b[1;36m0.2\u001b[0m\u001b[1;33m,\u001b[0m\u001b[0mlinewidth\u001b[0m\u001b[1;33m=\u001b[0m\u001b[1;36m0.5\u001b[0m\u001b[1;33m)\u001b[0m\u001b[1;33m\u001b[0m\u001b[1;33m\u001b[0m\u001b[0m\n\u001b[0;32m     10\u001b[0m \u001b[0mplt\u001b[0m\u001b[1;33m.\u001b[0m\u001b[0mplot\u001b[0m\u001b[1;33m(\u001b[0m\u001b[0mpendulum_ddpg_per_epi\u001b[0m\u001b[1;33m,\u001b[0m\u001b[0mpendulum_ddpg_per_score_raw\u001b[0m\u001b[1;33m,\u001b[0m     \u001b[0mlabel\u001b[0m\u001b[1;33m=\u001b[0m\u001b[1;34m'DDPG_PER'\u001b[0m\u001b[1;33m,\u001b[0m\u001b[0mc\u001b[0m\u001b[1;33m=\u001b[0m\u001b[1;34m'b'\u001b[0m\u001b[1;33m,\u001b[0m\u001b[0malpha\u001b[0m\u001b[1;33m=\u001b[0m\u001b[1;36m0.2\u001b[0m\u001b[1;33m,\u001b[0m\u001b[0mlinewidth\u001b[0m\u001b[1;33m=\u001b[0m\u001b[1;36m0.5\u001b[0m\u001b[1;33m,\u001b[0m\u001b[0mlinestyle\u001b[0m\u001b[1;33m=\u001b[0m\u001b[1;34m'dashed'\u001b[0m\u001b[1;33m)\u001b[0m\u001b[1;33m\u001b[0m\u001b[1;33m\u001b[0m\u001b[0m\n",
      "\u001b[1;31mNameError\u001b[0m: name 'pendulum_sac_epi_per' is not defined"
     ]
    }
   ],
   "metadata": {}
  },
  {
   "cell_type": "code",
   "execution_count": null,
   "source": [],
   "outputs": [],
   "metadata": {}
  }
 ],
 "metadata": {
  "kernelspec": {
   "name": "python3",
   "display_name": "Python 3.7.9 64-bit ('TF240': conda)",
   "metadata": {
    "interpreter": {
     "hash": "8f237aa33f5a133d3a67a1e00bf3cb9d47b6c38bcc6ab493273f5d4df41b8866"
    }
   }
  },
  "language_info": {
   "codemirror_mode": {
    "name": "ipython",
    "version": 3
   },
   "file_extension": ".py",
   "mimetype": "text/x-python",
   "name": "python",
   "nbconvert_exporter": "python",
   "pygments_lexer": "ipython3",
   "version": "3.7.9"
  },
  "interpreter": {
   "hash": "61683dc6b2a2d3d4f2fca4fc9c31d7600238da1c31c9bb494e8f77b62993b62b"
  }
 },
 "nbformat": 4,
 "nbformat_minor": 5
}