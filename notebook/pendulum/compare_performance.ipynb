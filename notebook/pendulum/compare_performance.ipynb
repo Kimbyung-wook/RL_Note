{
 "cells": [
  {
   "cell_type": "code",
   "execution_count": 1,
   "id": "9a8fe3c7",
   "metadata": {},
   "outputs": [],
   "source": [
    "import numpy as np\n",
    "import matplotlib.pyplot as plt"
   ]
  },
  {
   "cell_type": "code",
   "execution_count": 2,
   "id": "fb1122a6",
   "metadata": {},
   "outputs": [],
   "source": [
    "pendulum_sac_epi   = np.load('./save_model/data/pendulum_sac_TF_epi.npy')\n",
    "pendulum_sac_score = np.load('./save_model/data/pendulum_sac_TF_score.npy')\n",
    "\n",
    "pendulum_ddpg_epi   = np.load('./save_model/data/pendulum_ddpg_TF_epi.npy')\n",
    "pendulum_ddpg_score = np.load('./save_model/data/pendulum_ddpg_TF_score.npy')\n",
    "\n",
    "pendulum_td3_epi   = np.load('./save_model/data/pendulum_td3_TF_epi.npy')\n",
    "pendulum_td3_score = np.load('./save_model/data/pendulum_td3_TF_score.npy')"
   ]
  },
  {
   "cell_type": "code",
   "execution_count": 3,
   "id": "5a5638f7",
   "metadata": {},
   "outputs": [
    {
     "output_type": "execute_result",
     "data": {
      "text/plain": [
       "Text(0.5, 1.0, 'pendulum')"
      ]
     },
     "metadata": {},
     "execution_count": 3
    }
   ],
   "source": [
    "%matplotlib tk\n",
    "fig = plt.figure(1)\n",
    "plt.plot(pendulum_ddpg_epi,pendulum_ddpg_score,label='DDPG')\n",
    "plt.plot(pendulum_td3_epi,pendulum_td3_score,label='TD3')\n",
    "plt.plot(pendulum_sac_epi,pendulum_sac_score,label='SAC')\n",
    "plt.xlabel('episode')\n",
    "plt.ylabel('score')\n",
    "plt.grid()\n",
    "plt.legend(loc='lower right')\n",
    "plt.title('Performance Comparison : Pendulum')\n"
   ]
  }
 ],
 "metadata": {
  "kernelspec": {
   "display_name": "Python 3",
   "language": "python",
   "name": "python3"
  },
  "language_info": {
   "codemirror_mode": {
    "name": "ipython",
    "version": 3
   },
   "file_extension": ".py",
   "mimetype": "text/x-python",
   "name": "python",
   "nbconvert_exporter": "python",
   "pygments_lexer": "ipython3",
   "version": "3.8.8"
  }
 },
 "nbformat": 4,
 "nbformat_minor": 5
}