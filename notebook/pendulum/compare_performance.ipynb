{
 "cells": [
  {
   "cell_type": "code",
   "execution_count": 1,
   "source": [
    "import numpy as np\n",
    "import matplotlib.pyplot as plt"
   ],
   "outputs": [],
   "metadata": {}
  },
  {
   "cell_type": "code",
   "execution_count": 2,
   "source": [
    "pendulum_ddpg_epi           = np.load('./save_model/data/pendulum_ddpg_TF_epi.npy')\n",
    "pendulum_ddpg_score_avg     = np.load('./save_model/data/pendulum_ddpg_TF_scores_avg.npy')\n",
    "pendulum_ddpg_score_raw     = np.load('./save_model/data/pendulum_ddpg_TF_scores_raw.npy')\n",
    "# pendulum_ddpg_per_epi       = np.load('./save_model/data/pendulum_ddpg_per_TF_epi.npy')\n",
    "# pendulum_ddpg_per_score_avg = np.load('./save_model/data/pendulum_ddpg_per_TF_scores_avg.npy')\n",
    "# pendulum_ddpg_per_score_raw = np.load('./save_model/data/pendulum_ddpg_per_TF_scores_raw.npy')\n",
    "pendulum_sac_epi            = np.load('./save_model/data/pendulum_sac_TF_epi.npy')\n",
    "pendulum_sac_score_avg      = np.load('./save_model/data/pendulum_sac_TF_scores_avg.npy')\n",
    "pendulum_sac_score_raw      = np.load('./save_model/data/pendulum_sac_TF_scores_raw.npy')\n",
    "pendulum_td3_epi            = np.load('./save_model/data/pendulum_td3_TF_epi.npy')\n",
    "pendulum_td3_score_avg      = np.load('./save_model/data/pendulum_td3_TF_scores_avg.npy')\n",
    "pendulum_td3_score_raw      = np.load('./save_model/data/pendulum_td3_TF_scores_raw.npy')"
   ],
   "outputs": [],
   "metadata": {}
  },
  {
   "cell_type": "code",
   "execution_count": 3,
   "source": [
    "%matplotlib tk\n",
    "fig = plt.figure(1)\n",
    "plt.plot(pendulum_ddpg_epi,pendulum_ddpg_score_avg,             label='DDPG',c='b')\n",
    "# plt.plot(pendulum_ddpg_per_epi,pendulum_ddpg_per_score_avg,     label='DDPG_PER',c='b')\n",
    "plt.plot(pendulum_td3_epi,pendulum_td3_score_avg,               label='TD3',c='g')\n",
    "plt.plot(pendulum_sac_epi,pendulum_sac_score_avg,               label='SAC',c='r')\n",
    "plt.plot(pendulum_ddpg_epi,pendulum_ddpg_score_raw,             label='DDPG - raw',c='b',alpha=0.2,linewidth=0.5)\n",
    "# plt.plot(pendulum_ddpg_per_epi,pendulum_ddpg_per_score_raw,     label='DDPG_PER',c='b',alpha=0.2,linewidth=0.5)\n",
    "plt.plot(pendulum_td3_epi,pendulum_td3_score_raw,               label='TD3',c='g',alpha=0.2,linewidth=0.5)\n",
    "plt.plot(pendulum_sac_epi,pendulum_sac_score_raw,               label='SAC',c='r',alpha=0.2,linewidth=0.5)\n",
    "plt.xlabel('episode')\n",
    "plt.ylabel('score')\n",
    "plt.grid()\n",
    "plt.legend()\n",
    "plt.legend(['DDPG','TD3','SAC'],loc='lower right')\n",
    "plt.title('Performance Comparison : Pendulum')\n",
    "plt.savefig(\"compare_agents.png\")\n"
   ],
   "outputs": [],
   "metadata": {}
  },
  {
   "cell_type": "code",
   "execution_count": null,
   "source": [],
   "outputs": [],
   "metadata": {}
  }
 ],
 "metadata": {
  "kernelspec": {
   "name": "python3",
   "display_name": "Python 3.7.9 64-bit ('TF240': conda)",
   "metadata": {
    "interpreter": {
     "hash": "8f237aa33f5a133d3a67a1e00bf3cb9d47b6c38bcc6ab493273f5d4df41b8866"
    }
   }
  },
  "language_info": {
   "codemirror_mode": {
    "name": "ipython",
    "version": 3
   },
   "file_extension": ".py",
   "mimetype": "text/x-python",
   "name": "python",
   "nbconvert_exporter": "python",
   "pygments_lexer": "ipython3",
   "version": "3.7.9"
  },
  "interpreter": {
   "hash": "61683dc6b2a2d3d4f2fca4fc9c31d7600238da1c31c9bb494e8f77b62993b62b"
  }
 },
 "nbformat": 4,
 "nbformat_minor": 5
}