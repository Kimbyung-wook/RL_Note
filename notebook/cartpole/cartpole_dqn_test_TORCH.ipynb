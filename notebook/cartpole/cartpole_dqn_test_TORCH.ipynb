{
 "metadata": {
  "language_info": {
   "codemirror_mode": {
    "name": "ipython",
    "version": 3
   },
   "file_extension": ".py",
   "mimetype": "text/x-python",
   "name": "python",
   "nbconvert_exporter": "python",
   "pygments_lexer": "ipython3",
   "version": "3.7.9"
  },
  "orig_nbformat": 2,
  "kernelspec": {
   "name": "python3",
   "display_name": "Python 3.7.9 64-bit ('TORCH190': conda)",
   "metadata": {
    "interpreter": {
     "hash": "a62d03de4abdbf02f2c70aa26fad76bfe5b246d84e1d7929e4e42191e53d635f"
    }
   }
  }
 },
 "nbformat": 4,
 "nbformat_minor": 2,
 "cells": [
  {
   "cell_type": "code",
   "execution_count": 1,
   "metadata": {},
   "outputs": [],
   "source": [
    "import gym\n",
    "import random\n",
    "import matplotlib.pyplot as plt\n",
    "import numpy as np\n",
    "\n",
    "import torch\n",
    "import torch.nn as nn\n",
    "import torch.optim as optim\n",
    "import torch.nn.functional as F"
   ]
  },
  {
   "cell_type": "code",
   "execution_count": 2,
   "metadata": {},
   "outputs": [],
   "source": [
    "class DQN(nn.Module):\n",
    "    def __init__(self, state_size, action_size):\n",
    "        super(DQN, self).__init__()\n",
    "        self.device = device\n",
    "        # Neural Net Layers\n",
    "        self.fc1 = nn.Linear(state_size, 24)\n",
    "        self.fc2 = nn.Linear(24, 24)\n",
    "        self.out = nn.Linear(24,action_size)\n",
    "        # Random Uniform\n",
    "        torch.nn.init.uniform_(self.out.weight,-1e-3,1e-3)\n",
    "\n",
    "    def forward(self,x):\n",
    "        x = F.relu(self.fc1(x))\n",
    "        x = F.relu(self.fc2(x))\n",
    "        q = self.out(x)\n",
    "        return q"
   ]
  },
  {
   "cell_type": "code",
   "execution_count": 3,
   "metadata": {},
   "outputs": [],
   "source": [
    "# Hyper-parameters\n",
    "class DQNAgent:\n",
    "    def __init__(self, state_size, action_size, device):\n",
    "        self.state_size = state_size\n",
    "        self.action_size= action_size\n",
    "        self.device = device\n",
    "\n",
    "        # Neural Network Architecture\n",
    "        self.model        = DQN(self.state_size, self.action_size).to(self.device)\n",
    "        self.model.load_state_dict(torch.load('./save_model/cartpole_dqn_TORCH'))\n",
    "\n",
    "    def get_action(self, state):\n",
    "        state = torch.FloatTensor([state]).to(self.device)\n",
    "        # Exploration and Exploitation\n",
    "        return self.model.forward(state).max(1)[1].view(1, 1)"
   ]
  },
  {
   "cell_type": "code",
   "execution_count": 4,
   "metadata": {
    "tags": []
   },
   "outputs": [
    {
     "output_type": "stream",
     "name": "stdout",
     "text": [
      "DEVICE :  cuda\n",
      "Env Name :  CartPole-v1\n",
      "States 4, Actions 2\n",
      "epi:   1 | score 500.00\n",
      "epi:   2 | score 500.00\n",
      "epi:   3 | score 500.00\n",
      "epi:   4 | score 500.00\n",
      "epi:   5 | score 500.00\n",
      "epi:   6 | score 500.00\n",
      "epi:   7 | score 500.00\n",
      "epi:   8 | score 500.00\n",
      "epi:   9 | score 500.00\n",
      "epi:  10 | score 500.00\n",
      "Avg. score 500.00\n"
     ]
    }
   ],
   "source": [
    "%matplotlib tk\n",
    "\n",
    "ENV_NAME = 'CartPole-v1'\n",
    "EPISODES = 5\n",
    "# if gpu is to be used\n",
    "device = torch.device('cuda' if torch.cuda.is_available() else 'cpu')\n",
    "print(\"DEVICE : \", device)\n",
    "\n",
    "if __name__ == \"__main__\":\n",
    "    env = gym.make(ENV_NAME)\n",
    "    state_size = env.observation_space.shape[0]\n",
    "    action_size = env.action_space.n\n",
    "    print('Env Name : ',ENV_NAME)\n",
    "    print('States {}, Actions {}'\n",
    "            .format(state_size, action_size))\n",
    "\n",
    "    agent = DQNAgent(state_size, action_size, device)\n",
    "\n",
    "    scores, episodes, epsilons, losses = [], [], [], []\n",
    "    score_avg = 0\n",
    "    \n",
    "    for e in range(EPISODES):\n",
    "        done = False\n",
    "        score = 0\n",
    "\n",
    "        state = env.reset()\n",
    "        \n",
    "        while not done:\n",
    "            env.render()\n",
    "\n",
    "            # Interact with env.\n",
    "            action = agent.get_action(state)\n",
    "            next_state, reward, done, info = env.step(action.item())\n",
    "            state = next_state\n",
    "\n",
    "            # \n",
    "            score += reward\n",
    "            if done:\n",
    "                print('epi: {:3d} | score {:3.2f}'.format(e+1, score))\n",
    "                scores = np.append(scores,score)\n",
    "    print('Avg. score {:4.2f}'.format(np.mean(scores)))\n",
    "    env.close()\n"
   ]
  },
  {
   "cell_type": "code",
   "execution_count": null,
   "metadata": {},
   "outputs": [],
   "source": []
  }
 ]
}