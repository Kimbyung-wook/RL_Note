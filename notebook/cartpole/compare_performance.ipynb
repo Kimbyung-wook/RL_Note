{
 "cells": [
  {
   "cell_type": "code",
   "execution_count": 1,
   "id": "9a8fe3c7",
   "metadata": {},
   "outputs": [],
   "source": [
    "import numpy as np\n",
    "import matplotlib.pyplot as plt\n",
    "from drawnow import *"
   ]
  },
  {
   "cell_type": "code",
   "execution_count": 2,
   "id": "fb1122a6",
   "metadata": {},
   "outputs": [],
   "source": [
    "cartpole_dqn_epi        = np.load('./save_model/data/cartpole_dqn_TF_epi.npy')\n",
    "cartpole_dqn_scores_avg = np.load('./save_model/data/cartpole_dqn_TF_scores_avg.npy')\n",
    "cartpole_dqn_scores_raw = np.load('./save_model/data/cartpole_dqn_TF_scores_raw.npy')\n",
    "cartpole_dqn_loss       = np.load('./save_model/data/cartpole_dqn_TF_loss.npy')\n",
    "\n",
    "cartpole_dqn_per_epi        = np.load('./save_model/data/cartpole_dqn_per_TF_epi.npy')\n",
    "cartpole_dqn_per_scores_avg = np.load('./save_model/data/cartpole_dqn_per_TF_scores_avg.npy')\n",
    "cartpole_dqn_per_scores_raw = np.load('./save_model/data/cartpole_dqn_per_TF_scores_raw.npy')\n",
    "cartpole_dqn_per_loss       = np.load('./save_model/data/cartpole_dqn_per_TF_loss.npy')\n",
    "\n",
    "# cartpole_a2c_epi   = np.load('./save_model/cartpole_a2c_TF_epi.npy')\n",
    "# cartpole_a2c_score = np.load('./save_model/cartpole_a2c_TF_score.npy')\n",
    "# cartpole_a2c_loss  = np.load('./save_model/cartpole_a2c_TF_loss.npy')"
   ]
  },
  {
   "cell_type": "code",
   "execution_count": 16,
   "id": "5a5638f7",
   "metadata": {},
   "outputs": [
    {
     "output_type": "stream",
     "name": "stdout",
     "text": [
      "(947,)\n"
     ]
    }
   ],
   "source": [
    "%matplotlib tk\n",
    "import math\n",
    "fig = plt.figure(1)\n",
    "plt.subplot(211)\n",
    "plt.plot(cartpole_dqn_epi,cartpole_dqn_scores_avg,'b',label='DQN',linewidth=0.5)\n",
    "plt.plot(cartpole_dqn_per_epi,cartpole_dqn_per_scores_avg,'g',label='DQN_PER',linewidth=0.5)\n",
    "plt.plot(cartpole_dqn_epi,cartpole_dqn_scores_raw,'b',label='DQN', alpha=0.8 ,linewidth=0.1)\n",
    "plt.plot(cartpole_dqn_per_epi,cartpole_dqn_per_scores_raw,'g',label='DQN_PER', alpha=0.8 ,linewidth=0.15)\n",
    "# plt.plot(cartpole_a2c_epi,cartpole_a2c_score,label='A2C')\n",
    "# plt.xlabel('episode')\n",
    "plt.ylabel('score')\n",
    "plt.grid()\n",
    "plt.title('Performance Comparison : Cartpole-v1')\n",
    "\n",
    "print(np.shape(cartpole_dqn_loss))\n",
    "plt.subplot(212)\n",
    "plt.plot(cartpole_dqn_epi,np.log10(cartpole_dqn_loss),'b',label='DQN',linewidth=0.5)\n",
    "plt.plot(cartpole_dqn_per_epi,np.log10(cartpole_dqn_per_loss),'g',label='DQN_PER',linewidth=0.5)\n",
    "# plt.plot(cartpole_a2c_epi,math.log(cartpole_a2c_loss),label='A2C')\n",
    "plt.xlabel('episode')\n",
    "plt.ylabel('log10(loss)')\n",
    "plt.grid()\n",
    "plt.legend(loc='upper right')\n",
    "\n",
    "plt.savefig(\"./result/compare_agents_cartpole.png\")\n",
    "plt.tight_layout()\n"
   ]
  },
  {
   "cell_type": "code",
   "execution_count": null,
   "id": "f6a21820",
   "metadata": {},
   "outputs": [],
   "source": []
  }
 ],
 "metadata": {
  "kernelspec": {
   "name": "python3",
   "display_name": "Python 3.7.9 64-bit ('TF240': conda)",
   "metadata": {
    "interpreter": {
     "hash": "8f237aa33f5a133d3a67a1e00bf3cb9d47b6c38bcc6ab493273f5d4df41b8866"
    }
   }
  },
  "language_info": {
   "codemirror_mode": {
    "name": "ipython",
    "version": 3
   },
   "file_extension": ".py",
   "mimetype": "text/x-python",
   "name": "python",
   "nbconvert_exporter": "python",
   "pygments_lexer": "ipython3",
   "version": "3.7.9"
  }
 },
 "nbformat": 4,
 "nbformat_minor": 5
}