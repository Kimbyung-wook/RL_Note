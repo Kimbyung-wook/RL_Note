{
 "cells": [
  {
   "cell_type": "code",
   "execution_count": 1,
   "id": "9a8fe3c7",
   "metadata": {},
   "outputs": [],
   "source": [
    "import numpy as np\n",
    "import matplotlib.pyplot as plt\n",
    "from drawnow import *"
   ]
  },
  {
   "cell_type": "code",
   "execution_count": 2,
   "id": "fb1122a6",
   "metadata": {},
   "outputs": [],
   "source": [
    "cartpole_dqn_epi        = np.load('./save_model/data/cartpole_dqn_TF_epi.npy')\n",
    "cartpole_dqn_scores_avg = np.load('./save_model/data/cartpole_dqn_TF_scores_avg.npy')\n",
    "cartpole_dqn_scores_raw = np.load('./save_model/data/cartpole_dqn_TF_scores_raw.npy')\n",
    "cartpole_dqn_loss       = np.load('./save_model/data/cartpole_dqn_TF_loss.npy')\n",
    "\n",
    "cartpole_dqn_per_epi        = np.load('./save_model/data/cartpole_dqn_per_TF_epi.npy')\n",
    "cartpole_dqn_per_scores_avg = np.load('./save_model/data/cartpole_dqn_per_TF_scores_avg.npy')\n",
    "cartpole_dqn_per_scores_raw = np.load('./save_model/data/cartpole_dqn_per_TF_scores_raw.npy')\n",
    "cartpole_dqn_per_loss       = np.load('./save_model/data/cartpole_dqn_per_TF_loss.npy')\n",
    "\n",
    "# cartpole_a2c_epi   = np.load('./save_model/cartpole_a2c_TF_epi.npy')\n",
    "# cartpole_a2c_score = np.load('./save_model/cartpole_a2c_TF_score.npy')\n",
    "# cartpole_a2c_loss  = np.load('./save_model/cartpole_a2c_TF_loss.npy')"
   ]
  },
  {
   "cell_type": "code",
   "execution_count": 4,
   "id": "5a5638f7",
   "metadata": {},
   "outputs": [
    {
     "output_type": "error",
     "ename": "TypeError",
     "evalue": "only size-1 arrays can be converted to Python scalars",
     "traceback": [
      "\u001b[1;31m---------------------------------------------------------------------------\u001b[0m",
      "\u001b[1;31mTypeError\u001b[0m                                 Traceback (most recent call last)",
      "\u001b[1;32m<ipython-input-4-36c4854a840e>\u001b[0m in \u001b[0;36m<module>\u001b[1;34m\u001b[0m\n\u001b[0;32m     14\u001b[0m \u001b[1;33m\u001b[0m\u001b[0m\n\u001b[0;32m     15\u001b[0m \u001b[0mplt\u001b[0m\u001b[1;33m.\u001b[0m\u001b[0msubplot\u001b[0m\u001b[1;33m(\u001b[0m\u001b[1;36m212\u001b[0m\u001b[1;33m)\u001b[0m\u001b[1;33m\u001b[0m\u001b[1;33m\u001b[0m\u001b[0m\n\u001b[1;32m---> 16\u001b[1;33m \u001b[0mplt\u001b[0m\u001b[1;33m.\u001b[0m\u001b[0mplot\u001b[0m\u001b[1;33m(\u001b[0m\u001b[0mcartpole_dqn_epi\u001b[0m\u001b[1;33m,\u001b[0m\u001b[0mmath\u001b[0m\u001b[1;33m.\u001b[0m\u001b[0mlog\u001b[0m\u001b[1;33m(\u001b[0m\u001b[0mcartpole_dqn_loss\u001b[0m\u001b[1;33m)\u001b[0m\u001b[1;33m,\u001b[0m\u001b[1;34m'b'\u001b[0m\u001b[1;33m,\u001b[0m\u001b[0mlabel\u001b[0m\u001b[1;33m=\u001b[0m\u001b[1;34m'DQN'\u001b[0m\u001b[1;33m)\u001b[0m\u001b[1;33m\u001b[0m\u001b[1;33m\u001b[0m\u001b[0m\n\u001b[0m\u001b[0;32m     17\u001b[0m \u001b[0mplt\u001b[0m\u001b[1;33m.\u001b[0m\u001b[0mplot\u001b[0m\u001b[1;33m(\u001b[0m\u001b[0mcartpole_dqn_per_epi\u001b[0m\u001b[1;33m,\u001b[0m\u001b[0mmath\u001b[0m\u001b[1;33m.\u001b[0m\u001b[0mlog\u001b[0m\u001b[1;33m(\u001b[0m\u001b[0mcartpole_dqn_per_loss\u001b[0m\u001b[1;33m)\u001b[0m\u001b[1;33m,\u001b[0m\u001b[1;34m'g'\u001b[0m\u001b[1;33m,\u001b[0m\u001b[0mlabel\u001b[0m\u001b[1;33m=\u001b[0m\u001b[1;34m'DQN_PER'\u001b[0m\u001b[1;33m)\u001b[0m\u001b[1;33m\u001b[0m\u001b[1;33m\u001b[0m\u001b[0m\n\u001b[0;32m     18\u001b[0m \u001b[1;31m# plt.plot(cartpole_a2c_epi,math.log(cartpole_a2c_loss),label='A2C')\u001b[0m\u001b[1;33m\u001b[0m\u001b[1;33m\u001b[0m\u001b[1;33m\u001b[0m\u001b[0m\n",
      "\u001b[1;31mTypeError\u001b[0m: only size-1 arrays can be converted to Python scalars"
     ]
    }
   ],
   "source": [
    "%matplotlib tk\n",
    "import math\n",
    "fig = plt.figure(1)\n",
    "plt.subplot(211)\n",
    "plt.plot(cartpole_dqn_epi,cartpole_dqn_scores_avg,'b',label='DQN')\n",
    "plt.plot(cartpole_dqn_per_epi,cartpole_dqn_per_scores_avg,'g',label='DQN_PER')\n",
    "plt.plot(cartpole_dqn_epi,cartpole_dqn_scores_raw,'b',label='DQN', alpha=0.8 ,linewidth=0.5)\n",
    "plt.plot(cartpole_dqn_per_epi,cartpole_dqn_per_scores_raw,'g',label='DQN_PER', alpha=0.8 ,linewidth=0.5)\n",
    "# plt.plot(cartpole_a2c_epi,cartpole_a2c_score,label='A2C')\n",
    "plt.xlabel('episode')\n",
    "plt.ylabel('score')\n",
    "plt.grid()\n",
    "plt.title('cartpole-v1')\n",
    "\n",
    "plt.subplot(212)\n",
    "plt.plot(cartpole_dqn_epi,np.math.log(cartpole_dqn_loss),'b',label='DQN')\n",
    "plt.plot(cartpole_dqn_per_epi,math.log(cartpole_dqn_per_loss),'g',label='DQN_PER')\n",
    "# plt.plot(cartpole_a2c_epi,math.log(cartpole_a2c_loss),label='A2C')\n",
    "plt.xlabel('episode')\n",
    "plt.ylabel('loss')\n",
    "plt.grid()\n",
    "plt.legend(loc='upper right')\n",
    "\n"
   ]
  },
  {
   "cell_type": "code",
   "execution_count": null,
   "id": "f6a21820",
   "metadata": {},
   "outputs": [],
   "source": []
  }
 ],
 "metadata": {
  "kernelspec": {
   "name": "python3",
   "display_name": "Python 3.7.9 64-bit ('TF240': conda)",
   "metadata": {
    "interpreter": {
     "hash": "8f237aa33f5a133d3a67a1e00bf3cb9d47b6c38bcc6ab493273f5d4df41b8866"
    }
   }
  },
  "language_info": {
   "codemirror_mode": {
    "name": "ipython",
    "version": 3
   },
   "file_extension": ".py",
   "mimetype": "text/x-python",
   "name": "python",
   "nbconvert_exporter": "python",
   "pygments_lexer": "ipython3",
   "version": "3.7.9"
  }
 },
 "nbformat": 4,
 "nbformat_minor": 5
}