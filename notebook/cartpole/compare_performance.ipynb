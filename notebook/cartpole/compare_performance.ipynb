{
 "cells": [
  {
   "cell_type": "code",
   "execution_count": 1,
   "source": [
    "import numpy as np\r\n",
    "import matplotlib.pyplot as plt\r\n",
    "from drawnow import *"
   ],
   "outputs": [],
   "metadata": {}
  },
  {
   "cell_type": "code",
   "execution_count": 2,
   "source": [
    "cartpole_dqn_epi        = np.load('./save_model/data/cartpole_dqn_TF_epi.npy')\r\n",
    "cartpole_dqn_scores_avg = np.load('./save_model/data/cartpole_dqn_TF_scores_avg.npy')\r\n",
    "cartpole_dqn_scores_raw = np.load('./save_model/data/cartpole_dqn_TF_scores_raw.npy')\r\n",
    "cartpole_dqn_loss       = np.load('./save_model/data/cartpole_dqn_TF_loss.npy')\r\n",
    "\r\n",
    "cartpole_dqn_per_epi        = np.load('./save_model/data/cartpole_dqn_per_TF_epi.npy')\r\n",
    "cartpole_dqn_per_scores_avg = np.load('./save_model/data/cartpole_dqn_per_TF_scores_avg.npy')\r\n",
    "cartpole_dqn_per_scores_raw = np.load('./save_model/data/cartpole_dqn_per_TF_scores_raw.npy')\r\n",
    "cartpole_dqn_per_loss       = np.load('./save_model/data/cartpole_dqn_per_TF_loss.npy')\r\n",
    "\r\n",
    "cartpole_dqn_m_epi        = np.load('./save_model/data/cartpole_dqn_m_TF_epi.npy')\r\n",
    "cartpole_dqn_m_scores_avg = np.load('./save_model/data/cartpole_dqn_m_TF_scores_avg.npy')\r\n",
    "cartpole_dqn_m_scores_raw = np.load('./save_model/data/cartpole_dqn_m_TF_scores_raw.npy')\r\n",
    "cartpole_dqn_m_loss       = np.load('./save_model/data/cartpole_dqn_m_TF_loss.npy')\r\n",
    "\r\n",
    "# cartpole_a2c_epi   = np.load('./save_model/cartpole_a2c_TF_epi.npy')\r\n",
    "# cartpole_a2c_score = np.load('./save_model/cartpole_a2c_TF_score.npy')\r\n",
    "# cartpole_a2c_loss  = np.load('./save_model/cartpole_a2c_TF_loss.npy')"
   ],
   "outputs": [],
   "metadata": {}
  },
  {
   "cell_type": "code",
   "execution_count": 3,
   "source": [
    "%matplotlib tk\r\n",
    "import math\r\n",
    "fig = plt.figure(1)\r\n",
    "plt.subplot(211)\r\n",
    "plt.plot(cartpole_dqn_epi,cartpole_dqn_scores_avg,'b',label='DQN',linewidth=0.5)\r\n",
    "plt.plot(cartpole_dqn_per_epi,cartpole_dqn_per_scores_avg,'g',label='DQN_PER',linewidth=0.5)\r\n",
    "plt.plot(cartpole_dqn_m_epi,cartpole_dqn_m_scores_avg,'g',label='DQN_m',linewidth=0.5)\r\n",
    "plt.plot(cartpole_dqn_epi,cartpole_dqn_scores_raw,'b',label='DQN', alpha=0.8 ,linewidth=0.1)\r\n",
    "plt.plot(cartpole_dqn_per_epi,cartpole_dqn_per_scores_raw,'g',label='DQN_PER', alpha=0.8 ,linewidth=0.15)\r\n",
    "plt.plot(cartpole_dqn_m_epi,cartpole_dqn_m_scores_raw,'m',label='DQN_m', alpha=0.8 ,linewidth=0.15)\r\n",
    "# plt.plot(cartpole_a2c_epi,cartpole_a2c_score,label='A2C')\r\n",
    "# plt.xlabel('episode')\r\n",
    "plt.ylabel('score')\r\n",
    "plt.grid()\r\n",
    "plt.title('Performance Comparison : Cartpole-v1')\r\n",
    "\r\n",
    "print(np.shape(cartpole_dqn_loss))\r\n",
    "plt.subplot(212)\r\n",
    "plt.plot(cartpole_dqn_epi,np.log10(cartpole_dqn_loss),'b',label='DQN',linewidth=0.5)\r\n",
    "plt.plot(cartpole_dqn_per_epi,np.log10(cartpole_dqn_per_loss),'g',label='DQN_PER',linewidth=0.5)\r\n",
    "plt.plot(cartpole_dqn_m_epi,np.log10(cartpole_dqn_m_loss),'m',label='DQN_m',linewidth=0.5)\r\n",
    "# plt.plot(cartpole_a2c_epi,math.log(cartpole_a2c_loss),label='A2C')\r\n",
    "plt.xlabel('episode')\r\n",
    "plt.ylabel('log10(loss)')\r\n",
    "plt.grid()\r\n",
    "plt.legend(loc='upper right')\r\n",
    "\r\n",
    "plt.savefig(\"./result/compare_agents_cartpole.png\")\r\n",
    "plt.tight_layout()\r\n"
   ],
   "outputs": [
    {
     "output_type": "stream",
     "name": "stdout",
     "text": [
      "(947,)\n"
     ]
    },
    {
     "output_type": "stream",
     "name": "stderr",
     "text": [
      "C:\\Users\\user\\anaconda3\\envs\\tf241\\lib\\site-packages\\ipykernel_launcher.py:19: RuntimeWarning: divide by zero encountered in log10\n",
      "C:\\Users\\user\\anaconda3\\envs\\tf241\\lib\\site-packages\\ipykernel_launcher.py:20: RuntimeWarning: divide by zero encountered in log10\n",
      "C:\\Users\\user\\anaconda3\\envs\\tf241\\lib\\site-packages\\ipykernel_launcher.py:21: RuntimeWarning: divide by zero encountered in log10\n",
      "C:\\Users\\user\\anaconda3\\envs\\tf241\\lib\\site-packages\\ipykernel\\eventloops.py:256: RuntimeWarning: coroutine 'Kernel.do_one_iteration' was never awaited\n",
      "  self.func()\n",
      "RuntimeWarning: Enable tracemalloc to get the object allocation traceback\n"
     ]
    }
   ],
   "metadata": {}
  },
  {
   "cell_type": "code",
   "execution_count": null,
   "source": [],
   "outputs": [],
   "metadata": {}
  }
 ],
 "metadata": {
  "kernelspec": {
   "name": "python3",
   "display_name": "Python 3.7.10 64-bit ('tf241': conda)"
  },
  "language_info": {
   "codemirror_mode": {
    "name": "ipython",
    "version": 3
   },
   "file_extension": ".py",
   "mimetype": "text/x-python",
   "name": "python",
   "nbconvert_exporter": "python",
   "pygments_lexer": "ipython3",
   "version": "3.7.10"
  },
  "interpreter": {
   "hash": "f7f3f20f7907c4d59130059bf0ac4ad20e77f96568ae424e1dedda78aa67e631"
  }
 },
 "nbformat": 4,
 "nbformat_minor": 5
}