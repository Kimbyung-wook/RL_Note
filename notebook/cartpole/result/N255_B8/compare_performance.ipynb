{
 "cells": [
  {
   "cell_type": "code",
   "execution_count": 1,
   "source": [
    "import numpy as np\r\n",
    "import matplotlib.pyplot as plt\r\n",
    "from drawnow import *"
   ],
   "outputs": [],
   "metadata": {}
  },
  {
   "cell_type": "code",
   "execution_count": 2,
   "source": [
    "cartpole_dqn_epi            = np.load('cartpole_dqn_TF_epi.npy')\n",
    "cartpole_dqn_scores_avg     = np.load('cartpole_dqn_TF_scores_avg.npy')\n",
    "cartpole_dqn_scores_raw     = np.load('cartpole_dqn_TF_scores_raw.npy')\n",
    "cartpole_dqn_loss           = np.load('cartpole_dqn_TF_loss.npy')\n",
    "cartpole_dqn_per_epi        = np.load('cartpole_dqn_per_TF_epi.npy')\n",
    "cartpole_dqn_per_scores_avg = np.load('cartpole_dqn_per_TF_scores_avg.npy')\n",
    "cartpole_dqn_per_scores_raw = np.load('cartpole_dqn_per_TF_scores_raw.npy')\n",
    "cartpole_dqn_per_loss       = np.load('cartpole_dqn_per_TF_loss.npy')\n",
    "cartpole_dqn_m_epi          = np.load('cartpole_dqn_m_TF_epi.npy')\n",
    "cartpole_dqn_m_scores_avg   = np.load('cartpole_dqn_m_TF_scores_avg.npy')\n",
    "cartpole_dqn_m_scores_raw   = np.load('cartpole_dqn_m_TF_scores_raw.npy')\n",
    "cartpole_dqn_m_loss         = np.load('cartpole_dqn_m_TF_loss.npy')"
   ],
   "outputs": [],
   "metadata": {}
  },
  {
   "cell_type": "code",
   "execution_count": 6,
   "source": [
    "%matplotlib tk\n",
    "import math\n",
    "fig = plt.figure(1)\n",
    "plt.subplot(211)\n",
    "plt.plot(cartpole_dqn_epi,cartpole_dqn_scores_avg,          'b',label='DQN',linewidth=0.5)\n",
    "plt.plot(cartpole_dqn_per_epi,cartpole_dqn_per_scores_avg,  'g',label='DQN_PER',linewidth=0.5)\n",
    "plt.plot(cartpole_dqn_m_epi,cartpole_dqn_m_scores_avg,      'm',label='DQN_m',linewidth=0.5)\n",
    "plt.plot(cartpole_dqn_epi,cartpole_dqn_scores_raw,          'b',label='DQN', alpha=0.8 ,linewidth=0.1)\n",
    "plt.plot(cartpole_dqn_per_epi,cartpole_dqn_per_scores_raw,  'g',label='DQN_PER', alpha=0.8 ,linewidth=0.1)\n",
    "plt.plot(cartpole_dqn_m_epi,cartpole_dqn_m_scores_raw,      'm',label='DQN_m', alpha=0.8 ,linewidth=0.1)\n",
    "# plt.xlabel('episode')\n",
    "plt.ylabel('score')\n",
    "plt.grid()\n",
    "plt.title('Performance Comparison : Cartpole-v1\\n Hidden Layer 2 (Neuron 255), Batch size 8, Start to train at 500 step')\n",
    "\n",
    "print(np.shape(cartpole_dqn_loss))\n",
    "plt.subplot(212)\n",
    "plt.plot(cartpole_dqn_epi,np.log10(cartpole_dqn_loss),'b',label='DQN',linewidth=0.5)\n",
    "plt.plot(cartpole_dqn_per_epi,np.log10(cartpole_dqn_per_loss),'g',label='DQN_PER',linewidth=0.5)\n",
    "plt.plot(cartpole_dqn_m_epi,np.log10(cartpole_dqn_m_loss),'m',label='DQN_m',linewidth=0.5)\n",
    "plt.xlabel('episode')\n",
    "plt.ylabel('log10(loss)')\n",
    "plt.grid()\n",
    "plt.legend(loc='upper right')\n",
    "\n",
    "plt.savefig(\"compare_agents_cartpole.png\")\n",
    "plt.tight_layout()\n"
   ],
   "outputs": [
    {
     "output_type": "stream",
     "name": "stdout",
     "text": [
      "(380,)\n"
     ]
    }
   ],
   "metadata": {}
  },
  {
   "cell_type": "code",
   "execution_count": null,
   "source": [],
   "outputs": [],
   "metadata": {}
  }
 ],
 "metadata": {
  "kernelspec": {
   "name": "python3",
   "display_name": "Python 3.7.9 64-bit ('TF240': conda)",
   "metadata": {
    "interpreter": {
     "hash": "8f237aa33f5a133d3a67a1e00bf3cb9d47b6c38bcc6ab493273f5d4df41b8866"
    }
   }
  },
  "language_info": {
   "codemirror_mode": {
    "name": "ipython",
    "version": 3
   },
   "file_extension": ".py",
   "mimetype": "text/x-python",
   "name": "python",
   "nbconvert_exporter": "python",
   "pygments_lexer": "ipython3",
   "version": "3.7.9"
  },
  "interpreter": {
   "hash": "f7f3f20f7907c4d59130059bf0ac4ad20e77f96568ae424e1dedda78aa67e631"
  }
 },
 "nbformat": 4,
 "nbformat_minor": 5
}