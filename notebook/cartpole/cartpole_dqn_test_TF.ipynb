{
 "cells": [
  {
   "cell_type": "code",
   "execution_count": 1,
   "metadata": {},
   "outputs": [],
   "source": [
    "import gym\n",
    "import numpy as np\n",
    "import tensorflow as tf\n",
    "from tensorflow.keras.layers import Dense"
   ]
  },
  {
   "cell_type": "code",
   "execution_count": 2,
   "metadata": {},
   "outputs": [],
   "source": [
    "class DQN(tf.keras.Model):\n",
    "    def __init__(self, action_size):\n",
    "        super(DQN, self).__init__()\n",
    "        self.fc1 = Dense(24,activation='relu')\n",
    "        self.fc2 = Dense(24,activation='relu')\n",
    "        self.out = Dense(action_size, kernel_initializer=tf.keras.initializers.RandomUniform(-1e-3,1e-3))\n",
    "\n",
    "    def call(self,x):\n",
    "        x = self.fc1(x)\n",
    "        x = self.fc2(x)\n",
    "        q = self.out(x)\n",
    "        return q"
   ]
  },
  {
   "cell_type": "code",
   "execution_count": 3,
   "metadata": {},
   "outputs": [],
   "source": [
    "class DQNAgent:\n",
    "    def __init__(self, state_size, action_size):\n",
    "        self.state_size = state_size\n",
    "        self.action_size= action_size\n",
    "        \n",
    "        self.model = DQN(action_size)\n",
    "        self.model.load_weights(\"./save_model/cartpole_dqn\")\n",
    "        \n",
    "    def get_action(self, state):\n",
    "        q_value = self.model(state)\n",
    "        return np.argmax(q_value[0])"
   ]
  },
  {
   "cell_type": "code",
   "execution_count": 4,
   "metadata": {},
   "outputs": [
    {
     "name": "stdout",
     "output_type": "stream",
     "text": [
      "Env Name :  CartPole-v1\n",
      "States 4, Actions 2\n",
      "epi:   1 | score 500.00\n",
      "epi:   2 | score 500.00\n",
      "epi:   3 | score 500.00\n",
      "epi:   4 | score 500.00\n",
      "epi:   5 | score 500.00\n",
      "epi:   6 | score 500.00\n",
      "epi:   7 | score 500.00\n",
      "epi:   8 | score 500.00\n",
      "epi:   9 | score 500.00\n",
      "epi:  10 | score 500.00\n",
      "Avg. score 500.00\n"
     ]
    }
   ],
   "source": [
    "%matplotlib tk\r\n",
    "\r\n",
    "ENV_NAME = 'CartPole-v1'\r\n",
    "EPISODES = 10\r\n",
    "# END_SCORE = 400\r\n",
    "\r\n",
    "if __name__ == \"__main__\":\r\n",
    "    env = gym.make(ENV_NAME)\r\n",
    "    state_size = env.observation_space.shape[0]\r\n",
    "    action_size = env.action_space.n\r\n",
    "\r\n",
    "    agent = DQNAgent(state_size, action_size)\r\n",
    "    print('Env Name : ',ENV_NAME)\r\n",
    "    print('States {}, Actions {}'\r\n",
    "            .format(state_size, action_size))\r\n",
    "\r\n",
    "    scores, episodes = [], []\r\n",
    "    score_avg = 0\r\n",
    "\r\n",
    "    for e in range(EPISODES):\r\n",
    "        # Episode initialization\r\n",
    "        done = False\r\n",
    "        score = 0\r\n",
    "\r\n",
    "        state = env.reset()\r\n",
    "        state = np.reshape(state, [1, state_size])\r\n",
    "        \r\n",
    "        while not done:\r\n",
    "            env.render()\r\n",
    "\r\n",
    "            # Interact with env.\r\n",
    "            action = agent.get_action(state)\r\n",
    "            next_state, reward, done, info = env.step(action)\r\n",
    "            next_state = np.reshape(next_state, [1, state_size])\r\n",
    "            state = next_state\r\n",
    "\r\n",
    "            # \r\n",
    "            score += reward\r\n",
    "            if done:\r\n",
    "                print('epi: {:3d} | score {:3.2f}'.format(e+1, score))\r\n",
    "                scores = np.append(scores,score)\r\n",
    "    print('Avg. score {:4.2f}'.format(tf.reduce_mean(scores)))\r\n",
    "    env.close()"
   ]
  },
  {
   "cell_type": "code",
   "execution_count": null,
   "metadata": {},
   "outputs": [],
   "source": []
  }
 ],
 "metadata": {
  "interpreter": {
   "hash": "b3ba2566441a7c06988d0923437866b63cedc61552a5af99d1f4fb67d367b25f"
  },
  "kernelspec": {
   "display_name": "Python 3.8.8 64-bit ('base': conda)",
   "name": "python3"
  },
  "language_info": {
   "name": "python",
   "version": ""
  }
 },
 "nbformat": 4,
 "nbformat_minor": 5
}