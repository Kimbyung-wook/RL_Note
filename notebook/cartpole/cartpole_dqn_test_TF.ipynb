{
 "cells": [
  {
   "cell_type": "code",
   "execution_count": 1,
   "source": [
    "import gym\r\n",
    "import numpy as np\r\n",
    "import tensorflow as tf\r\n",
    "from tensorflow.keras.layers import Dense"
   ],
   "outputs": [],
   "metadata": {}
  },
  {
   "cell_type": "code",
   "execution_count": 2,
   "source": [
    "class DQN(tf.keras.Model):\r\n",
    "    def __init__(self, action_size):\r\n",
    "        super(DQN, self).__init__()\r\n",
    "        self.fc1 = Dense(24,activation='relu')\r\n",
    "        self.fc2 = Dense(24,activation='relu')\r\n",
    "        self.out = Dense(action_size, kernel_initializer=tf.keras.initializers.RandomUniform(-1e-3,1e-3))\r\n",
    "\r\n",
    "    def call(self,x):\r\n",
    "        x = self.fc1(x)\r\n",
    "        x = self.fc2(x)\r\n",
    "        q = self.out(x)\r\n",
    "        return q"
   ],
   "outputs": [],
   "metadata": {}
  },
  {
   "cell_type": "code",
   "execution_count": 3,
   "source": [
    "class DQNAgent:\r\n",
    "    def __init__(self, state_size, action_size):\r\n",
    "        self.state_size = state_size\r\n",
    "        self.action_size= action_size\r\n",
    "        \r\n",
    "        self.model = DQN(action_size)\r\n",
    "        self.model.load_weights(\"./save_model/cartpole_dqn_TF\")\r\n",
    "        \r\n",
    "    def get_action(self, state):\r\n",
    "        state = tf.convert_to_tensor([state], dtype=tf.float32)\r\n",
    "        q_value = self.model(state)\r\n",
    "        return np.argmax(q_value[0])"
   ],
   "outputs": [],
   "metadata": {}
  },
  {
   "cell_type": "code",
   "execution_count": 4,
   "source": [
    "%matplotlib tk\r\n",
    "\r\n",
    "ENV_NAME = 'CartPole-v1'\r\n",
    "EPISODES = 10\r\n",
    "# END_SCORE = 400\r\n",
    "\r\n",
    "if __name__ == \"__main__\":\r\n",
    "    env = gym.make(ENV_NAME)\r\n",
    "    state_size = env.observation_space.shape[0]\r\n",
    "    action_size = env.action_space.n\r\n",
    "\r\n",
    "    agent = DQNAgent(state_size, action_size)\r\n",
    "    print('Env Name : ',ENV_NAME)\r\n",
    "    print('States {}, Actions {}'\r\n",
    "            .format(state_size, action_size))\r\n",
    "\r\n",
    "    scores, episodes = [], []\r\n",
    "    score_avg = 0\r\n",
    "\r\n",
    "    for e in range(EPISODES):\r\n",
    "        # Episode initialization\r\n",
    "        done = False\r\n",
    "        score = 0\r\n",
    "\r\n",
    "        state = env.reset()\r\n",
    "        \r\n",
    "        while not done:\r\n",
    "            env.render()\r\n",
    "\r\n",
    "            # Interact with env.\r\n",
    "            action = agent.get_action(state)\r\n",
    "            next_state, reward, done, info = env.step(action)\r\n",
    "            state = next_state\r\n",
    "\r\n",
    "            # \r\n",
    "            score += reward\r\n",
    "            if done:\r\n",
    "                print('epi: {:3d} | score {:3.2f}'.format(e+1, score))\r\n",
    "                scores = np.append(scores,score)\r\n",
    "    print('Avg. score {:4.2f}'.format(tf.reduce_mean(scores)))\r\n",
    "    env.close()"
   ],
   "outputs": [
    {
     "output_type": "stream",
     "name": "stdout",
     "text": [
      "Env Name :  CartPole-v1\n",
      "States 4, Actions 2\n",
      "epi:   1 | score 500.00\n",
      "epi:   2 | score 500.00\n",
      "epi:   3 | score 500.00\n",
      "epi:   4 | score 500.00\n",
      "epi:   5 | score 500.00\n",
      "epi:   6 | score 500.00\n",
      "epi:   7 | score 500.00\n",
      "epi:   8 | score 500.00\n",
      "epi:   9 | score 500.00\n",
      "epi:  10 | score 500.00\n",
      "Avg. score 500.00\n"
     ]
    }
   ],
   "metadata": {}
  },
  {
   "cell_type": "code",
   "execution_count": null,
   "source": [],
   "outputs": [],
   "metadata": {}
  }
 ],
 "metadata": {
  "interpreter": {
   "hash": "b3ba2566441a7c06988d0923437866b63cedc61552a5af99d1f4fb67d367b25f"
  },
  "kernelspec": {
   "name": "python3",
   "display_name": "Python 3.7.9 64-bit ('TF240': conda)",
   "metadata": {
    "interpreter": {
     "hash": "8f237aa33f5a133d3a67a1e00bf3cb9d47b6c38bcc6ab493273f5d4df41b8866"
    }
   }
  },
  "language_info": {
   "name": "python",
   "version": "3.7.9"
  }
 },
 "nbformat": 4,
 "nbformat_minor": 5
}