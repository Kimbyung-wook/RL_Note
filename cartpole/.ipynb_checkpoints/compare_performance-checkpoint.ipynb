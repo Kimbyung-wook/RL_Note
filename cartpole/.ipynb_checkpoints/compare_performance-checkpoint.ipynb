{
 "cells": [
  {
   "cell_type": "code",
   "execution_count": 1,
   "id": "9a8fe3c7",
   "metadata": {},
   "outputs": [],
   "source": [
    "import numpy as np\n",
    "import matplotlib.pyplot as plt\n",
    "from drawnow import *"
   ]
  },
  {
   "cell_type": "code",
   "execution_count": 2,
   "id": "fb1122a6",
   "metadata": {},
   "outputs": [],
   "source": [
    "cartpole_dqn_epi   = np.load('./save_model/cartpole_dqn_epi.npy')\n",
    "cartpole_dqn_score = np.load('./save_model/cartpole_dqn_score.npy')\n",
    "cartpole_dqn_loss  = np.load('./save_model/cartpole_dqn_loss.npy')\n",
    "\n",
    "cartpole_a2c_epi   = np.load('./save_model/cartpole_a2c_epi.npy')\n",
    "cartpole_a2c_score = np.load('./save_model/cartpole_a2c_score.npy')\n",
    "cartpole_a2c_loss  = np.load('./save_model/cartpole_a2c_loss.npy')"
   ]
  },
  {
   "cell_type": "code",
   "execution_count": 11,
   "id": "5a5638f7",
   "metadata": {},
   "outputs": [],
   "source": [
    "%matplotlib tk\n",
    "fig = plt.figure(1)\n",
    "plt.subplot(211)\n",
    "plt.plot(cartpole_dqn_epi,cartpole_dqn_score,label='DQN')\n",
    "plt.plot(cartpole_a2c_epi,cartpole_a2c_score,label='A2C')\n",
    "plt.xlabel('episode')\n",
    "plt.ylabel('score')\n",
    "plt.grid()\n",
    "plt.title('cartpole-v1')\n",
    "\n",
    "plt.subplot(212)\n",
    "plt.plot(cartpole_dqn_epi,cartpole_dqn_loss,label='DQN')\n",
    "plt.plot(cartpole_a2c_epi,cartpole_a2c_loss,label='A2C')\n",
    "plt.xlabel('episode')\n",
    "plt.ylabel('loss')\n",
    "plt.grid()\n",
    "plt.legend(loc='upper right')\n",
    "\n"
   ]
  },
  {
   "cell_type": "code",
   "execution_count": null,
   "id": "8877c375",
   "metadata": {},
   "outputs": [],
   "source": []
  }
 ],
 "metadata": {
  "kernelspec": {
   "display_name": "Python 3",
   "language": "python",
   "name": "python3"
  },
  "language_info": {
   "codemirror_mode": {
    "name": "ipython",
    "version": 3
   },
   "file_extension": ".py",
   "mimetype": "text/x-python",
   "name": "python",
   "nbconvert_exporter": "python",
   "pygments_lexer": "ipython3",
   "version": "3.7.10"
  }
 },
 "nbformat": 4,
 "nbformat_minor": 5
}
