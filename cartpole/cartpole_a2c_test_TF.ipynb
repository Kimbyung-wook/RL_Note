{
 "cells": [
  {
   "cell_type": "code",
   "execution_count": 2,
   "metadata": {},
   "outputs": [],
   "source": [
    "import gym\n",
    "import sys\n",
    "import random\n",
    "import numpy as np\n",
    "import tensorflow as tf\n",
    "from tensorflow.keras.layers import Dense\n",
    "from collections import deque\n",
    "import matplotlib.pyplot as plt"
   ]
  },
  {
   "cell_type": "code",
   "execution_count": 3,
   "metadata": {},
   "outputs": [],
   "source": [
    "class A2C(tf.keras.Model):\n",
    "    def __init__(self, state_size, action_size):\n",
    "        super(A2C, self).__init__()\n",
    "        self.common = Dense(64, activation='relu')\n",
    "        self.actor  = Dense(action_size, activation='softmax',\n",
    "                                        kernel_initializer=tf.keras.initializers.RandomUniform(-1e-3,1e-3))\n",
    "        self.critic = Dense(1,\n",
    "                                        kernel_initializer=tf.keras.initializers.RandomUniform(-1e-3,1e-3))\n",
    "        \n",
    "    def call(self, x):\n",
    "        x      = self.common(x)\n",
    "        policy = self.actor(x)\n",
    "        value  = self.critic(x)\n",
    "        return policy, value"
   ]
  },
  {
   "cell_type": "code",
   "execution_count": 4,
   "metadata": {},
   "outputs": [],
   "source": [
    "class A2CAgent:\n",
    "    def __init__(self, state_size, action_size):\n",
    "        self.state_size = state_size\n",
    "        self.action_size= action_size\n",
    "        \n",
    "        # Hyper params for learning\n",
    "        self.discount_factor = 0.99\n",
    "        self.learning_rate = 0.001\n",
    "        \n",
    "        self.model = A2C(self.state_size,self.action_size)\n",
    "        self.model.load_weights(\"./save_model/cartpole_a2c\")\n",
    "        \n",
    "    def get_action(self, state):\n",
    "        policy, _ = self.model(state)\n",
    "        policy = np.array(policy[0])\n",
    "        return np.random.choice(self.action_size, 1, p=policy)[0]\n",
    "        \n",
    "    def get_loss(self, state, action, reward, next_state, done):\n",
    "        model_params = self.model.trainable_variables\n",
    "        policy, value      = self.model(state)\n",
    "        _,      next_value = self.model(next_state)\n",
    "        target = reward + (1 - done) * self.discount_factor * next_value[0]\n",
    "\n",
    "        # For policy network\n",
    "        one_hot_action = tf.one_hot([action], self.action_size)\n",
    "        action_prob = tf.reduce_sum(one_hot_action * policy, axis=1)\n",
    "        cross_entropy = - tf.math.log(action_prob + 1e-5)\n",
    "        advantage = tf.stop_gradient(target - value[0])\n",
    "        actor_loss = tf.reduce_mean(cross_entropy * advantage)\n",
    "\n",
    "        # For value network\n",
    "        critic_loss = 0.5 * tf.square(tf.stop_gradient(target) - value[0])\n",
    "        critic_loss = tf.reduce_mean(critic_loss)\n",
    "\n",
    "        # integrate losses\n",
    "        loss = 0.2 * actor_loss + critic_loss\n",
    "            \n",
    "        return np.array(loss)"
   ]
  },
  {
   "cell_type": "code",
   "execution_count": 5,
   "metadata": {},
   "outputs": [
    {
     "name": "stdout",
     "output_type": "stream",
     "text": [
      "epi:   1 | score 500.00 | loss 0.5657\n",
      "epi:   2 | score 500.00 | loss 0.5672\n",
      "epi:   3 | score 500.00 | loss 0.5719\n",
      "epi:   4 | score 500.00 | loss 0.5730\n",
      "epi:   5 | score 500.00 | loss 0.5690\n",
      "epi:   6 | score 500.00 | loss 0.5655\n",
      "epi:   7 | score 500.00 | loss 0.5718\n",
      "epi:   8 | score 500.00 | loss 0.5705\n",
      "epi:   9 | score 500.00 | loss 0.5607\n",
      "epi:  10 | score 500.00 | loss 0.5713\n",
      "Avg. score 500.00, Avg. loss 0.5687\n"
     ]
    },
    {
     "name": "stderr",
     "output_type": "stream",
     "text": [
      "C:\\Users\\user\\.conda\\envs\\tf240\\lib\\site-packages\\ipykernel\\eventloops.py:256: RuntimeWarning: coroutine 'Kernel.do_one_iteration' was never awaited\n",
      "  self.func()\n",
      "RuntimeWarning: Enable tracemalloc to get the object allocation traceback\n"
     ]
    }
   ],
   "source": [
    "%matplotlib tk\r\n",
    "\r\n",
    "ENV_NAME = 'CartPole-v1'\r\n",
    "EPISODES = 10\r\n",
    "# END_SCORE = 300\r\n",
    "\r\n",
    "if __name__ == \"__main__\":\r\n",
    "    env = gym.make(ENV_NAME)\r\n",
    "    state_size = env.observation_space.shape[0]\r\n",
    "    action_size = env.action_space.n\r\n",
    "\r\n",
    "    agent = A2CAgent(state_size, action_size)\r\n",
    "    print('Env Name : ',ENV_NAME)\r\n",
    "    print('States {}, Actions {}'\r\n",
    "            .format(state_size, action_size))\r\n",
    "\r\n",
    "    scores, episodes, losses = [], [], []\r\n",
    "    score_avg = 0\r\n",
    "    \r\n",
    "    for e in range(EPISODES):\r\n",
    "        # Episode initialization\r\n",
    "        done = False\r\n",
    "        score = 0\r\n",
    "        loss_list = []\r\n",
    "        \r\n",
    "        state = env.reset()\r\n",
    "        state = np.reshape(state, [1, state_size])\r\n",
    "        \r\n",
    "        while not done:\r\n",
    "            env.render()\r\n",
    "\r\n",
    "            # Interact with env.\r\n",
    "            action = agent.get_action(state)\r\n",
    "            next_state, reward, done, info = env.step(action)\r\n",
    "            next_state = np.reshape(next_state, [1, state_size])\r\n",
    "            loss = agent.get_loss(state, action, reward, next_state, done)\r\n",
    "            state = next_state\r\n",
    "\r\n",
    "            # \r\n",
    "            score += reward\r\n",
    "            loss_list.append(loss)\r\n",
    "            if done:\r\n",
    "                print('epi: {:3d} | score {:3.2f} | loss {:.4f}'\r\n",
    "                      .format(e+1, score, tf.reduce_mean(loss_list)))\r\n",
    "                scores = np.append(scores,score)\r\n",
    "                losses.append(tf.reduce_mean(loss_list))\r\n",
    "    print('Avg. score {:4.2f}, Avg. loss {:.4f}'.\r\n",
    "          format(tf.reduce_mean(scores), tf.reduce_mean(losses)))\r\n",
    "    env.close()     "
   ]
  },
  {
   "cell_type": "code",
   "execution_count": null,
   "metadata": {},
   "outputs": [],
   "source": []
  }
 ],
 "metadata": {
  "interpreter": {
   "hash": "fbba320975a9114d2433fba427f26c389728c846a7c4900c481dce2a1a9f6231"
  },
  "kernelspec": {
   "display_name": "Python 3.7.10 64-bit ('tf240': conda)",
   "name": "python3"
  },
  "language_info": {
   "name": "python",
   "version": ""
  }
 },
 "nbformat": 4,
 "nbformat_minor": 5
}