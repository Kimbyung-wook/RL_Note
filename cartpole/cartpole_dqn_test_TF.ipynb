{
 "cells": [
  {
   "cell_type": "code",
   "execution_count": 1,
   "id": "50c13cf9",
   "metadata": {},
   "outputs": [],
   "source": [
    "import gym\n",
    "import numpy as np\n",
    "import tensorflow as tf\n",
    "from tensorflow.keras.layers import Dense"
   ]
  },
  {
   "cell_type": "code",
   "execution_count": 2,
   "id": "740f86af",
   "metadata": {},
   "outputs": [],
   "source": [
    "class DQN(tf.keras.Model):\n",
    "    def __init__(self, action_size):\n",
    "        super(DQN, self).__init__()\n",
    "        self.fc1 = Dense(24,activation='relu')\n",
    "        self.fc2 = Dense(24,activation='relu')\n",
    "        self.out = Dense(action_size, kernel_initializer=tf.keras.initializers.RandomUniform(-1e-3,1e-3))\n",
    "\n",
    "    def call(self,x):\n",
    "        x = self.fc1(x)\n",
    "        x = self.fc2(x)\n",
    "        q = self.out(x)\n",
    "        return q"
   ]
  },
  {
   "cell_type": "code",
   "execution_count": 3,
   "id": "2a44d11c",
   "metadata": {},
   "outputs": [],
   "source": [
    "class DQNAgent:\n",
    "    def __init__(self, state_size, action_size):\n",
    "        self.state_size = state_size\n",
    "        self.action_size= action_size\n",
    "        \n",
    "        self.model = DQN(action_size)\n",
    "        self.model.load_weights(\"./save_model/cartpole_dqn\")\n",
    "        \n",
    "    def get_action(self, state):\n",
    "        q_value = self.model(state)\n",
    "        return np.argmax(q_value[0])"
   ]
  },
  {
   "cell_type": "code",
   "execution_count": 4,
   "id": "9f3571b7",
   "metadata": {},
   "outputs": [
    {
     "output_type": "stream",
     "name": "stdout",
     "text": [
      "Env Name :  CartPole-v1\n",
      "States 4, Actions 2\n",
      "epi:   1 | score 500.00\n",
      "epi:   2 | score 500.00\n",
      "epi:   3 | score 205.00\n",
      "epi:   4 | score 277.00\n",
      "epi:   5 | score 500.00\n",
      "epi:   6 | score 500.00\n",
      "epi:   7 | score 500.00\n",
      "epi:   8 | score 253.00\n",
      "epi:   9 | score 500.00\n",
      "epi:  10 | score 500.00\n",
      "Avg. score 423.50\n"
     ]
    }
   ],
   "source": [
    "%matplotlib tk\n",
    "\n",
    "ENV_NAME = 'CartPole-v1'\n",
    "EPISODES = 1000\n",
    "\n",
    "if __name__ == \"__main__\":\n",
    "    env = gym.make(ENV_NAME)\n",
    "    state_size = env.observation_space.shape[0]\n",
    "    action_size = env.action_space.n\n",
    "\n",
    "    agent = DQNAgent(state_size, action_size)\n",
    "    print('Env Name : ',ENV_NAME)\n",
    "    print('States {}, Actions {}'\n",
    "            .format(state_size, action_size))\n",
    "\n",
    "    scores, episodes = [], []\n",
    "    score_avg = 0\n",
    "    \n",
    "    num_episode = 10\n",
    "    for e in range(num_episode):\n",
    "        done = False\n",
    "        score = 0\n",
    "\n",
    "        state = env.reset()\n",
    "        state = np.reshape(state, [1, state_size])\n",
    "        \n",
    "        while not done:\n",
    "            env.render()\n",
    "\n",
    "            action = agent.get_action(state)\n",
    "\n",
    "            next_state, reward, done, info = env.step(action)\n",
    "            next_state = np.reshape(next_state, [1, state_size])\n",
    "\n",
    "            score += reward\n",
    "            state = next_state\n",
    "            \n",
    "            if done:\n",
    "                print('epi: {:3d} | score {:3.2f}'.format(e+1, score))\n",
    "                scores = np.append(scores,score)\n",
    "    print('Avg. score {:4.2f}'.format(tf.reduce_mean(scores)))\n",
    "    env.close()"
   ]
  },
  {
   "cell_type": "code",
   "execution_count": null,
   "id": "ad00d79f",
   "metadata": {},
   "outputs": [],
   "source": []
  }
 ],
 "metadata": {
  "kernelspec": {
   "display_name": "Python 3",
   "language": "python",
   "name": "python3"
  },
  "language_info": {
   "codemirror_mode": {
    "name": "ipython",
    "version": 3
   },
   "file_extension": ".py",
   "mimetype": "text/x-python",
   "name": "python",
   "nbconvert_exporter": "python",
   "pygments_lexer": "ipython3",
   "version": "3.7.10"
  }
 },
 "nbformat": 4,
 "nbformat_minor": 5
}