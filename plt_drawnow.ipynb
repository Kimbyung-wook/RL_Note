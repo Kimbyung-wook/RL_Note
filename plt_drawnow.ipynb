{
 "cells": [
  {
   "cell_type": "code",
   "execution_count": 1,
   "id": "1c548542",
   "metadata": {},
   "outputs": [],
   "source": [
    "%matplotlib tk\n",
    "import matplotlib.pyplot as plt\n",
    "import numpy as np\n",
    "from drawnow import *"
   ]
  },
  {
   "cell_type": "code",
   "execution_count": null,
   "id": "7a5221f9",
   "metadata": {},
   "outputs": [],
   "source": [
    "fig = plt.figure(1)\n",
    "plt.clf() # CLear figure\n",
    "x = np.linspace(0,np.pi*2,100)\n",
    "plt.plot(x,np.sin(x),label='Sine')\n",
    "plt.plot(x,np.cos(x),label='Cosine')\n",
    "plt.legend(loc='best')\n",
    "plt.xlim(0,2*np.pi)\n",
    "plt.ylim(-1,1)\n",
    "plt.grid()\n",
    "plt.xlabel('Angles [deg]')\n",
    "plt.ylabel('Value')\n",
    "plt.title('Sine-Cosine')"
   ]
  },
  {
   "cell_type": "code",
   "execution_count": null,
   "id": "540457da",
   "metadata": {},
   "outputs": [],
   "source": [
    "# 2D graph\n",
    "fig = plt.figure(1)\n",
    "\n",
    "angles = []\n",
    "sines = []\n",
    "cosines = []\n",
    "\n",
    "def show_plot():\n",
    "    # subplot 1\n",
    "    #fig.add_subplot(2,2,1)\n",
    "    plt.plot(angles,sines,label='Sine')\n",
    "    plt.plot(angles,cosines,label='Cosine')\n",
    "    plt.legend()\n",
    "    plt.grid()\n",
    "    plt.xlabel('Angles [deg]')\n",
    "    plt.ylabel('Value')\n",
    "    \n",
    "    # subplot 2\n",
    "    #fig.add_subplot(2,2,2)\n",
    "    #plt.plot(angles,cosines,label='Cosine')\n",
    "    #plt.legend()\n",
    "    #plt.grid()\n",
    "    #plt.xlabel('Angles [deg]')\n",
    "    #plt.ylabel('Value')\n",
    "    \n",
    "for x in np.linspace(0,np.pi*2,100):\n",
    "    angles = np.append(angles, x)\n",
    "    sines  = np.append(sines, np.sin(x))\n",
    "    cosines= np.append(cosines, np.cos(x))\n",
    "    \n",
    "    drawnow(show_plot)"
   ]
  },
  {
   "cell_type": "code",
   "execution_count": null,
   "id": "b897196d",
   "metadata": {},
   "outputs": [],
   "source": [
    "# 3D surface\n",
    "fig = plt.figure(1)\n",
    "ax = fig.add_subplot(111,projection='3d')\n",
    "\n",
    "X = np.linspace(-np.pi, np.pi)\n",
    "Y = np.linspace(-np.pi, np.pi)\n",
    "sines = []\n",
    "cosines = []\n",
    "\n",
    "def show_plot():\n",
    "    # subplot 1\n",
    "    #fig.add_subplot(2,2,1)\n",
    "    plt.plot(angles,sines,label='Sine')\n",
    "    plt.plot(angles,cosines,label='Cosine')\n",
    "    plt.legend()\n",
    "    plt.grid()\n",
    "    plt.xlabel('Angles [deg]')\n",
    "    plt.ylabel('Value')\n",
    "    \n",
    "    # subplot 2\n",
    "    #fig.add_subplot(2,2,2)\n",
    "    #plt.plot(angles,cosines,label='Cosine')\n",
    "    #plt.legend()\n",
    "    #plt.grid()\n",
    "    #plt.xlabel('Angles [deg]')\n",
    "    #plt.ylabel('Value')\n",
    "    \n",
    "for x in np.linspace(0,np.pi*2,100):\n",
    "    angles = np.append(angles, x)\n",
    "    sines  = np.append(sines, np.sin(x))\n",
    "    cosines= np.append(cosines, np.cos(x))\n",
    "    \n",
    "    drawnow(show_plot)"
   ]
  },
  {
   "cell_type": "code",
   "execution_count": null,
   "id": "7be8fe38",
   "metadata": {},
   "outputs": [],
   "source": [
    "sizes = 11\n",
    "x = np.linspace(-np.pi, np.pi, sizes)\n",
    "X = np.tile(x,(sizes,1))\n",
    "Y = np.transpose(X)\n",
    "Z = np.random.rand(sizes,sizes)\n",
    "fig = plt.figure(1)\n",
    "ax = fig.add_subplot(111,projection='3d')\n",
    "ax.plot_surface(X,Y,Z)\n",
    "plt.show()"
   ]
  },
  {
   "cell_type": "code",
   "execution_count": 24,
   "id": "087926df",
   "metadata": {},
   "outputs": [],
   "source": [
    "sizes = 101\n",
    "x = np.linspace(-np.pi, np.pi, sizes)\n",
    "X = np.tile(x,(sizes,1))\n",
    "Y = np.transpose(X)\n",
    "Z = np.zeros((sizes,sizes),dtype='float')\n",
    "\n",
    "\n",
    "fig = plt.figure(1)\n",
    "\n",
    "def show_plot():\n",
    "    ax = fig.add_subplot(111,projection='3d')\n",
    "    ax.plot_surface(X,Y,Z)\n",
    "    ax.set_xlim((-np.pi,np.pi))\n",
    "    ax.set_ylim((-np.pi,np.pi))\n",
    "    ax.set_zlim((-1,1))\n",
    "    pan = 30\n",
    "    tilt = 60\n",
    "    ax.view_init(pan,tilt)\n",
    "    \n",
    "for now in np.linspace(0,2*np.pi,100):\n",
    "    \n",
    "    for ix in range(0,sizes):\n",
    "        for iy in range(0,sizes):\n",
    "            dist = np.sqrt(X[ix,iy]**2 + Y[ix,iy]**2)\n",
    "            Z[ix,iy] = np.cos((dist*3+now))*(1/(dist+1))\n",
    "            \n",
    "    drawnow(show_plot)"
   ]
  },
  {
   "cell_type": "code",
   "execution_count": null,
   "id": "22153d30",
   "metadata": {},
   "outputs": [],
   "source": []
  },
  {
   "cell_type": "code",
   "execution_count": null,
   "id": "f98f1c7c",
   "metadata": {},
   "outputs": [],
   "source": [
    "Z = np.zeros((sizes,sizes),dtype='float')\n",
    "Z[4,4] = 4"
   ]
  },
  {
   "cell_type": "code",
   "execution_count": null,
   "id": "419db7c9",
   "metadata": {},
   "outputs": [],
   "source": []
  }
 ],
 "metadata": {
  "kernelspec": {
   "display_name": "Python 3",
   "language": "python",
   "name": "python3"
  },
  "language_info": {
   "codemirror_mode": {
    "name": "ipython",
    "version": 3
   },
   "file_extension": ".py",
   "mimetype": "text/x-python",
   "name": "python",
   "nbconvert_exporter": "python",
   "pygments_lexer": "ipython3",
   "version": "3.7.10"
  }
 },
 "nbformat": 4,
 "nbformat_minor": 5
}
