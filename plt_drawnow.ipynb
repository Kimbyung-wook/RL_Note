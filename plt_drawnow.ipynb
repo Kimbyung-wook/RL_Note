{
 "cells": [
  {
   "cell_type": "code",
   "execution_count": 21,
   "id": "1c548542",
   "metadata": {},
   "outputs": [],
   "source": [
    "%matplotlib tk\n",
    "import matplotlib.pyplot as plt\n",
    "import numpy as np\n",
    "from drawnow import *"
   ]
  },
  {
   "cell_type": "code",
   "execution_count": 22,
   "id": "7a5221f9",
   "metadata": {},
   "outputs": [],
   "source": [
    "fig = plt.figure(num=1, figsize=[6,4],dpi=100)\n",
    "plt.tight_layout()\n",
    "plt.clf()\n",
    "x = np.linspace(0,np.pi*2,16)\n",
    "plt.subplot(2,2,(1,3))\n",
    "plt.plot(x,np.sin(x),color='blue',marker='*',linestyle='dashed',linewidth=2,label='Sine')\n",
    "plt.plot(x,np.cos(x),color='red',marker='p',linestyle='dotted',markersize=5,label='Cosine')\n",
    "plt.xlabel('Angles [deg]')\n",
    "plt.ylabel('Value')\n",
    "plt.xlim(0,2*np.pi)\n",
    "plt.ylim(-1,1)\n",
    "plt.title('Sine-Cosine')\n",
    "plt.legend(loc='best')\n",
    "plt.grid()\n",
    "\n",
    "plt.subplot(2,2,2)\n",
    "plt.plot(x,np.sin(x),'b*--',label='Sine')\n",
    "plt.xlabel('Angles [deg]')\n",
    "plt.ylabel('Value')\n",
    "plt.xlim(0,2*np.pi)\n",
    "plt.ylim(-1,1)\n",
    "plt.title('Sine')\n",
    "plt.grid()\n",
    "\n",
    "plt.subplot(2,2,4)\n",
    "plt.plot(x,np.cos(x),'rp:',label='Cosine')\n",
    "plt.xlabel('Angles [deg]')\n",
    "plt.ylabel('Value')\n",
    "plt.xlim(0,2*np.pi)\n",
    "plt.ylim(-1,1)\n",
    "plt.title('Cosine')\n",
    "plt.grid()"
   ]
  },
  {
   "cell_type": "code",
   "execution_count": 3,
   "id": "540457da",
   "metadata": {},
   "outputs": [],
   "source": [
    "# 2D graph\n",
    "fig = plt.figure(1)\n",
    "\n",
    ", figsize=[6,4]\n",
    "sines = []\n",
    "cosines = []\n",
    "\n",
    "def show_plot():\n",
    "    # subplot 1\n",
    "    #fig.add_subplot(2,2,1)\n",
    "    plt.plot(angles,sines,label='Sine')\n",
    "    plt.plot(angles,cosines,label='Cosine')\n",
    "    plt.legend(loc='best')\n",
    "    plt.grid()\n",
    "    plt.xlabel('Angles [deg]')\n",
    "    plt.ylabel('Value')\n",
    "    \n",
    "    # subplot 2\n",
    "    #fig.add_subplot(2,2,2)\n",
    "    #plt.plot(angles,cosines,label='Cosine')\n",
    "    #plt.legend()\n",
    "    #plt.grid()\n",
    "    #plt.xlabel('Angles [deg]')\n",
    "    #plt.ylabel('Value')\n",
    "    \n",
    "for x in np.linspace(0,np.pi*2,100):\n",
    "    angles = np.append(angles, x)\n",
    "    sines  = np.append(sines, np.sin(x))\n",
    "    cosines= np.append(cosines, np.cos(x))\n",
    "    \n",
    "    drawnow(show_plot)"
   ]
  },
  {
   "cell_type": "code",
   "execution_count": 1,
   "id": "b897196d",
   "metadata": {},
   "outputs": [
    {
     "output_type": "error",
     "ename": "NameError",
     "evalue": "name 'plt' is not defined",
     "traceback": [
      "\u001b[1;31m---------------------------------------------------------------------------\u001b[0m",
      "\u001b[1;31mNameError\u001b[0m                                 Traceback (most recent call last)",
      "\u001b[1;32m<ipython-input-1-37c257aaa8e1>\u001b[0m in \u001b[0;36m<module>\u001b[1;34m\u001b[0m\n\u001b[0;32m      1\u001b[0m \u001b[1;31m# 3D surface\u001b[0m\u001b[1;33m\u001b[0m\u001b[1;33m\u001b[0m\u001b[1;33m\u001b[0m\u001b[0m\n\u001b[1;32m----> 2\u001b[1;33m \u001b[0mfig\u001b[0m \u001b[1;33m=\u001b[0m \u001b[0mplt\u001b[0m\u001b[1;33m.\u001b[0m\u001b[0mfigure\u001b[0m\u001b[1;33m(\u001b[0m\u001b[1;36m1\u001b[0m\u001b[1;33m)\u001b[0m\u001b[1;33m\u001b[0m\u001b[1;33m\u001b[0m\u001b[0m\n\u001b[0m\u001b[0;32m      3\u001b[0m \u001b[0max\u001b[0m \u001b[1;33m=\u001b[0m \u001b[0mfig\u001b[0m\u001b[1;33m.\u001b[0m\u001b[0madd_subplot\u001b[0m\u001b[1;33m(\u001b[0m\u001b[1;36m111\u001b[0m\u001b[1;33m,\u001b[0m\u001b[0mprojection\u001b[0m\u001b[1;33m=\u001b[0m\u001b[1;34m'3d'\u001b[0m\u001b[1;33m)\u001b[0m\u001b[1;33m\u001b[0m\u001b[1;33m\u001b[0m\u001b[0m\n\u001b[0;32m      4\u001b[0m \u001b[1;33m\u001b[0m\u001b[0m\n\u001b[0;32m      5\u001b[0m \u001b[0mX\u001b[0m \u001b[1;33m=\u001b[0m \u001b[0mnp\u001b[0m\u001b[1;33m.\u001b[0m\u001b[0mlinspace\u001b[0m\u001b[1;33m(\u001b[0m\u001b[1;33m-\u001b[0m\u001b[0mnp\u001b[0m\u001b[1;33m.\u001b[0m\u001b[0mpi\u001b[0m\u001b[1;33m,\u001b[0m \u001b[0mnp\u001b[0m\u001b[1;33m.\u001b[0m\u001b[0mpi\u001b[0m\u001b[1;33m)\u001b[0m\u001b[1;33m\u001b[0m\u001b[1;33m\u001b[0m\u001b[0m\n",
      "\u001b[1;31mNameError\u001b[0m: name 'plt' is not defined"
     ]
    }
   ],
   "source": [
    "# 3D surface\n",
    "fig = plt.figure(1)\n",
    "ax = fig.add_subplot(111,projection='3d')\n",
    "\n",
    "X = np.linspace(-np.pi, np.pi)\n",
    "Y = np.linspace(-np.pi, np.pi)\n",
    "sines = []\n",
    "cosines = []\n",
    "\n",
    "def show_plot():\n",
    "    # subplot 1\n",
    "    #fig.add_subplot(2,2,1)\n",
    "    plt.plot(angles,sines,label='Sine')\n",
    "    plt.plot(angles,cosines,label='Cosine')\n",
    "    plt.legend()\n",
    "    plt.grid()\n",
    "    plt.xlabel('Angles [deg]')\n",
    "    plt.ylabel('Value')\n",
    "    \n",
    "    # subplot 2\n",
    "    #fig.add_subplot(2,2,2)\n",
    "    #plt.plot(angles,cosines,label='Cosine')\n",
    "    #plt.legend()\n",
    "    #plt.grid()\n",
    "    #plt.xlabel('Angles [deg]')\n",
    "    #plt.ylabel('Value')\n",
    "    \n",
    "for x in np.linspace(0,np.pi*2,100):\n",
    "    angles = np.append(angles, x)\n",
    "    sines  = np.append(sines, np.sin(x))\n",
    "    cosines= np.append(cosines, np.cos(x))\n",
    "    \n",
    "    drawnow(show_plot)"
   ]
  },
  {
   "cell_type": "code",
   "execution_count": null,
   "id": "7be8fe38",
   "metadata": {},
   "outputs": [],
   "source": [
    "sizes = 11\n",
    "x = np.linspace(-np.pi, np.pi, sizes)\n",
    "X = np.tile(x,(sizes,1))\n",
    "Y = np.transpose(X)\n",
    "Z = np.random.rand(sizes,sizes)\n",
    "fig = plt.figure(1)\n",
    "ax = fig.add_subplot(111,projection='3d')\n",
    "ax.plot_surface(X,Y,Z)\n",
    "plt.show()"
   ]
  },
  {
   "cell_type": "code",
   "execution_count": 24,
   "id": "087926df",
   "metadata": {},
   "outputs": [],
   "source": [
    "sizes = 101\n",
    "x = np.linspace(-np.pi, np.pi, sizes)\n",
    "X = np.tile(x,(sizes,1))\n",
    "Y = np.transpose(X)\n",
    "Z = np.zeros((sizes,sizes),dtype='float')\n",
    "\n",
    "\n",
    "fig = plt.figure(1)\n",
    "\n",
    "def show_plot():\n",
    "    ax = fig.add_subplot(111,projection='3d')\n",
    "    ax.plot_surface(X,Y,Z)\n",
    "    ax.set_xlim((-np.pi,np.pi))\n",
    "    ax.set_ylim((-np.pi,np.pi))\n",
    "    ax.set_zlim((-1,1))\n",
    "    pan = 30\n",
    "    tilt = 60\n",
    "    ax.view_init(pan,tilt)\n",
    "    \n",
    "for now in np.linspace(0,2*np.pi,100):\n",
    "    \n",
    "    for ix in range(0,sizes):\n",
    "        for iy in range(0,sizes):\n",
    "            dist = np.sqrt(X[ix,iy]**2 + Y[ix,iy]**2)\n",
    "            Z[ix,iy] = np.cos((dist*3+now))*(1/(dist+1))\n",
    "            \n",
    "    drawnow(show_plot)"
   ]
  },
  {
   "cell_type": "code",
   "execution_count": null,
   "id": "22153d30",
   "metadata": {},
   "outputs": [],
   "source": []
  },
  {
   "cell_type": "code",
   "execution_count": null,
   "id": "f98f1c7c",
   "metadata": {},
   "outputs": [],
   "source": [
    "Z = np.zeros((sizes,sizes),dtype='float')\n",
    "Z[4,4] = 4"
   ]
  },
  {
   "cell_type": "code",
   "execution_count": null,
   "id": "419db7c9",
   "metadata": {},
   "outputs": [],
   "source": []
  }
 ],
 "metadata": {
  "kernelspec": {
   "name": "python3",
   "display_name": "Python 3.7.9 64-bit ('TF240': conda)",
   "metadata": {
    "interpreter": {
     "hash": "8f237aa33f5a133d3a67a1e00bf3cb9d47b6c38bcc6ab493273f5d4df41b8866"
    }
   }
  },
  "language_info": {
   "codemirror_mode": {
    "name": "ipython",
    "version": 3
   },
   "file_extension": ".py",
   "mimetype": "text/x-python",
   "name": "python",
   "nbconvert_exporter": "python",
   "pygments_lexer": "ipython3",
   "version": "3.7.9"
  }
 },
 "nbformat": 4,
 "nbformat_minor": 5
}