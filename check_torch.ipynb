{
 "cells": [
  {
   "cell_type": "markdown",
   "source": [
    "pytorch version check"
   ],
   "metadata": {}
  },
  {
   "cell_type": "code",
   "execution_count": 1,
   "source": [
    "import torch\n",
    "torch_version = torch.__version__\n",
    "print('torch version : ',torch_version)\n",
    "device = torch.device('cuda' if torch.cuda.is_available() else 'cpu')\n",
    "print('Using device:', device)\n",
    "\n",
    "torch.cuda.device(0)\n",
    "print('How many device on this computer? : ',torch.cuda.device_count())\n",
    "print('What''s name? : ',torch.cuda.get_device_name(0))"
   ],
   "outputs": [
    {
     "output_type": "stream",
     "name": "stdout",
     "text": [
      "torch version :  1.7.1\n",
      "Using device: cuda\n",
      "How many device on this computer? :  1\n",
      "Whats name? :  GeForce RTX 2080 Ti\n"
     ]
    }
   ],
   "metadata": {}
  }
 ],
 "metadata": {
  "interpreter": {
   "hash": "6118e6533e0e8106c4bdaaba510209adda33fe67099dcf853d45649f228d19a8"
  },
  "kernelspec": {
   "name": "python3",
   "display_name": "Python 3.7.10 64-bit ('torch171': conda)"
  },
  "language_info": {
   "codemirror_mode": {
    "name": "ipython",
    "version": 3
   },
   "file_extension": ".py",
   "mimetype": "text/x-python",
   "name": "python",
   "nbconvert_exporter": "python",
   "pygments_lexer": "ipython3",
   "version": "3.7.10"
  },
  "orig_nbformat": 4
 },
 "nbformat": 4,
 "nbformat_minor": 2
}