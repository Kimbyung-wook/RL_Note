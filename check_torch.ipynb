{
 "cells": [
  {
   "cell_type": "markdown",
   "source": [
    "pytorch version check"
   ],
   "metadata": {}
  },
  {
   "cell_type": "code",
   "execution_count": null,
   "source": [
    "import torch\r\n",
    "print(torch.__version__)\r\n",
    "device = torch.device('cuda' if torch.cuda.is_available() else 'cpu')\r\n",
    "print('Using device:', device)\r\n",
    "\r\n",
    "torch.cuda.device(0)\r\n",
    "print('How many device on this computer? : ',torch.cuda.device_count())\r\n",
    "print('What''s name? : ',torch.cuda.get_device_name(0))"
   ],
   "outputs": [],
   "metadata": {}
  }
 ],
 "metadata": {
  "interpreter": {
   "hash": "ce7b8305ceff886bf31773e1faf134c14050c5d31d3bf8a82963d37ab34d6eb6"
  },
  "kernelspec": {
   "name": "python3",
   "display_name": "Python 3.7.10 64-bit ('torch190': conda)"
  },
  "language_info": {
   "codemirror_mode": {
    "name": "ipython",
    "version": 3
   },
   "file_extension": ".py",
   "mimetype": "text/x-python",
   "name": "python",
   "nbconvert_exporter": "python",
   "pygments_lexer": "ipython3",
   "version": "3.7.10"
  },
  "orig_nbformat": 4
 },
 "nbformat": 4,
 "nbformat_minor": 2
}