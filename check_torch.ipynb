{
 "cells": [
  {
   "cell_type": "markdown",
   "source": [
    "pytorch version check"
   ],
   "metadata": {}
  },
  {
   "cell_type": "code",
   "execution_count": null,
   "source": [
    "import torch\n",
    "torch_version = torch.__version__\n",
    "print('torch version : ',torch_version)\n",
    "device = torch.device('cuda' if torch.cuda.is_available() else 'cpu')\n",
    "print('Using device:', device)\n",
    "\n",
    "torch.cuda.device(0)\n",
    "print('How many device on this computer? : ',torch.cuda.device_count())\n",
    "print('What''s name? : ',torch.cuda.get_device_name(0))"
   ],
   "outputs": [],
   "metadata": {}
  }
 ],
 "metadata": {
  "interpreter": {
   "hash": "ce7b8305ceff886bf31773e1faf134c14050c5d31d3bf8a82963d37ab34d6eb6"
  },
  "kernelspec": {
   "name": "python3",
   "display_name": "Python 3.7.9 64-bit ('TORCH190': conda)",
   "metadata": {
    "interpreter": {
     "hash": "a62d03de4abdbf02f2c70aa26fad76bfe5b246d84e1d7929e4e42191e53d635f"
    }
   }
  },
  "language_info": {
   "codemirror_mode": {
    "name": "ipython",
    "version": 3
   },
   "file_extension": ".py",
   "mimetype": "text/x-python",
   "name": "python",
   "nbconvert_exporter": "python",
   "pygments_lexer": "ipython3",
   "version": "3.7.9"
  },
  "orig_nbformat": 4
 },
 "nbformat": 4,
 "nbformat_minor": 2
}