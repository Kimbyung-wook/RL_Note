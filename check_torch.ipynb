{
 "cells": [
  {
   "cell_type": "markdown",
   "source": [
    "pytorch version check"
   ],
   "metadata": {}
  },
  {
   "cell_type": "code",
   "execution_count": 1,
   "source": [
    "import torch\r\n",
    "torch_version = torch.__version__\r\n",
    "print('torch version : ',torch_version)\r\n",
    "device = torch.device('cuda' if torch.cuda.is_available() else 'cpu')\r\n",
    "print('Using device:', device)\r\n",
    "\r\n",
    "torch.cuda.device(0)\r\n",
    "print('How many device on this computer? : ',torch.cuda.device_count())\r\n",
    "print('What''s name? : ',torch.cuda.get_device_name(0))\r\n",
    "print(torch.cuda.get_arch_list())\r\n",
    "print(torch.cuda.get_device_properties(0))"
   ],
   "outputs": [
    {
     "output_type": "stream",
     "name": "stdout",
     "text": [
      "torch version :  1.7.1\n",
      "Using device: cuda\n",
      "How many device on this computer? :  1\n",
      "Whats name? :  NVIDIA GeForce RTX 3080\n",
      "['sm_37', 'sm_50', 'sm_60', 'sm_61', 'sm_70', 'sm_75', 'sm_80', 'compute_37']\n",
      "_CudaDeviceProperties(name='NVIDIA GeForce RTX 3080', major=8, minor=6, total_memory=10240MB, multi_processor_count=68)\n"
     ]
    }
   ],
   "metadata": {}
  },
  {
   "cell_type": "code",
   "execution_count": null,
   "source": [],
   "outputs": [],
   "metadata": {}
  }
 ],
 "metadata": {
  "interpreter": {
   "hash": "2fc4726c4e8dec621a065936965132b4aa35ee031f1212de9f22310f28c2605b"
  },
  "kernelspec": {
   "name": "python3",
   "display_name": "Python 3.7.10 64-bit ('torch171': conda)"
  },
  "language_info": {
   "codemirror_mode": {
    "name": "ipython",
    "version": 3
   },
   "file_extension": ".py",
   "mimetype": "text/x-python",
   "name": "python",
   "nbconvert_exporter": "python",
   "pygments_lexer": "ipython3",
   "version": "3.7.10"
  },
  "orig_nbformat": 4
 },
 "nbformat": 4,
 "nbformat_minor": 2
}