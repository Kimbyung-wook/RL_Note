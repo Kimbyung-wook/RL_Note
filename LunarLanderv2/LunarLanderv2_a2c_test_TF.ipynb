{
 "cells": [
  {
   "cell_type": "code",
   "execution_count": 1,
   "source": [
    "import gym\r\n",
    "import sys\r\n",
    "import random\r\n",
    "import numpy as np\r\n",
    "import tensorflow as tf\r\n",
    "from tensorflow.keras.layers import Dense\r\n",
    "from collections import deque\r\n",
    "import matplotlib.pyplot as plt"
   ],
   "outputs": [],
   "metadata": {}
  },
  {
   "cell_type": "code",
   "execution_count": 2,
   "source": [
    "class A2C(tf.keras.Model):\r\n",
    "    def __init__(self, state_size, action_size):\r\n",
    "        super(A2C, self).__init__()\r\n",
    "        self.fc1 = Dense(64, activation='relu')\r\n",
    "        self.fc2 = Dense(64, activation='relu')\r\n",
    "        self.actor  = Dense(action_size, activation='softmax',\r\n",
    "                                        kernel_initializer=tf.keras.initializers.RandomUniform(-1e-3,1e-3))\r\n",
    "        self.critic = Dense(1,\r\n",
    "                                        kernel_initializer=tf.keras.initializers.RandomUniform(-1e-3,1e-3))\r\n",
    "        \r\n",
    "    def call(self, x):\r\n",
    "        x      = self.fc1(x)\r\n",
    "        x      = self.fc2(x)\r\n",
    "        policy = self.actor(x)\r\n",
    "        value  = self.critic(x)\r\n",
    "        return policy, value"
   ],
   "outputs": [],
   "metadata": {}
  },
  {
   "cell_type": "code",
   "execution_count": 3,
   "source": [
    "class A2CAgent:\r\n",
    "    def __init__(self, state_size, action_size):\r\n",
    "        self.state_size = state_size\r\n",
    "        self.action_size= action_size\r\n",
    "        \r\n",
    "        self.model = A2C(self.state_size,self.action_size)\r\n",
    "        self.model.load_weights(\"./save_model/LunarLanderv2_a2c_TF\")\r\n",
    "        \r\n",
    "    def get_action(self, state):\r\n",
    "        policy, _ = self.model(state)\r\n",
    "        policy = np.array(policy[0])\r\n",
    "        return np.random.choice(self.action_size, 1, p=policy)[0]\r\n",
    "        \r\n",
    "    def get_loss(self, state, action, reward, next_state, done):\r\n",
    "        model_params = self.model.trainable_variables\r\n",
    "        policy, value      = self.model(state)\r\n",
    "        _,      next_value = self.model(next_state)\r\n",
    "        target = reward + (1 - done) * self.discount_factor * next_value[0]\r\n",
    "\r\n",
    "        # For policy network\r\n",
    "        one_hot_action = tf.one_hot([action], self.action_size)\r\n",
    "        action_prob = tf.reduce_sum(one_hot_action * policy, axis=1)\r\n",
    "        cross_entropy = - tf.math.log(action_prob + 1e-5)\r\n",
    "        advantage = tf.stop_gradient(target - value[0])\r\n",
    "        actor_loss = tf.reduce_mean(cross_entropy * advantage)\r\n",
    "\r\n",
    "        # For value network\r\n",
    "        critic_loss = 0.5 * tf.square(tf.stop_gradient(target) - value[0])\r\n",
    "        critic_loss = tf.reduce_mean(critic_loss)\r\n",
    "\r\n",
    "        # integrate losses\r\n",
    "        loss = 0.2 * actor_loss + critic_loss\r\n",
    "            \r\n",
    "        return np.array(loss)"
   ],
   "outputs": [],
   "metadata": {}
  },
  {
   "cell_type": "code",
   "execution_count": 4,
   "source": [
    "%matplotlib tk\r\n",
    "if __name__ == \"__main__\":\r\n",
    "    env = gym.make('CartPole-v1')\r\n",
    "    state_size = env.observation_space.shape[0]\r\n",
    "    action_size = env.action_space.n\r\n",
    "\r\n",
    "    agent = A2CAgent(state_size, action_size)\r\n",
    "\r\n",
    "    scores, episodes, losses = [], [], []\r\n",
    "    score_avg = 0\r\n",
    "    \r\n",
    "    num_episode = 10\r\n",
    "    for e in range(num_episode):\r\n",
    "        # Episode initialization\r\n",
    "        done = False\r\n",
    "        score = 0\r\n",
    "        loss_list = []\r\n",
    "        \r\n",
    "        state = env.reset()\r\n",
    "        state = np.reshape(state, [1, state_size])\r\n",
    "        \r\n",
    "        while not done:\r\n",
    "            env.render()\r\n",
    "\r\n",
    "            # Interact with env.\r\n",
    "            action = agent.get_action(state)\r\n",
    "            next_state, reward, done, info = env.step(action)\r\n",
    "            next_state = np.reshape(next_state, [1, state_size])\r\n",
    "            loss = agent.get_loss(state, action, reward, next_state, done)\r\n",
    "            state = next_state\r\n",
    "\r\n",
    "            # \r\n",
    "            score += reward\r\n",
    "            loss_list.append(loss)\r\n",
    "            if done:\r\n",
    "                print('epi: {:3d} | score {:3.2f} | loss {:.4f}'\r\n",
    "                      .format(e+1, score, tf.reduce_mean(loss_list)))\r\n",
    "                scores = np.append(scores,score)\r\n",
    "                losses.append(tf.reduce_mean(loss_list))\r\n",
    "    print('Avg. score {:4.2f}, Avg. loss {:.4f}'.\r\n",
    "          format(tf.reduce_mean(scores), tf.reduce_mean(losses)))\r\n",
    "    env.close()     "
   ],
   "outputs": [
    {
     "output_type": "stream",
     "name": "stdout",
     "text": [
      "epi:   1 | score 500.00 | loss 0.6772\n",
      "epi:   2 | score 500.00 | loss 0.6793\n",
      "epi:   3 | score 500.00 | loss 0.6811\n",
      "epi:   4 | score 500.00 | loss 0.6810\n",
      "epi:   5 | score 500.00 | loss 0.6740\n",
      "epi:   6 | score 500.00 | loss 0.6774\n",
      "epi:   7 | score 500.00 | loss 0.6818\n",
      "epi:   8 | score 500.00 | loss 0.6815\n",
      "epi:   9 | score 500.00 | loss 0.6844\n",
      "epi:  10 | score 500.00 | loss 0.6720\n",
      "Avg. score 500.00, Avg. loss 0.6790\n"
     ]
    }
   ],
   "metadata": {}
  },
  {
   "cell_type": "code",
   "execution_count": null,
   "source": [],
   "outputs": [],
   "metadata": {}
  }
 ],
 "metadata": {
  "interpreter": {
   "hash": "b3ba2566441a7c06988d0923437866b63cedc61552a5af99d1f4fb67d367b25f"
  },
  "kernelspec": {
   "display_name": "Python 3.8.8 64-bit ('base': conda)",
   "name": "python3"
  },
  "language_info": {
   "name": "python",
   "version": ""
  }
 },
 "nbformat": 4,
 "nbformat_minor": 5
}