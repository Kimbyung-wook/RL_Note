{
 "cells": [
  {
   "cell_type": "code",
   "execution_count": 7,
   "id": "2beffd67",
   "metadata": {},
   "outputs": [
    {
     "output_type": "stream",
     "name": "stdout",
     "text": [
      "DEVICE :  cuda\n"
     ]
    }
   ],
   "source": [
    "import torch\n",
    "import random\n",
    "device = torch.device('cuda' if torch.cuda.is_available() else 'cpu')\n",
    "print(\"DEVICE : \", device)"
   ]
  },
  {
   "cell_type": "code",
   "execution_count": 14,
   "metadata": {},
   "outputs": [
    {
     "output_type": "execute_result",
     "data": {
      "text/plain": [
       "0"
      ]
     },
     "metadata": {},
     "execution_count": 14
    }
   ],
   "source": [
    "torch.tensor([[random.randrange(2)]],device=device,dtype=torch.long).item()"
   ]
  },
  {
   "cell_type": "code",
   "execution_count": 28,
   "metadata": {},
   "outputs": [
    {
     "output_type": "stream",
     "name": "stdout",
     "text": [
      "tensor([[[21., 22.]],\n\n        [[23., 24.]]])\ntorch.Size([2, 1, 2])\ntensor([[21., 22.],\n        [23., 24.]])\ntorch.Size([2, 1, 2])\ntensor([[21., 22.],\n        [23., 24.]])\ntorch.Size([2, 2])\n"
     ]
    }
   ],
   "source": [
    "tmp = torch.FloatTensor([[[21, 22]],[[23, 24]]])\n",
    "print(tmp)\n",
    "print(tmp.size())\n",
    "tmp = tmp.squeeze(1)\n",
    "print(tmp)\n",
    "print(tmp.size())\n",
    "print(tmp.max(1)[0])\n",
    "print(tmp.max(1)[0].size())"
   ]
  },
  {
   "cell_type": "code",
   "execution_count": null,
   "metadata": {},
   "outputs": [],
   "source": []
  }
 ],
 "metadata": {
  "kernelspec": {
   "name": "python3",
   "display_name": "Python 3.7.9 64-bit ('TORCH190': conda)",
   "metadata": {
    "interpreter": {
     "hash": "a62d03de4abdbf02f2c70aa26fad76bfe5b246d84e1d7929e4e42191e53d635f"
    }
   }
  },
  "language_info": {
   "codemirror_mode": {
    "name": "ipython",
    "version": 3
   },
   "file_extension": ".py",
   "mimetype": "text/x-python",
   "name": "python",
   "nbconvert_exporter": "python",
   "pygments_lexer": "ipython3",
   "version": "3.7.9"
  }
 },
 "nbformat": 4,
 "nbformat_minor": 5
}