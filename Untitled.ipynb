{
 "cells": [
  {
   "cell_type": "code",
   "execution_count": 30,
   "id": "2beffd67",
   "metadata": {},
   "outputs": [
    {
     "output_type": "stream",
     "name": "stdout",
     "text": [
      "DEVICE :  cuda\n"
     ]
    }
   ],
   "source": [
    "import torch\n",
    "import random\n",
    "device = torch.device('cuda' if torch.cuda.is_available() else 'cpu')\n",
    "print(\"DEVICE : \", device)"
   ]
  },
  {
   "cell_type": "code",
   "execution_count": 14,
   "metadata": {},
   "outputs": [
    {
     "output_type": "execute_result",
     "data": {
      "text/plain": [
       "0"
      ]
     },
     "metadata": {},
     "execution_count": 14
    }
   ],
   "source": [
    "torch.tensor([[random.randrange(2)]],device=device,dtype=torch.long).item()"
   ]
  },
  {
   "cell_type": "code",
   "execution_count": 29,
   "metadata": {},
   "outputs": [
    {
     "output_type": "stream",
     "name": "stdout",
     "text": [
      "tensor([[[21., 22.]],\n\n        [[23., 24.]]])\ntorch.Size([2, 1, 2])\ntensor([[21., 22.],\n        [23., 24.]])\ntorch.Size([2, 2])\ntensor([22., 24.])\ntorch.Size([2])\n"
     ]
    }
   ],
   "source": [
    "tmp = torch.FloatTensor([[[21, 22]],[[23, 24]]])\n",
    "print(tmp)\n",
    "print(tmp.size())\n",
    "tmp = tmp.squeeze(1)\n",
    "print(tmp)\n",
    "print(tmp.size())\n",
    "print(tmp.max(1)[0])\n",
    "print(tmp.max(1)[0].size())"
   ]
  },
  {
   "cell_type": "code",
   "execution_count": 35,
   "metadata": {},
   "outputs": [
    {
     "output_type": "execute_result",
     "data": {
      "text/plain": [
       "tensor([[0]])"
      ]
     },
     "metadata": {},
     "execution_count": 35
    }
   ],
   "source": [
    "1 - torch.LongTensor([[1]])"
   ]
  },
  {
   "cell_type": "code",
   "execution_count": null,
   "metadata": {},
   "outputs": [],
   "source": [
    "%matplotlib tk\n",
    "import numpy as np\n",
    "import matplotlib.pyplot as plt\n",
    "action_min = -1\n",
    "action_max = 5\n",
    "action_space_length = action_max - action_min\n",
    "actions = np.linspace(-1.0,1.0)\n",
    "action_in = actions\n",
    "action_out = ((action_space_length / 2.0) * (action_in + 1.0)) + action_min\n",
    "plt.plot(actions, action_in)\n",
    "plt.plot(actions, action_out)"
   ]
  }
 ],
 "metadata": {
  "kernelspec": {
   "name": "python3",
   "display_name": "Python 3.7.9 64-bit ('TORCH190': conda)",
   "metadata": {
    "interpreter": {
     "hash": "a62d03de4abdbf02f2c70aa26fad76bfe5b246d84e1d7929e4e42191e53d635f"
    }
   }
  },
  "language_info": {
   "codemirror_mode": {
    "name": "ipython",
    "version": 3
   },
   "file_extension": ".py",
   "mimetype": "text/x-python",
   "name": "python",
   "nbconvert_exporter": "python",
   "pygments_lexer": "ipython3",
   "version": "3.7.9"
  }
 },
 "nbformat": 4,
 "nbformat_minor": 5
}