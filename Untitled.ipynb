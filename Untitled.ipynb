{
 "cells": [
  {
   "cell_type": "code",
   "execution_count": 30,
   "source": [
    "import torch\r\n",
    "import random\r\n",
    "device = torch.device('cuda' if torch.cuda.is_available() else 'cpu')\r\n",
    "print(\"DEVICE : \", device)"
   ],
   "outputs": [
    {
     "output_type": "stream",
     "name": "stdout",
     "text": [
      "DEVICE :  cuda\n"
     ]
    }
   ],
   "metadata": {}
  },
  {
   "cell_type": "code",
   "execution_count": 14,
   "source": [
    "torch.tensor([[random.randrange(2)]],device=device,dtype=torch.long).item()"
   ],
   "outputs": [
    {
     "output_type": "execute_result",
     "data": {
      "text/plain": [
       "0"
      ]
     },
     "metadata": {},
     "execution_count": 14
    }
   ],
   "metadata": {}
  },
  {
   "cell_type": "code",
   "execution_count": 29,
   "source": [
    "tmp = torch.FloatTensor([[[21, 22]],[[23, 24]]])\r\n",
    "print(tmp)\r\n",
    "print(tmp.size())\r\n",
    "tmp = tmp.squeeze(1)\r\n",
    "print(tmp)\r\n",
    "print(tmp.size())\r\n",
    "print(tmp.max(1)[0])\r\n",
    "print(tmp.max(1)[0].size())"
   ],
   "outputs": [
    {
     "output_type": "stream",
     "name": "stdout",
     "text": [
      "tensor([[[21., 22.]],\n",
      "\n",
      "        [[23., 24.]]])\n",
      "torch.Size([2, 1, 2])\n",
      "tensor([[21., 22.],\n",
      "        [23., 24.]])\n",
      "torch.Size([2, 2])\n",
      "tensor([22., 24.])\n",
      "torch.Size([2])\n"
     ]
    }
   ],
   "metadata": {}
  },
  {
   "cell_type": "code",
   "execution_count": 35,
   "source": [
    "1 - torch.LongTensor([[1]])"
   ],
   "outputs": [
    {
     "output_type": "execute_result",
     "data": {
      "text/plain": [
       "tensor([[0]])"
      ]
     },
     "metadata": {},
     "execution_count": 35
    }
   ],
   "metadata": {}
  },
  {
   "cell_type": "code",
   "execution_count": null,
   "source": [
    "%matplotlib tk\r\n",
    "import numpy as np\r\n",
    "import matplotlib.pyplot as plt\r\n",
    "action_min = -1\r\n",
    "action_max = 5\r\n",
    "action_space_length = action_max - action_min\r\n",
    "actions = np.linspace(-1.0,1.0)\r\n",
    "action_in = actions\r\n",
    "action_out = ((action_space_length / 2.0) * (action_in + 1.0)) + action_min\r\n",
    "plt.plot(actions, action_in)\r\n",
    "plt.plot(actions, action_out)"
   ],
   "outputs": [],
   "metadata": {}
  },
  {
   "cell_type": "code",
   "execution_count": null,
   "source": [
    "import numpy as np\r\n",
    "\r\n",
    "print(np.random.random(4))"
   ],
   "outputs": [],
   "metadata": {}
  },
  {
   "cell_type": "code",
   "execution_count": 1,
   "source": [
    "import tensorflow as tf\r\n",
    "print(tf.zeros(1))"
   ],
   "outputs": [
    {
     "output_type": "stream",
     "name": "stdout",
     "text": [
      "tf.Tensor([0.], shape=(1,), dtype=float32)\n"
     ]
    }
   ],
   "metadata": {}
  },
  {
   "cell_type": "code",
   "execution_count": 3,
   "source": [
    "%matplotlib tk\r\n",
    "import numpy as np\r\n",
    "import matplotlib.pyplot as plt\r\n",
    "\r\n",
    "init_reward = 100.0\r\n",
    "time = range(0,10)\r\n",
    "reward = np.zeros(np.shape(time),dtype=np.float32)\r\n",
    "for i in time:\r\n",
    "    if i >= 3:\r\n",
    "        reward[i] = init_reward / (i - 2)\r\n",
    "    else:\r\n",
    "        reward[i] = 0.0\r\n",
    "\r\n",
    "plt.plot(time,reward)\r\n",
    "plt.grid()\r\n",
    "plt.xticks(time)\r\n",
    "plt.xlabel('time [sec]')\r\n",
    "plt.ylabel('reward from lifetime')\r\n"
   ],
   "outputs": [
    {
     "output_type": "execute_result",
     "data": {
      "text/plain": [
       "Text(0, 0.5, 'reward from lifetime')"
      ]
     },
     "metadata": {},
     "execution_count": 3
    },
    {
     "output_type": "stream",
     "name": "stderr",
     "text": [
      "C:\\Users\\user\\.conda\\envs\\tf240\\lib\\site-packages\\ipykernel\\eventloops.py:256: RuntimeWarning: coroutine 'Kernel.do_one_iteration' was never awaited\n",
      "  self.func()\n",
      "RuntimeWarning: Enable tracemalloc to get the object allocation traceback\n"
     ]
    }
   ],
   "metadata": {}
  },
  {
   "cell_type": "code",
   "execution_count": 8,
   "source": [
    "import tensorflow as tf\r\n",
    "import numpy as np\r\n",
    "tmp = np.array([2],dtype=np.float32)\r\n",
    "print('tmp ',tmp)\r\n",
    "tmp1 = tf.convert_to_tensor(tmp,dtype=tf.float32)\r\n",
    "print('tmp1 ',tmp1)\r\n",
    "tmp2 = tf.reduce_sum(tmp1)\r\n",
    "print('tmp2 ',tmp2)"
   ],
   "outputs": [
    {
     "output_type": "stream",
     "name": "stdout",
     "text": [
      "tmp  [2.]\n",
      "tmp1  tf.Tensor([2.], shape=(1,), dtype=float32)\n",
      "tmp2  tf.Tensor(2.0, shape=(), dtype=float32)\n"
     ]
    }
   ],
   "metadata": {}
  },
  {
   "cell_type": "code",
   "execution_count": 6,
   "source": [
    "tmp = [(1,2,3,4)]\r\n",
    "tmp[0][0:3]"
   ],
   "outputs": [
    {
     "output_type": "execute_result",
     "data": {
      "text/plain": [
       "(1, 2, 3)"
      ]
     },
     "metadata": {},
     "execution_count": 6
    }
   ],
   "metadata": {}
  },
  {
   "cell_type": "code",
   "execution_count": 1,
   "source": [
    "import numpy as np\r\n",
    "\r\n",
    "tmp = np.array([[1,2,3],[5,3,1]],dtype=np.float32)\r\n",
    "print(tmp)\r\n",
    "maxis = np.amax(tmp)\r\n",
    "print(maxis)"
   ],
   "outputs": [],
   "metadata": {}
  },
  {
   "cell_type": "code",
   "execution_count": 3,
   "source": [
    "def plus(number:int):\r\n",
    "    return number + 1\r\n",
    "def subtract(number:int):\r\n",
    "    return number - 1\r\n",
    "\r\n",
    "def some_operation(number:int, operation):\r\n",
    "    number = operation(number)\r\n",
    "    return number\r\n",
    "\r\n",
    "i = 1\r\n",
    "print('i : ',i)\r\n",
    "i = some_operation(i,plus)\r\n",
    "print('i : ',i)\r\n",
    "i = some_operation(i,subtract)\r\n",
    "print('i : ',i)\r\n",
    "i = some_operation(i,subtract)\r\n",
    "print('i : ',i)\r\n",
    "i = some_operation(i,plus)\r\n",
    "print('i : ',i)"
   ],
   "outputs": [
    {
     "output_type": "stream",
     "name": "stdout",
     "text": [
      "i :  1\n",
      "i :  2\n",
      "i :  1\n",
      "i :  0\n",
      "i :  1\n"
     ]
    }
   ],
   "metadata": {}
  },
  {
   "cell_type": "code",
   "execution_count": 1,
   "source": [],
   "outputs": [
    {
     "output_type": "error",
     "ename": "NameError",
     "evalue": "name 'env_configs' is not defined",
     "traceback": [
      "\u001b[1;31m---------------------------------------------------------------------------\u001b[0m",
      "\u001b[1;31mNameError\u001b[0m                                 Traceback (most recent call last)",
      "\u001b[1;32m<ipython-input-1-abc7b1de9ac4>\u001b[0m in \u001b[0;36m<module>\u001b[1;34m\u001b[0m\n\u001b[0;32m     11\u001b[0m         \u001b[1;34m\"BATCH_SIZE\"\u001b[0m\u001b[1;33m:\u001b[0m\u001b[1;36m32\u001b[0m\u001b[1;33m,\u001b[0m\u001b[0;31m\\\u001b[0m\u001b[1;33m\u001b[0m\u001b[1;33m\u001b[0m\u001b[0m\n\u001b[0;32m     12\u001b[0m         }\n\u001b[1;32m---> 13\u001b[1;33m \u001b[0menv_config\u001b[0m \u001b[1;33m=\u001b[0m \u001b[0menv_configs\u001b[0m\u001b[1;33m[\u001b[0m\u001b[0mcfg\u001b[0m\u001b[1;33m[\u001b[0m\u001b[1;34m\"ENV\"\u001b[0m\u001b[1;33m]\u001b[0m\u001b[1;33m]\u001b[0m\u001b[1;33m\u001b[0m\u001b[1;33m\u001b[0m\u001b[0m\n\u001b[0m\u001b[0;32m     14\u001b[0m \u001b[1;32mif\u001b[0m \u001b[0mcfg\u001b[0m\u001b[1;33m[\u001b[0m\u001b[1;34m\"ER\"\u001b[0m\u001b[1;33m]\u001b[0m \u001b[1;33m==\u001b[0m \u001b[1;34m\"HER\"\u001b[0m\u001b[1;33m:\u001b[0m\u001b[1;33m\u001b[0m\u001b[1;33m\u001b[0m\u001b[0m\n\u001b[0;32m     15\u001b[0m     \u001b[0mFILENAME\u001b[0m \u001b[1;33m=\u001b[0m \u001b[0mcfg\u001b[0m\u001b[1;33m[\u001b[0m\u001b[1;34m\"ENV\"\u001b[0m\u001b[1;33m]\u001b[0m \u001b[1;33m+\u001b[0m \u001b[1;34m'_'\u001b[0m \u001b[1;33m+\u001b[0m \u001b[0mcfg\u001b[0m\u001b[1;33m[\u001b[0m\u001b[1;34m\"RL\"\u001b[0m\u001b[1;33m]\u001b[0m \u001b[1;33m+\u001b[0m \u001b[1;34m'_'\u001b[0m \u001b[1;33m+\u001b[0m \u001b[0mcfg\u001b[0m\u001b[1;33m[\u001b[0m\u001b[1;34m\"ER\"\u001b[0m\u001b[1;33m]\u001b[0m\u001b[1;33m\u001b[0m\u001b[1;33m\u001b[0m\u001b[0m\n",
      "\u001b[1;31mNameError\u001b[0m: name 'env_configs' is not defined"
     ]
    }
   ],
   "metadata": {}
  },
  {
   "cell_type": "code",
   "execution_count": null,
   "metadata": {},
   "outputs": [],
   "source": []
  }
 ],
 "metadata": {
  "kernelspec": {
   "name": "python3",
   "display_name": "Python 3",
   "language": "python"
  },
  "language_info": {
   "codemirror_mode": {
    "name": "ipython",
    "version": 3
   },
   "file_extension": ".py",
   "mimetype": "text/x-python",
   "name": "python",
   "nbconvert_exporter": "python",
   "pygments_lexer": "ipython3",
   "version": "3.8.8"
  },
  "interpreter": {
   "hash": "f7f3f20f7907c4d59130059bf0ac4ad20e77f96568ae424e1dedda78aa67e631"
  }
 },
 "nbformat": 4,
 "nbformat_minor": 5
}